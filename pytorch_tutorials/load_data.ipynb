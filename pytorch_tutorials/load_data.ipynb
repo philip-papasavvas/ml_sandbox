{
  "nbformat": 4,
  "nbformat_minor": 0,
  "metadata": {
    "colab": {
      "name": "Load_data_pyTorch.ipynb",
      "provenance": [],
      "collapsed_sections": [],
      "authorship_tag": "ABX9TyPR6Z0G6vaRwaVPBszUumM+",
      "include_colab_link": true
    },
    "kernelspec": {
      "name": "python3",
      "display_name": "Python 3"
    },
    "widgets": {
      "application/vnd.jupyter.widget-state+json": {
        "90b723f16e464f22ae059e19ae9fea48": {
          "model_module": "@jupyter-widgets/controls",
          "model_name": "HBoxModel",
          "state": {
            "_view_name": "HBoxView",
            "_dom_classes": [],
            "_model_name": "HBoxModel",
            "_view_module": "@jupyter-widgets/controls",
            "_model_module_version": "1.5.0",
            "_view_count": null,
            "_view_module_version": "1.5.0",
            "box_style": "",
            "layout": "IPY_MODEL_48768f418f084c35a55c212c3999612b",
            "_model_module": "@jupyter-widgets/controls",
            "children": [
              "IPY_MODEL_7615b5d242ef46fba9941d0d4e095f5b",
              "IPY_MODEL_d07620761fe14046908e7e8fd584f319"
            ]
          }
        },
        "48768f418f084c35a55c212c3999612b": {
          "model_module": "@jupyter-widgets/base",
          "model_name": "LayoutModel",
          "state": {
            "_view_name": "LayoutView",
            "grid_template_rows": null,
            "right": null,
            "justify_content": null,
            "_view_module": "@jupyter-widgets/base",
            "overflow": null,
            "_model_module_version": "1.2.0",
            "_view_count": null,
            "flex_flow": null,
            "width": null,
            "min_width": null,
            "border": null,
            "align_items": null,
            "bottom": null,
            "_model_module": "@jupyter-widgets/base",
            "top": null,
            "grid_column": null,
            "overflow_y": null,
            "overflow_x": null,
            "grid_auto_flow": null,
            "grid_area": null,
            "grid_template_columns": null,
            "flex": null,
            "_model_name": "LayoutModel",
            "justify_items": null,
            "grid_row": null,
            "max_height": null,
            "align_content": null,
            "visibility": null,
            "align_self": null,
            "height": null,
            "min_height": null,
            "padding": null,
            "grid_auto_rows": null,
            "grid_gap": null,
            "max_width": null,
            "order": null,
            "_view_module_version": "1.2.0",
            "grid_template_areas": null,
            "object_position": null,
            "object_fit": null,
            "grid_auto_columns": null,
            "margin": null,
            "display": null,
            "left": null
          }
        },
        "7615b5d242ef46fba9941d0d4e095f5b": {
          "model_module": "@jupyter-widgets/controls",
          "model_name": "FloatProgressModel",
          "state": {
            "_view_name": "ProgressView",
            "style": "IPY_MODEL_cd38c7c69b73410eb2195d30fd4c2314",
            "_dom_classes": [],
            "description": "100%",
            "_model_name": "FloatProgressModel",
            "bar_style": "success",
            "max": 4703754,
            "_view_module": "@jupyter-widgets/controls",
            "_model_module_version": "1.5.0",
            "value": 4703754,
            "_view_count": null,
            "_view_module_version": "1.5.0",
            "orientation": "horizontal",
            "min": 0,
            "description_tooltip": null,
            "_model_module": "@jupyter-widgets/controls",
            "layout": "IPY_MODEL_a89c64c220c64dd482ac7f627953728c"
          }
        },
        "d07620761fe14046908e7e8fd584f319": {
          "model_module": "@jupyter-widgets/controls",
          "model_name": "HTMLModel",
          "state": {
            "_view_name": "HTMLView",
            "style": "IPY_MODEL_63d185d5168243ff929017e2111c9801",
            "_dom_classes": [],
            "description": "",
            "_model_name": "HTMLModel",
            "placeholder": "​",
            "_view_module": "@jupyter-widgets/controls",
            "_model_module_version": "1.5.0",
            "value": " 4.49M/4.49M [00:02&lt;00:00, 2.20MB/s]",
            "_view_count": null,
            "_view_module_version": "1.5.0",
            "description_tooltip": null,
            "_model_module": "@jupyter-widgets/controls",
            "layout": "IPY_MODEL_4c7984c8af3341598b7145ad9bc02e18"
          }
        },
        "cd38c7c69b73410eb2195d30fd4c2314": {
          "model_module": "@jupyter-widgets/controls",
          "model_name": "ProgressStyleModel",
          "state": {
            "_view_name": "StyleView",
            "_model_name": "ProgressStyleModel",
            "description_width": "initial",
            "_view_module": "@jupyter-widgets/base",
            "_model_module_version": "1.5.0",
            "_view_count": null,
            "_view_module_version": "1.2.0",
            "bar_color": null,
            "_model_module": "@jupyter-widgets/controls"
          }
        },
        "a89c64c220c64dd482ac7f627953728c": {
          "model_module": "@jupyter-widgets/base",
          "model_name": "LayoutModel",
          "state": {
            "_view_name": "LayoutView",
            "grid_template_rows": null,
            "right": null,
            "justify_content": null,
            "_view_module": "@jupyter-widgets/base",
            "overflow": null,
            "_model_module_version": "1.2.0",
            "_view_count": null,
            "flex_flow": null,
            "width": null,
            "min_width": null,
            "border": null,
            "align_items": null,
            "bottom": null,
            "_model_module": "@jupyter-widgets/base",
            "top": null,
            "grid_column": null,
            "overflow_y": null,
            "overflow_x": null,
            "grid_auto_flow": null,
            "grid_area": null,
            "grid_template_columns": null,
            "flex": null,
            "_model_name": "LayoutModel",
            "justify_items": null,
            "grid_row": null,
            "max_height": null,
            "align_content": null,
            "visibility": null,
            "align_self": null,
            "height": null,
            "min_height": null,
            "padding": null,
            "grid_auto_rows": null,
            "grid_gap": null,
            "max_width": null,
            "order": null,
            "_view_module_version": "1.2.0",
            "grid_template_areas": null,
            "object_position": null,
            "object_fit": null,
            "grid_auto_columns": null,
            "margin": null,
            "display": null,
            "left": null
          }
        },
        "63d185d5168243ff929017e2111c9801": {
          "model_module": "@jupyter-widgets/controls",
          "model_name": "DescriptionStyleModel",
          "state": {
            "_view_name": "StyleView",
            "_model_name": "DescriptionStyleModel",
            "description_width": "",
            "_view_module": "@jupyter-widgets/base",
            "_model_module_version": "1.5.0",
            "_view_count": null,
            "_view_module_version": "1.2.0",
            "_model_module": "@jupyter-widgets/controls"
          }
        },
        "4c7984c8af3341598b7145ad9bc02e18": {
          "model_module": "@jupyter-widgets/base",
          "model_name": "LayoutModel",
          "state": {
            "_view_name": "LayoutView",
            "grid_template_rows": null,
            "right": null,
            "justify_content": null,
            "_view_module": "@jupyter-widgets/base",
            "overflow": null,
            "_model_module_version": "1.2.0",
            "_view_count": null,
            "flex_flow": null,
            "width": null,
            "min_width": null,
            "border": null,
            "align_items": null,
            "bottom": null,
            "_model_module": "@jupyter-widgets/base",
            "top": null,
            "grid_column": null,
            "overflow_y": null,
            "overflow_x": null,
            "grid_auto_flow": null,
            "grid_area": null,
            "grid_template_columns": null,
            "flex": null,
            "_model_name": "LayoutModel",
            "justify_items": null,
            "grid_row": null,
            "max_height": null,
            "align_content": null,
            "visibility": null,
            "align_self": null,
            "height": null,
            "min_height": null,
            "padding": null,
            "grid_auto_rows": null,
            "grid_gap": null,
            "max_width": null,
            "order": null,
            "_view_module_version": "1.2.0",
            "grid_template_areas": null,
            "object_position": null,
            "object_fit": null,
            "grid_auto_columns": null,
            "margin": null,
            "display": null,
            "left": null
          }
        }
      }
    }
  },
  "cells": [
    {
      "cell_type": "markdown",
      "metadata": {
        "id": "view-in-github",
        "colab_type": "text"
      },
      "source": [
        "<a href=\"https://colab.research.google.com/github/philip-papasavvas/ml_sandbox/blob/main/Load_data_pyTorch.ipynb\" target=\"_parent\"><img src=\"https://colab.research.google.com/assets/colab-badge.svg\" alt=\"Open In Colab\"/></a>"
      ]
    },
    {
      "cell_type": "markdown",
      "metadata": {
        "id": "IiNmzQZjNMHx"
      },
      "source": [
        "**Example of reading in data using pyTorch, and getting used to handling tensors, data loaders, etc. And finally visualising the data**"
      ]
    },
    {
      "cell_type": "markdown",
      "metadata": {
        "id": "HcdtwKvEOALg"
      },
      "source": [
        "This is taken from the pyTorch tutorials: https://pytorch.org/tutorials/recipes/recipes/loading_data_recipe.html"
      ]
    },
    {
      "cell_type": "markdown",
      "metadata": {
        "id": "aYj4LnOqFpV5"
      },
      "source": [
        "We will load in some data in pyTorch, and get used to the datasets it has to offer"
      ]
    },
    {
      "cell_type": "code",
      "metadata": {
        "colab": {
          "base_uri": "https://localhost:8080/"
        },
        "id": "42D_wiv5FuPW",
        "outputId": "bb8a72f7-3c0c-4de3-b90a-4e59d001b00d"
      },
      "source": [
        "pip install torchaudio"
      ],
      "execution_count": 1,
      "outputs": [
        {
          "output_type": "stream",
          "text": [
            "Collecting torchaudio\n",
            "\u001b[?25l  Downloading https://files.pythonhosted.org/packages/2a/f9/618434cf4e46dc975871e1516f5499abef6564ab4366f9b2321ee536be14/torchaudio-0.7.2-cp36-cp36m-manylinux1_x86_64.whl (7.6MB)\n",
            "\u001b[K     |████████████████████████████████| 7.6MB 4.0MB/s \n",
            "\u001b[?25hCollecting torch==1.7.1\n",
            "\u001b[?25l  Downloading https://files.pythonhosted.org/packages/90/4f/acf48b3a18a8f9223c6616647f0a011a5713a985336088d7c76f3a211374/torch-1.7.1-cp36-cp36m-manylinux1_x86_64.whl (776.8MB)\n",
            "\u001b[K     |████████████████████████████████| 776.8MB 22kB/s \n",
            "\u001b[?25hRequirement already satisfied: typing-extensions in /usr/local/lib/python3.6/dist-packages (from torch==1.7.1->torchaudio) (3.7.4.3)\n",
            "Requirement already satisfied: dataclasses; python_version < \"3.7\" in /usr/local/lib/python3.6/dist-packages (from torch==1.7.1->torchaudio) (0.8)\n",
            "Requirement already satisfied: numpy in /usr/local/lib/python3.6/dist-packages (from torch==1.7.1->torchaudio) (1.19.4)\n",
            "\u001b[31mERROR: torchvision 0.8.1+cu101 has requirement torch==1.7.0, but you'll have torch 1.7.1 which is incompatible.\u001b[0m\n",
            "Installing collected packages: torch, torchaudio\n",
            "  Found existing installation: torch 1.7.0+cu101\n",
            "    Uninstalling torch-1.7.0+cu101:\n",
            "      Successfully uninstalled torch-1.7.0+cu101\n",
            "Successfully installed torch-1.7.1 torchaudio-0.7.2\n"
          ],
          "name": "stdout"
        }
      ]
    },
    {
      "cell_type": "code",
      "metadata": {
        "colab": {
          "base_uri": "https://localhost:8080/"
        },
        "id": "49XnpOf3Hynf",
        "outputId": "98cb087c-9cbf-4d58-f71d-334708119931"
      },
      "source": [
        "import torch\n",
        "import torchaudio"
      ],
      "execution_count": 2,
      "outputs": [
        {
          "output_type": "stream",
          "text": [
            "/usr/local/lib/python3.6/dist-packages/torchaudio/backend/utils.py:54: UserWarning: \"sox\" backend is being deprecated. The default backend will be changed to \"sox_io\" backend in 0.8.0 and \"sox\" backend will be removed in 0.9.0. Please migrate to \"sox_io\" backend. Please refer to https://github.com/pytorch/audio/issues/903 for the detail.\n",
            "  '\"sox\" backend is being deprecated. '\n"
          ],
          "name": "stderr"
        }
      ]
    },
    {
      "cell_type": "code",
      "metadata": {
        "colab": {
          "base_uri": "https://localhost:8080/",
          "height": 84,
          "referenced_widgets": [
            "90b723f16e464f22ae059e19ae9fea48",
            "48768f418f084c35a55c212c3999612b",
            "7615b5d242ef46fba9941d0d4e095f5b",
            "d07620761fe14046908e7e8fd584f319",
            "cd38c7c69b73410eb2195d30fd4c2314",
            "a89c64c220c64dd482ac7f627953728c",
            "63d185d5168243ff929017e2111c9801",
            "4c7984c8af3341598b7145ad9bc02e18"
          ]
        },
        "id": "LE61LYeyIAe6",
        "outputId": "3b16ab48-cb5c-40d0-9379-22558c62bcb4"
      },
      "source": [
        "torchaudio.datasets.YESNO(\n",
        "    root='/usr/local/', # need to enter the path to where to download the dataset\n",
        "    url = 'http://www.openslr.org/resources/1/waves_yesno.tar.gz',\n",
        "    folder_in_archive='waves_yesno',\n",
        "    download=True, \n",
        "    transform=None,\n",
        "    target_transform=None\n",
        ")"
      ],
      "execution_count": 8,
      "outputs": [
        {
          "output_type": "display_data",
          "data": {
            "application/vnd.jupyter.widget-view+json": {
              "model_id": "90b723f16e464f22ae059e19ae9fea48",
              "version_minor": 0,
              "version_major": 2
            },
            "text/plain": [
              "HBox(children=(FloatProgress(value=0.0, max=4703754.0), HTML(value='')))"
            ]
          },
          "metadata": {
            "tags": []
          }
        },
        {
          "output_type": "stream",
          "text": [
            "\n"
          ],
          "name": "stdout"
        },
        {
          "output_type": "execute_result",
          "data": {
            "text/plain": [
              "<torchaudio.datasets.yesno.YESNO at 0x7fe267fe38d0>"
            ]
          },
          "metadata": {
            "tags": []
          },
          "execution_count": 8
        }
      ]
    },
    {
      "cell_type": "code",
      "metadata": {
        "id": "pKEnJIOaJNW3"
      },
      "source": [
        "# Let's look at a datapoint in the YESNO dataset, which consists of \n",
        "# 60 recordings of an individidual saying yes or no in Hebrew.\n",
        "# Each recording is eight (8) words long.\n",
        "yesno_data_trainset = torchaudio.datasets.YESNO(root='./',\n",
        "                                                download=True)\n",
        "\n",
        "# pick the first datapoint to see an example of the data\n",
        "n = 1 \n",
        "waveform, sample_rate, labels = yesno_data_trainset[1]"
      ],
      "execution_count": 29,
      "outputs": []
    },
    {
      "cell_type": "code",
      "metadata": {
        "colab": {
          "base_uri": "https://localhost:8080/"
        },
        "id": "cUUyKYUuJ9AS",
        "outputId": "9d942373-ff5f-4aaa-a219-885ad9463f73"
      },
      "source": [
        "print(f\"Waveform: \\n {waveform}\")"
      ],
      "execution_count": 30,
      "outputs": [
        {
          "output_type": "stream",
          "text": [
            "Waveform: \n",
            " tensor([[ 3.0518e-05,  6.1035e-05,  3.0518e-05,  ..., -2.7466e-03,\n",
            "         -3.6926e-03, -1.6174e-03]])\n"
          ],
          "name": "stdout"
        }
      ]
    },
    {
      "cell_type": "code",
      "metadata": {
        "colab": {
          "base_uri": "https://localhost:8080/"
        },
        "id": "uKu_x1m-KD4G",
        "outputId": "2c1db2ee-b16c-45d6-9bde-e0e5b8298f40"
      },
      "source": [
        "# we want to look at the size of the waveform/tensor above, \n",
        "# using pyTorch, we use the .size() or .shape method to do this\n",
        "print(f\"Waveform dimensions: {waveform.size()}\")"
      ],
      "execution_count": 31,
      "outputs": [
        {
          "output_type": "stream",
          "text": [
            "Waveform dimensions: torch.Size([1, 54080])\n"
          ],
          "name": "stdout"
        }
      ]
    },
    {
      "cell_type": "code",
      "metadata": {
        "colab": {
          "base_uri": "https://localhost:8080/"
        },
        "id": "do6jIn4WKwrv",
        "outputId": "df17f3dc-157b-411b-8d0f-7ae6078c020e"
      },
      "source": [
        "print(f\"Waveform dimensions: {waveform.shape}\")"
      ],
      "execution_count": 32,
      "outputs": [
        {
          "output_type": "stream",
          "text": [
            "Waveform dimensions: torch.Size([1, 54080])\n"
          ],
          "name": "stdout"
        }
      ]
    },
    {
      "cell_type": "code",
      "metadata": {
        "colab": {
          "base_uri": "https://localhost:8080/"
        },
        "id": "d1-e5rJgJ_cZ",
        "outputId": "ca818d3d-442e-43fe-ba87-e1c8bc0a8ba4"
      },
      "source": [
        "print(sample_rate)"
      ],
      "execution_count": 33,
      "outputs": [
        {
          "output_type": "stream",
          "text": [
            "8000\n"
          ],
          "name": "stdout"
        }
      ]
    },
    {
      "cell_type": "code",
      "metadata": {
        "colab": {
          "base_uri": "https://localhost:8080/"
        },
        "id": "trnXRm6tMjnG",
        "outputId": "47498e3f-b280-4a79-d7b3-21199c624123"
      },
      "source": [
        "print(labels)"
      ],
      "execution_count": 34,
      "outputs": [
        {
          "output_type": "stream",
          "text": [
            "[0, 0, 0, 1, 0, 0, 0, 1]\n"
          ],
          "name": "stdout"
        }
      ]
    },
    {
      "cell_type": "markdown",
      "metadata": {
        "id": "v3kX_iuFLbCT"
      },
      "source": [
        "As is customary, we will split the data into a \"training\" and \"testing\" dataset, so we can test the model on the \"test\" dataset after training it using the \"training\" dataset, to assess the model's performance."
      ]
    },
    {
      "cell_type": "code",
      "metadata": {
        "id": "_B6S7GLALvO9"
      },
      "source": [
        "data_load = torch.utils.data.DataLoader(yesno_data_trainset,\n",
        "                                        batch_size=1,\n",
        "                                        shuffle=True)"
      ],
      "execution_count": 25,
      "outputs": []
    },
    {
      "cell_type": "code",
      "metadata": {
        "colab": {
          "base_uri": "https://localhost:8080/"
        },
        "id": "q0d6P60vL9_j",
        "outputId": "15652043-5c4e-411a-ec8d-0b16cac6a8bc"
      },
      "source": [
        "type(data_load)"
      ],
      "execution_count": 26,
      "outputs": [
        {
          "output_type": "execute_result",
          "data": {
            "text/plain": [
              "torch.utils.data.dataloader.DataLoader"
            ]
          },
          "metadata": {
            "tags": []
          },
          "execution_count": 26
        }
      ]
    },
    {
      "cell_type": "markdown",
      "metadata": {
        "id": "S1t97CcyM7fk"
      },
      "source": [
        "Iterate over the data, which is an iteratable after using data_loader. The data is converted to tensors containing the waveform, sample rate, and labels."
      ]
    },
    {
      "cell_type": "code",
      "metadata": {
        "colab": {
          "base_uri": "https://localhost:8080/"
        },
        "id": "s6z1Ei1NMBIA",
        "outputId": "c48c386e-d7fc-48d5-df6b-69efb0b5a5ae"
      },
      "source": [
        "for data in data_load:\n",
        "  print(f\"Data: {data} \\n\")\n",
        "  print(f\"Waveform: {data[0]} \\n\"\n",
        "        f\"Sample rate: {data[1]} \\n\"\n",
        "        f\"Labels: {data[2]}\")\n",
        "  break"
      ],
      "execution_count": 36,
      "outputs": [
        {
          "output_type": "stream",
          "text": [
            "Data: [tensor([[[-0.0008, -0.0009, -0.0010,  ...,  0.0053,  0.0047,  0.0034]]]), tensor([8000]), [tensor([0]), tensor([0]), tensor([1]), tensor([1]), tensor([0]), tensor([1]), tensor([0]), tensor([0])]] \n",
            "\n",
            "Waveform: tensor([[[-0.0008, -0.0009, -0.0010,  ...,  0.0053,  0.0047,  0.0034]]]) \n",
            "Sample rate: tensor([8000]) \n",
            "Labels: [tensor([0]), tensor([0]), tensor([1]), tensor([1]), tensor([0]), tensor([1]), tensor([0]), tensor([0])]\n"
          ],
          "name": "stdout"
        }
      ]
    },
    {
      "cell_type": "markdown",
      "metadata": {
        "id": "6VCwAk-ENdA4"
      },
      "source": [
        "Visualise the data"
      ]
    },
    {
      "cell_type": "code",
      "metadata": {
        "colab": {
          "base_uri": "https://localhost:8080/"
        },
        "id": "rmArjBv4NcaZ",
        "outputId": "5e687dad-7193-4a7d-e337-ccf171de7f50"
      },
      "source": [
        "import matplotlib.pyplot as plt\n",
        "\n",
        "print(data[0][0].numpy()) # converted from tensor to numpy"
      ],
      "execution_count": 37,
      "outputs": [
        {
          "output_type": "stream",
          "text": [
            "[[-0.00082397 -0.00094604 -0.0010376  ...  0.00527954  0.00466919\n",
            "   0.00335693]]\n"
          ],
          "name": "stdout"
        }
      ]
    },
    {
      "cell_type": "markdown",
      "metadata": {
        "id": "08HWzdl0NxlX"
      },
      "source": [
        "Let's plot what the waveform looks like"
      ]
    },
    {
      "cell_type": "code",
      "metadata": {
        "colab": {
          "base_uri": "https://localhost:8080/",
          "height": 286
        },
        "id": "Rvu2NKe_NnN4",
        "outputId": "4b362c3a-5e33-4ab1-ea71-6f9c8cfe4998"
      },
      "source": [
        "plt.figure()\n",
        "plt.plot(waveform.t().numpy())"
      ],
      "execution_count": 38,
      "outputs": [
        {
          "output_type": "execute_result",
          "data": {
            "text/plain": [
              "[<matplotlib.lines.Line2D at 0x7fe267329550>]"
            ]
          },
          "metadata": {
            "tags": []
          },
          "execution_count": 38
        },
        {
          "output_type": "display_data",
          "data": {
            "image/png": "[encoded data removed]",
            "text/plain": [
              "<Figure size 432x288 with 1 Axes>"
            ]
          },
          "metadata": {
            "tags": [],
            "needs_background": "light"
          }
        }
      ]
    }
  ]
}