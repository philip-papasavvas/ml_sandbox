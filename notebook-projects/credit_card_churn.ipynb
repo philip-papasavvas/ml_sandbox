{
 "cells": [
  {
   "cell_type": "markdown",
   "id": "rapid-prairie",
   "metadata": {
    "toc": true
   },
   "source": [
    "<h1>Table of Contents<span class=\"tocSkip\"></span></h1>\n",
    "<div class=\"toc\"><ul class=\"toc-item\"><li><span><a href=\"#Introduction\" data-toc-modified-id=\"Introduction-1\">Introduction</a></span><ul class=\"toc-item\"><li><span><a href=\"#Data\" data-toc-modified-id=\"Data-1.1\">Data</a></span></li></ul></li><li><span><a href=\"#Exploratory-Data-Analysis\" data-toc-modified-id=\"Exploratory-Data-Analysis-2\">Exploratory Data Analysis</a></span></li></ul></div>"
   ]
  },
  {
   "cell_type": "markdown",
   "id": "therapeutic-maryland",
   "metadata": {},
   "source": [
    "# Introduction\n",
    "This dataset has been taken from [Kaggle](https://www.kaggle.com/sakshigoyal7/credit-card-customers). The data contained is for credit card customers from a particular company, and the senior management want to predict which customers will churn before they leave the company, and ideally target the customer to ensure they do not leave.\n",
    "\n",
    "**The objective of the project is to fit a model that can best predict which customers will churn using the input features.**\n",
    "\n",
    "The structure of the project will begin with an exploratory data analysis (EDA), where the data will be displayed, and features extracted/manipulated in order to have the data in a format whereby it can be fed into multiple machine learning models used to predict why customers are leaving. \n",
    "\n",
    "## Data\n",
    "The data has been sourced from [Kaggle](www.kaggle.com), but was originally posted on the [LEAPS Analyttica](https://leaps.analyttica.com/). The data contains 10,000 records of credit card customers containing input variables such as `age`, `marital_status`, `gender`, `educational_level`, `income_category`, etc. \n",
    "\n",
    "In total, there are 22 input variables, and the response variable, `Attrition_Flag`, which takes a value of **'Existing Customer'** or **'Attrited Customer'**.\n",
    "\n",
    "When the data is published on Kaggle, a few redundant features are present in the data that should be dropped, so we will do this straight away before we conduct the EDA. \n"
   ]
  },
  {
   "cell_type": "markdown",
   "id": "played-worse",
   "metadata": {},
   "source": [
    "# Exploratory Data Analysis"
   ]
  },
  {
   "cell_type": "code",
   "execution_count": 2,
   "id": "smooth-ferry",
   "metadata": {},
   "outputs": [],
   "source": [
    "import pandas as pd"
   ]
  },
  {
   "cell_type": "code",
   "execution_count": 7,
   "id": "informational-musician",
   "metadata": {},
   "outputs": [],
   "source": [
    "repo_url = 'https://raw.githubusercontent.com/philip-papasavvas/ml_sandbox'\n",
    "df = pd.read_csv(f\"{repo_url}/main/data/BankChurners.csv\")"
   ]
  },
  {
   "cell_type": "code",
   "execution_count": 11,
   "id": "physical-secretary",
   "metadata": {},
   "outputs": [],
   "source": [
    "# drop columns\n",
    "columns_to_drop = [\n",
    "    'Naive_Bayes_Classifier_Attrition_Flag_Card_Category_Contacts_Count_12_mon_Dependent_count_Education_Level_Months_Inactive_12_mon_1',\n",
    "    'Naive_Bayes_Classifier_Attrition_Flag_Card_Category_Contacts_Count_12_mon_Dependent_count_Education_Level_Months_Inactive_12_mon_2'\n",
    "]\n",
    "\n",
    "df = df.drop(columns_to_drop, axis=1)"
   ]
  },
  {
   "cell_type": "markdown",
   "id": "threatened-outside",
   "metadata": {},
   "source": [
    "Let's inspect the dataset after dropping the unwanted columns."
   ]
  },
  {
   "cell_type": "code",
   "execution_count": 19,
   "id": "english-intensity",
   "metadata": {},
   "outputs": [
    {
     "data": {
      "text/html": [
       "<div>\n",
       "<style scoped>\n",
       "    .dataframe tbody tr th:only-of-type {\n",
       "        vertical-align: middle;\n",
       "    }\n",
       "\n",
       "    .dataframe tbody tr th {\n",
       "        vertical-align: top;\n",
       "    }\n",
       "\n",
       "    .dataframe thead th {\n",
       "        text-align: right;\n",
       "    }\n",
       "</style>\n",
       "<table border=\"1\" class=\"dataframe\">\n",
       "  <thead>\n",
       "    <tr style=\"text-align: right;\">\n",
       "      <th></th>\n",
       "      <th>CLIENTNUM</th>\n",
       "      <th>Attrition_Flag</th>\n",
       "      <th>Customer_Age</th>\n",
       "      <th>Gender</th>\n",
       "      <th>Dependent_count</th>\n",
       "      <th>Education_Level</th>\n",
       "      <th>Marital_Status</th>\n",
       "      <th>Income_Category</th>\n",
       "      <th>Card_Category</th>\n",
       "      <th>Months_on_book</th>\n",
       "      <th>Total_Relationship_Count</th>\n",
       "      <th>Months_Inactive_12_mon</th>\n",
       "      <th>Contacts_Count_12_mon</th>\n",
       "      <th>Credit_Limit</th>\n",
       "      <th>Total_Revolving_Bal</th>\n",
       "      <th>Avg_Open_To_Buy</th>\n",
       "      <th>Total_Amt_Chng_Q4_Q1</th>\n",
       "      <th>Total_Trans_Amt</th>\n",
       "      <th>Total_Trans_Ct</th>\n",
       "      <th>Total_Ct_Chng_Q4_Q1</th>\n",
       "      <th>Avg_Utilization_Ratio</th>\n",
       "    </tr>\n",
       "  </thead>\n",
       "  <tbody>\n",
       "    <tr>\n",
       "      <th>0</th>\n",
       "      <td>768805383</td>\n",
       "      <td>Existing Customer</td>\n",
       "      <td>45</td>\n",
       "      <td>M</td>\n",
       "      <td>3</td>\n",
       "      <td>High School</td>\n",
       "      <td>Married</td>\n",
       "      <td>$60K - $80K</td>\n",
       "      <td>Blue</td>\n",
       "      <td>39</td>\n",
       "      <td>5</td>\n",
       "      <td>1</td>\n",
       "      <td>3</td>\n",
       "      <td>12691.0</td>\n",
       "      <td>777</td>\n",
       "      <td>11914.0</td>\n",
       "      <td>1.335</td>\n",
       "      <td>1144</td>\n",
       "      <td>42</td>\n",
       "      <td>1.625</td>\n",
       "      <td>0.061</td>\n",
       "    </tr>\n",
       "    <tr>\n",
       "      <th>1</th>\n",
       "      <td>818770008</td>\n",
       "      <td>Existing Customer</td>\n",
       "      <td>49</td>\n",
       "      <td>F</td>\n",
       "      <td>5</td>\n",
       "      <td>Graduate</td>\n",
       "      <td>Single</td>\n",
       "      <td>Less than $40K</td>\n",
       "      <td>Blue</td>\n",
       "      <td>44</td>\n",
       "      <td>6</td>\n",
       "      <td>1</td>\n",
       "      <td>2</td>\n",
       "      <td>8256.0</td>\n",
       "      <td>864</td>\n",
       "      <td>7392.0</td>\n",
       "      <td>1.541</td>\n",
       "      <td>1291</td>\n",
       "      <td>33</td>\n",
       "      <td>3.714</td>\n",
       "      <td>0.105</td>\n",
       "    </tr>\n",
       "  </tbody>\n",
       "</table>\n",
       "</div>"
      ],
      "text/plain": [
       "   CLIENTNUM     Attrition_Flag  Customer_Age Gender  Dependent_count  \\\n",
       "0  768805383  Existing Customer            45      M                3   \n",
       "1  818770008  Existing Customer            49      F                5   \n",
       "\n",
       "  Education_Level Marital_Status Income_Category Card_Category  \\\n",
       "0     High School        Married     $60K - $80K          Blue   \n",
       "1        Graduate         Single  Less than $40K          Blue   \n",
       "\n",
       "   Months_on_book  Total_Relationship_Count  Months_Inactive_12_mon  \\\n",
       "0              39                         5                       1   \n",
       "1              44                         6                       1   \n",
       "\n",
       "   Contacts_Count_12_mon  Credit_Limit  Total_Revolving_Bal  Avg_Open_To_Buy  \\\n",
       "0                      3       12691.0                  777          11914.0   \n",
       "1                      2        8256.0                  864           7392.0   \n",
       "\n",
       "   Total_Amt_Chng_Q4_Q1  Total_Trans_Amt  Total_Trans_Ct  Total_Ct_Chng_Q4_Q1  \\\n",
       "0                 1.335             1144              42                1.625   \n",
       "1                 1.541             1291              33                3.714   \n",
       "\n",
       "   Avg_Utilization_Ratio  \n",
       "0                  0.061  \n",
       "1                  0.105  "
      ]
     },
     "execution_count": 19,
     "metadata": {},
     "output_type": "execute_result"
    }
   ],
   "source": [
    "pd.set_option('display.max_columns', 25)\n",
    "df.head(2)"
   ]
  },
  {
   "cell_type": "markdown",
   "id": "western-possible",
   "metadata": {},
   "source": [
    "There are lots of different input features, so let's get some intuition on what these features represent:\n",
    "- `CLIENTNUM`: client number, the unique identifier for each account holder\n",
    "- `Customer_Age`: age (in years) of account holder\n",
    "- `Gender`: male M, female F\n",
    "- `Dependent_count`: number of dependents of the account holder\n",
    "- `Education_level`: highest qualification of the account holder (eg: 'High School', 'Graduate', 'Uneducated')\n",
    "- `Marital_status`: status of account holdder (married, single, divorced or unknown(\n",
    "- `Income_Category`: annual income of account holder ('$60K - $80K', 'Less than $40K', '$80K - $120K', '$40K - $60K','$120K +', 'Unknown')\n",
    "- `Card_Category`: type of card the account holder has ('Blue', 'Gold', 'Silver', 'Platinum')\n",
    "- `Months_on_book`: period account holder has been with the bank\n",
    "- `Total_Relationship_Count`: total number of products held by the account holder\n",
    "- `Months_Inactive_12_mon`: number of months the account holder has been inactive in the last 12\n",
    "- `Contacts_Count_12_mon`: number of contacts in the last 12 months\n",
    "- `Credit_Limit`: monthly credit limit\n",
    "- `Total_Revolving_Bal`: total revolving balance on the credit card\n",
    "- `Avg_Open_To_Buy`: the amount of credit available over the last 12 months\n",
    "- `Total_Amt_Chng_Q4_Q1`: change in transaction amount, Q4 divided by Q1\n",
    "- `Total_Trans_Amt`: total transaction amount over the last 12 months\n",
    "- `Total_Trans_Ct`: total transaction count over the last 12 months\n",
    "- `Total_Ct_Chng_Q4_Q1`: change in transaction count, Q4 divided by Q1\n",
    "- `Avg_Utilization_Ratio`: average card utilisation ratio (amount of revolving credit being used divided by total amount of revolving credit available)\n",
    "\n",
    "The target variable is:\n",
    "- `Attrition_Flag`: whether the account holder has churned or not, with churn label as 'Attrited Customer', non-churn as 'Existing Customer'\n"
   ]
  }
 ],
 "metadata": {
  "kernelspec": {
   "display_name": "Python 3",
   "language": "python",
   "name": "python3"
  },
  "language_info": {
   "codemirror_mode": {
    "name": "ipython",
    "version": 3
   },
   "file_extension": ".py",
   "mimetype": "text/x-python",
   "name": "python",
   "nbconvert_exporter": "python",
   "pygments_lexer": "ipython3",
   "version": "3.7.9"
  },
  "toc": {
   "base_numbering": 1,
   "nav_menu": {},
   "number_sections": false,
   "sideBar": true,
   "skip_h1_title": false,
   "title_cell": "Table of Contents",
   "title_sidebar": "Contents",
   "toc_cell": true,
   "toc_position": {
    "height": "calc(100% - 180px)",
    "left": "10px",
    "top": "150px",
    "width": "165px"
   },
   "toc_section_display": true,
   "toc_window_display": true
  },
  "varInspector": {
   "cols": {
    "lenName": 16,
    "lenType": 16,
    "lenVar": 40
   },
   "kernels_config": {
    "python": {
     "delete_cmd_postfix": "",
     "delete_cmd_prefix": "del ",
     "library": "var_list.py",
     "varRefreshCmd": "print(var_dic_list())"
    },
    "r": {
     "delete_cmd_postfix": ") ",
     "delete_cmd_prefix": "rm(",
     "library": "var_list.r",
     "varRefreshCmd": "cat(var_dic_list()) "
    }
   },
   "types_to_exclude": [
    "module",
    "function",
    "builtin_function_or_method",
    "instance",
    "_Feature"
   ],
   "window_display": false
  }
 },
 "nbformat": 4,
 "nbformat_minor": 5
}
