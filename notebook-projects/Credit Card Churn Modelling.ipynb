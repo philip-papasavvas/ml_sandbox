{
 "cells": [
  {
   "cell_type": "markdown",
   "id": "rapid-prairie",
   "metadata": {
    "toc": true
   },
   "source": [
    "<h1>Table of Contents<span class=\"tocSkip\"></span></h1>\n",
    "<div class=\"toc\"><ul class=\"toc-item\"><li><span><a href=\"#Introduction\" data-toc-modified-id=\"Introduction-1\">Introduction</a></span><ul class=\"toc-item\"><li><span><a href=\"#Data\" data-toc-modified-id=\"Data-1.1\">Data</a></span></li></ul></li><li><span><a href=\"#Exploratory-Data-Analysis\" data-toc-modified-id=\"Exploratory-Data-Analysis-2\">Exploratory Data Analysis</a></span><ul class=\"toc-item\"><li><ul class=\"toc-item\"><li><span><a href=\"#Split-the-data---input-and-target\" data-toc-modified-id=\"Split-the-data---input-and-target-2.0.1\">Split the data - input and target</a></span></li><li><span><a href=\"#Inspecting-the-data-distribution-by-data-type\" data-toc-modified-id=\"Inspecting-the-data-distribution-by-data-type-2.0.2\">Inspecting the data distribution by data type</a></span></li><li><span><a href=\"#Numerical-data-distribution\" data-toc-modified-id=\"Numerical-data-distribution-2.0.3\">Numerical data distribution</a></span></li></ul></li><li><span><a href=\"#Data-pre-processing\" data-toc-modified-id=\"Data-pre-processing-2.1\">Data pre-processing</a></span><ul class=\"toc-item\"><li><span><a href=\"#Discrete-feature-distribution\" data-toc-modified-id=\"Discrete-feature-distribution-2.1.1\">Discrete feature distribution</a></span></li><li><span><a href=\"#Encoding\" data-toc-modified-id=\"Encoding-2.1.2\">Encoding</a></span></li><li><span><a href=\"#Label-sequencing\" data-toc-modified-id=\"Label-sequencing-2.1.3\">Label sequencing</a></span></li></ul></li></ul></li></ul></div>"
   ]
  },
  {
   "cell_type": "markdown",
   "id": "therapeutic-maryland",
   "metadata": {},
   "source": [
    "# Introduction\n",
    "This dataset has been taken from [Kaggle](https://www.kaggle.com/sakshigoyal7/credit-card-customers). The data contained is for credit card customers from a particular company, and the senior management want to predict which customers will churn before they leave the company, and ideally target the customer to ensure they do not leave.\n",
    "\n",
    "**The objective of the project is to fit a model that can best predict which customers will churn using the input features.**\n",
    "\n",
    "The structure of the project will begin with an exploratory data analysis (EDA), where the data will be displayed, and features extracted/manipulated in order to have the data in a format whereby it can be fed into multiple machine learning models used to predict why customers are leaving. \n",
    "\n",
    "## Data\n",
    "The data has been sourced from [Kaggle](www.kaggle.com), but was originally posted on [LEAPS Analyttica](https://leaps.analyttica.com/). The data contains 10,000 records of credit card customers containing input variables such as `age`, `marital_status`, `gender`, `educational_level`, `income_category`, etc. \n",
    "\n",
    "In total, there are 22 input variables, and the response variable, `Attrition_Flag`, which takes a value of **'Existing Customer'** or **'Attrited Customer'**.\n",
    "\n",
    "When the data is published on Kaggle, a few redundant features are present in the data that should be dropped, so we will do this straight away before we conduct the EDA. \n"
   ]
  },
  {
   "cell_type": "markdown",
   "id": "played-worse",
   "metadata": {},
   "source": [
    "# Exploratory Data Analysis"
   ]
  },
  {
   "cell_type": "code",
   "execution_count": 33,
   "id": "smooth-ferry",
   "metadata": {},
   "outputs": [],
   "source": [
    "import pandas as pd\n",
    "import numpy as np"
   ]
  },
  {
   "cell_type": "code",
   "execution_count": 3,
   "id": "informational-musician",
   "metadata": {},
   "outputs": [],
   "source": [
    "repo_url = 'https://raw.githubusercontent.com/philip-papasavvas/ml_sandbox'\n",
    "df = pd.read_csv(f\"{repo_url}/main/data/BankChurners.csv\")"
   ]
  },
  {
   "cell_type": "code",
   "execution_count": 4,
   "id": "physical-secretary",
   "metadata": {},
   "outputs": [],
   "source": [
    "# drop columns\n",
    "columns_to_drop = [\n",
    "    'Naive_Bayes_Classifier_Attrition_Flag_Card_Category_Contacts_Count_12_mon_Dependent_count_Education_Level_Months_Inactive_12_mon_1',\n",
    "    'Naive_Bayes_Classifier_Attrition_Flag_Card_Category_Contacts_Count_12_mon_Dependent_count_Education_Level_Months_Inactive_12_mon_2'\n",
    "]\n",
    "\n",
    "df = df.drop(columns_to_drop, axis=1)"
   ]
  },
  {
   "cell_type": "markdown",
   "id": "threatened-outside",
   "metadata": {},
   "source": [
    "### Split the data - input and target\n",
    "Now we will split the data into the input data, and the target variable."
   ]
  },
  {
   "cell_type": "code",
   "execution_count": 5,
   "id": "english-intensity",
   "metadata": {},
   "outputs": [],
   "source": [
    "input_columns = [x for x in df.columns if 'Attrition_Flag' not in x]\n",
    "X = df.loc[:, input_columns]\n",
    "\n",
    "y = df['Attrition_Flag'] # target label\n",
    "y.replace({'Attrited Customer': 1, # binary values are clearer labels of churn/no churn\n",
    "           'Existing Customer': 0},\n",
    "          inplace=True)"
   ]
  },
  {
   "cell_type": "markdown",
   "id": "western-possible",
   "metadata": {},
   "source": [
    "There are lots of different input features, so let's get some intuition on what these features represent:\n",
    "- `CLIENTNUM`: client number, the unique identifier for each account holder\n",
    "- `Customer_Age`: age (in years) of account holder\n",
    "- `Gender`: male M, female F\n",
    "- `Dependent_count`: number of dependents of the account holder\n",
    "- `Education_level`: highest qualification of the account holder (eg: 'High School', 'Graduate', 'Uneducated')\n",
    "- `Marital_status`: status of account holdder (married, single, divorced or unknown(\n",
    "- `Income_Category`: annual income of account holder ('$60K - $80K', 'Less than $40K', '$80K - $120K', '$40K - $60K','$120K +', 'Unknown')\n",
    "- `Card_Category`: type of card the account holder has ('Blue', 'Gold', 'Silver', 'Platinum')\n",
    "- `Months_on_book`: period account holder has been with the bank\n",
    "- `Total_Relationship_Count`: total number of products held by the account holder\n",
    "- `Months_Inactive_12_mon`: number of months the account holder has been inactive in the last 12\n",
    "- `Contacts_Count_12_mon`: number of contacts in the last 12 months\n",
    "- `Credit_Limit`: monthly credit limit\n",
    "- `Total_Revolving_Bal`: total revolving balance on the credit card\n",
    "- `Avg_Open_To_Buy`: the amount of credit available over the last 12 months\n",
    "- `Total_Amt_Chng_Q4_Q1`: change in transaction amount, Q4 divided by Q1\n",
    "- `Total_Trans_Amt`: total transaction amount over the last 12 months\n",
    "- `Total_Trans_Ct`: total transaction count over the last 12 months\n",
    "- `Total_Ct_Chng_Q4_Q1`: change in transaction count, Q4 divided by Q1\n",
    "- `Avg_Utilization_Ratio`: average card utilisation ratio (amount of revolving credit being used divided by total amount of revolving credit available)\n",
    "\n",
    "The target variable is:\n",
    "- `Attrition_Flag`: whether the account holder has churned or not, with churn label as 'Attrited Customer', non-churn as 'Existing Customer'\n"
   ]
  },
  {
   "cell_type": "code",
   "execution_count": 58,
   "id": "6d362103-7107-4c1c-82f1-792e799c3717",
   "metadata": {},
   "outputs": [
    {
     "data": {
      "text/plain": [
       "0    8500\n",
       "1    1627\n",
       "Name: Attrition_Flag, dtype: int64"
      ]
     },
     "execution_count": 58,
     "metadata": {},
     "output_type": "execute_result"
    }
   ],
   "source": [
    "y.value_counts()"
   ]
  },
  {
   "cell_type": "code",
   "execution_count": 62,
   "id": "be0af436-c1e6-428b-bda1-0eb57063a332",
   "metadata": {},
   "outputs": [
    {
     "data": {
      "text/plain": [
       "0    0.83934\n",
       "1    0.16066\n",
       "Name: Attrition_Flag, dtype: float64"
      ]
     },
     "execution_count": 62,
     "metadata": {},
     "output_type": "execute_result"
    }
   ],
   "source": [
    "y.value_counts()/len(y)"
   ]
  },
  {
   "cell_type": "markdown",
   "id": "0e471991-af97-4b3f-aca4-f616cc1708a1",
   "metadata": {},
   "source": [
    "### Simple Modelling Approach\n",
    "Let's fit a basic logistic regression model, and we can add more complexity to the model as we go on."
   ]
  },
  {
   "cell_type": "code",
   "execution_count": 26,
   "id": "bc848373-2c83-4a39-bdb8-0de4d2af53ae",
   "metadata": {},
   "outputs": [],
   "source": [
    "from sklearn.linear_model import LogisticRegression\n",
    "from sklearn.metrics import classification_report, confusion_matrix, accuracy_score\n",
    "from sklearn.model_selection import train_test_split "
   ]
  },
  {
   "cell_type": "code",
   "execution_count": 21,
   "id": "b756bdfa-c176-483c-806d-6cfb3a95d257",
   "metadata": {},
   "outputs": [
    {
     "data": {
      "text/plain": [
       "Index(['CLIENTNUM', 'Customer_Age', 'Gender', 'Dependent_count',\n",
       "       'Education_Level', 'Marital_Status', 'Income_Category', 'Card_Category',\n",
       "       'Months_on_book', 'Total_Relationship_Count', 'Months_Inactive_12_mon',\n",
       "       'Contacts_Count_12_mon', 'Credit_Limit', 'Total_Revolving_Bal',\n",
       "       'Avg_Open_To_Buy', 'Total_Amt_Chng_Q4_Q1', 'Total_Trans_Amt',\n",
       "       'Total_Trans_Ct', 'Total_Ct_Chng_Q4_Q1', 'Avg_Utilization_Ratio'],\n",
       "      dtype='object')"
      ]
     },
     "execution_count": 21,
     "metadata": {},
     "output_type": "execute_result"
    }
   ],
   "source": [
    "X.columns"
   ]
  },
  {
   "cell_type": "markdown",
   "id": "939dee7b-9a58-444f-a27a-8c6ed300af2f",
   "metadata": {},
   "source": [
    "Most basic example of a model, with two variables - age and number of dependents"
   ]
  },
  {
   "cell_type": "code",
   "execution_count": 27,
   "id": "2c5bc14a-6fcc-4781-af42-5d9fcd0ea5f0",
   "metadata": {},
   "outputs": [],
   "source": [
    "new_X, new_y = X[['Customer_Age', 'Dependent_count']], y\n",
    "\n",
    "X_train, X_test, y_train, y_test = train_test_split(\n",
    "    new_X, new_y, \n",
    "    test_size=0.2, # 20% of the data will be used to test the model accuracy\n",
    "    random_state=1,\n",
    "    stratify=y) "
   ]
  },
  {
   "cell_type": "code",
   "execution_count": 28,
   "id": "817a826a-c9ca-4982-a50e-c3096b71cf7d",
   "metadata": {},
   "outputs": [],
   "source": [
    "clf_one = LogisticRegression(random_state=0).fit(X_train, y_train)"
   ]
  },
  {
   "cell_type": "code",
   "execution_count": 29,
   "id": "ae04dc93-0745-4909-9325-20fbfa9d7bc8",
   "metadata": {},
   "outputs": [],
   "source": [
    "x_test_pred = clf_one.predict(X_test)"
   ]
  },
  {
   "cell_type": "code",
   "execution_count": 30,
   "id": "37baa61a-0eff-4285-a46c-e8eec2886c1c",
   "metadata": {},
   "outputs": [
    {
     "name": "stdout",
     "output_type": "stream",
     "text": [
      "Accuracy score for the test set was 83.96% \n",
      " \n"
     ]
    }
   ],
   "source": [
    "x_test_logistic_accuracy = accuracy_score(y_true=y_test, y_pred=x_test_pred)\n",
    "print(f\"Accuracy score for the test set was {100*x_test_logistic_accuracy:.2f}% \\n \")"
   ]
  },
  {
   "cell_type": "markdown",
   "id": "32ea0fe2-b7ac-4e8c-8b36-e6de1a094c2d",
   "metadata": {},
   "source": [
    "Accuracy can be misleading in this case, as it doesn't give us details on the score predictions for the different classes."
   ]
  },
  {
   "cell_type": "code",
   "execution_count": 70,
   "id": "3dc50fd0-c25a-4e18-9c71-48d5634a7043",
   "metadata": {},
   "outputs": [],
   "source": [
    "import matplotlib.pyplot as plt\n",
    "import seaborn as sns\n",
    "\n",
    "def plot_confusion_matrix(input_matrix: np.ndarray, labels=None, title: str = None):\n",
    "    \"\"\"Seaborn plot of the confusion matrix, given labels (if so)\"\"\"\n",
    "    \n",
    "    labels = labels if labels else ['Negative (0)', 'Positive (1)']\n",
    "        \n",
    "    fig, ax = plt.subplots()\n",
    "    fig = plt.figure(figsize=(8,8))\n",
    "    sns.heatmap(data=input_matrix, xticklabels=labels, yticklabels=labels, ax=ax,\n",
    "               cmap='YlGnBu', annot=True, fmt='g',\n",
    "               annot_kws={'size': 16})\n",
    "    ax.set_xlabel(\"Prediction\")\n",
    "    ax.set_ylabel(\"Actual\")\n",
    "    ax.set_title(\"Confusion Matrix\")\n",
    "    plt.close()\n",
    "        \n",
    "    return fig      "
   ]
  },
  {
   "cell_type": "code",
   "execution_count": 72,
   "id": "01dbd369-6161-41e4-9117-4e0b8d1265c9",
   "metadata": {},
   "outputs": [
    {
     "data": {
      "text/plain": [
       "<Figure size 576x576 with 0 Axes>"
      ]
     },
     "execution_count": 72,
     "metadata": {},
     "output_type": "execute_result"
    },
    {
     "data": {
      "image/png": "[encoded data removed]",
      "text/plain": [
       "<Figure size 432x288 with 2 Axes>"
      ]
     },
     "metadata": {
      "needs_background": "light"
     },
     "output_type": "display_data"
    }
   ],
   "source": [
    "plot_confusion_matrix(input_matrix=confusion_matrix(y_true=y_test, y_pred=x_test_pred),\n",
    "                      labels=['NoChurn', 'Churn']\n",
    "                     )"
   ]
  },
  {
   "cell_type": "markdown",
   "id": "ec78ee97-d27a-40ed-bbfc-fbca2a115d97",
   "metadata": {},
   "source": [
    "This is not a very useful confusion matrix as all of the predictions are 'NoChurn'. Let's try to add some more features and see if this changes the accuracy of the model."
   ]
  },
  {
   "cell_type": "markdown",
   "id": "bf100efa-06ea-4479-93cb-17961af8545e",
   "metadata": {},
   "source": [
    "### Encode nominal variables\n",
    "Now let's encode some of the nominal variables, such as the gender."
   ]
  },
  {
   "cell_type": "code",
   "execution_count": 73,
   "id": "d192b65c-ccbb-4be1-9a67-2b8760d21daf",
   "metadata": {},
   "outputs": [
    {
     "data": {
      "text/plain": [
       "array(['M', 'F'], dtype=object)"
      ]
     },
     "execution_count": 73,
     "metadata": {},
     "output_type": "execute_result"
    }
   ],
   "source": [
    "X['Gender'].unique()"
   ]
  },
  {
   "cell_type": "code",
   "execution_count": 74,
   "id": "a67218e8-4f40-42ad-93e9-5e2b4541b30b",
   "metadata": {},
   "outputs": [],
   "source": [
    "X['IsMale'] = np.where(X['Gender'] == 'M',\n",
    "                       True,\n",
    "                       False)"
   ]
  },
  {
   "cell_type": "markdown",
   "id": "3320b48c-911a-413f-b19f-a711572db161",
   "metadata": {},
   "source": [
    "Re-train the model with an extra feature"
   ]
  },
  {
   "cell_type": "code",
   "execution_count": 75,
   "id": "fde60c87-95ee-4ae9-8e51-03c9e3e49dde",
   "metadata": {},
   "outputs": [],
   "source": [
    "new_X, new_y = X[['Customer_Age', 'Dependent_count', 'IsMale']], y\n",
    "# new_X, new_y = X[['Customer_Age', 'Dependent_count']], y\n",
    "\n",
    "X_train, X_test, y_train, y_test = train_test_split(\n",
    "    new_X, new_y, \n",
    "    test_size=0.2, # 20% of the data will be used to test the model accuracy\n",
    "    random_state=2,\n",
    "    stratify=y) "
   ]
  },
  {
   "cell_type": "code",
   "execution_count": 77,
   "id": "d688ec2b-b4de-472a-806c-247f86a8b329",
   "metadata": {},
   "outputs": [
    {
     "name": "stdout",
     "output_type": "stream",
     "text": [
      "Accuracy score for the test set was 83.96% \n",
      " \n"
     ]
    }
   ],
   "source": [
    "clf_two = LogisticRegression(random_state=2).fit(X_train, y_train)\n",
    "x_test_pred = clf_two.predict(X_test)\n",
    "\n",
    "x_test_logistic_accuracy = accuracy_score(y_true=y_test, y_pred=x_test_pred)\n",
    "print(f\"Accuracy score for the test set was {100*x_test_logistic_accuracy:.2f}% \\n \")"
   ]
  },
  {
   "cell_type": "markdown",
   "id": "91815468-b6cc-45be-b13f-a0f43fa3d66e",
   "metadata": {},
   "source": [
    "The accuracy score seems similar to the previous one. Let's inspect the confusion matrix again..."
   ]
  },
  {
   "cell_type": "code",
   "execution_count": 79,
   "id": "d928f526-99ce-4f0e-91d3-d70abd17839f",
   "metadata": {},
   "outputs": [
    {
     "data": {
      "text/plain": [
       "<Figure size 576x576 with 0 Axes>"
      ]
     },
     "execution_count": 79,
     "metadata": {},
     "output_type": "execute_result"
    },
    {
     "data": {
      "image/png": "[encoded data removed]",
      "text/plain": [
       "<Figure size 432x288 with 2 Axes>"
      ]
     },
     "metadata": {
      "needs_background": "light"
     },
     "output_type": "display_data"
    }
   ],
   "source": [
    "plot_confusion_matrix(input_matrix=confusion_matrix(y_true=y_test, y_pred=x_test_pred),\n",
    "                      labels=['NoChurn', 'Churn']\n",
    "                     )"
   ]
  },
  {
   "cell_type": "markdown",
   "id": "303c76c9-d842-408c-a7cc-f900f4779f0b",
   "metadata": {},
   "source": [
    "Again no change to the prediction of output classes, so let's add some more complexity to the model."
   ]
  },
  {
   "cell_type": "markdown",
   "id": "pediatric-enclosure",
   "metadata": {},
   "source": [
    "### Encoding variables\n",
    "We have both ordinal and nominal variables in the dataset, for example `Education_Level` is ordinal, as is `Income_Category`. Whilst the `Card_Category` and `Gender` variables are nominal variables.\n",
    "Thus, we will use encoding to help us solve this issue and encode the discrete data into a numeric format\n",
    "- **Label encoding for ordinal variables**\n",
    "    - Convert each different value in a column to a number. \n",
    "    - For example, for the variable `Income_Category`, we assign the labels\n",
    "        - Less than $40K: 0\n",
    "        - 40-60K: 1\n",
    "        - 60-80K: 2\n",
    "        - 80-120K: 3\n",
    "- **One Hot encoding for nominal variables:** \n",
    "    - in this approach, each category value is converted to a new column and assigned a `1` (True) or `0` (False) for each column. \n",
    "    - For example for `Gender`, the new column could be `Gender_M`, with a value of `1` where the original `Gender` variable was equal to `M`, and a value of `0` for `F`.\n"
   ]
  },
  {
   "cell_type": "markdown",
   "id": "adult-bulgarian",
   "metadata": {},
   "source": [
    "These dummy variables to encode the data to a numeric format. This can enable us to use a single regression equation representing multiple groups, and avoids the need for separate equations for each subgroup (gender, for example).\n",
    "\n",
    "Using the dummy variable will encode the original variables as `0` or `1` to indicate the absence or presence of a categorical effect that could change whether the customer has **churned** or not.\n",
    "\n",
    "### Label sequencing\n",
    "Depending on the data values and the type of data, using **label encoding** can introduce a new problem due to the number sequencing. In the above example there might be a comparison between the different numbers 0/1/2/3 indicating the `Income_Category` variable. In this case the comparison is fair, in that the label `2` does specify higher income than someone with the label `0`, however this may not be the case each time. For example, for the `Card_Category` variable, let's inspect the different values."
   ]
  },
  {
   "cell_type": "code",
   "execution_count": 81,
   "id": "18760078-86d5-423e-a223-8505c991188a",
   "metadata": {},
   "outputs": [
    {
     "data": {
      "text/html": [
       "<div>\n",
       "<style scoped>\n",
       "    .dataframe tbody tr th:only-of-type {\n",
       "        vertical-align: middle;\n",
       "    }\n",
       "\n",
       "    .dataframe tbody tr th {\n",
       "        vertical-align: top;\n",
       "    }\n",
       "\n",
       "    .dataframe thead th {\n",
       "        text-align: right;\n",
       "    }\n",
       "</style>\n",
       "<table border=\"1\" class=\"dataframe\">\n",
       "  <thead>\n",
       "    <tr style=\"text-align: right;\">\n",
       "      <th></th>\n",
       "      <th>Gender</th>\n",
       "      <th>Education_Level</th>\n",
       "      <th>Marital_Status</th>\n",
       "      <th>Income_Category</th>\n",
       "      <th>Card_Category</th>\n",
       "    </tr>\n",
       "  </thead>\n",
       "  <tbody>\n",
       "    <tr>\n",
       "      <th>0</th>\n",
       "      <td>M</td>\n",
       "      <td>High School</td>\n",
       "      <td>Married</td>\n",
       "      <td>$60K - $80K</td>\n",
       "      <td>Blue</td>\n",
       "    </tr>\n",
       "    <tr>\n",
       "      <th>1</th>\n",
       "      <td>F</td>\n",
       "      <td>Graduate</td>\n",
       "      <td>Single</td>\n",
       "      <td>Less than $40K</td>\n",
       "      <td>Blue</td>\n",
       "    </tr>\n",
       "    <tr>\n",
       "      <th>2</th>\n",
       "      <td>M</td>\n",
       "      <td>Graduate</td>\n",
       "      <td>Married</td>\n",
       "      <td>$80K - $120K</td>\n",
       "      <td>Blue</td>\n",
       "    </tr>\n",
       "    <tr>\n",
       "      <th>3</th>\n",
       "      <td>F</td>\n",
       "      <td>High School</td>\n",
       "      <td>Unknown</td>\n",
       "      <td>Less than $40K</td>\n",
       "      <td>Blue</td>\n",
       "    </tr>\n",
       "    <tr>\n",
       "      <th>4</th>\n",
       "      <td>M</td>\n",
       "      <td>Uneducated</td>\n",
       "      <td>Married</td>\n",
       "      <td>$60K - $80K</td>\n",
       "      <td>Blue</td>\n",
       "    </tr>\n",
       "  </tbody>\n",
       "</table>\n",
       "</div>"
      ],
      "text/plain": [
       "  Gender Education_Level Marital_Status Income_Category Card_Category\n",
       "0      M     High School        Married     $60K - $80K          Blue\n",
       "1      F        Graduate         Single  Less than $40K          Blue\n",
       "2      M        Graduate        Married    $80K - $120K          Blue\n",
       "3      F     High School        Unknown  Less than $40K          Blue\n",
       "4      M      Uneducated        Married     $60K - $80K          Blue"
      ]
     },
     "execution_count": 81,
     "metadata": {},
     "output_type": "execute_result"
    }
   ],
   "source": [
    "df_discrete = X.select_dtypes(include='object')\n",
    "df_discrete.head()"
   ]
  },
  {
   "cell_type": "code",
   "execution_count": 16,
   "id": "certified-consumer",
   "metadata": {},
   "outputs": [
    {
     "data": {
      "text/plain": [
       "array(['Blue', 'Gold', 'Silver', 'Platinum'], dtype=object)"
      ]
     },
     "execution_count": 16,
     "metadata": {},
     "output_type": "execute_result"
    }
   ],
   "source": [
    "df_discrete['Card_Category'].unique()"
   ]
  },
  {
   "cell_type": "markdown",
   "id": "chicken-examination",
   "metadata": {},
   "source": [
    "In this case, had one not known the value of `Gold` relative to `Silver` or `Platinum`, they might not understand the hierarchy that exists, so we would prefer to use a new variable that doesn't discriminate between the categories."
   ]
  },
  {
   "cell_type": "markdown",
   "id": "polished-standing",
   "metadata": {},
   "source": [
    "To avoid the above issues with label sequencing and importance, we will use the dummy value approach, allowing encoding across many category columns, and allows the flexibility of labeling the columns using a prefix."
   ]
  },
  {
   "cell_type": "code",
   "execution_count": 96,
   "id": "english-cooking",
   "metadata": {},
   "outputs": [],
   "source": [
    "# transform the discrete features into dummy variables\n",
    "discrete_cols = [x for x in df_discrete.columns]\n",
    "for colmn in discrete_cols:\n",
    "    dummy_columns = pd.get_dummies(df[colmn], drop_first=False, prefix=colmn)\n",
    "    # join the dummy columns to the dataframe\n",
    "    df = pd.concat([df, dummy_columns], axis=1)\n",
    "    df.drop(columns=colmn, inplace=True)"
   ]
  },
  {
   "cell_type": "code",
   "execution_count": 98,
   "id": "41a8feaf-4afa-46c3-991f-43a0f5eec552",
   "metadata": {},
   "outputs": [
    {
     "data": {
      "text/html": [
       "<div>\n",
       "<style scoped>\n",
       "    .dataframe tbody tr th:only-of-type {\n",
       "        vertical-align: middle;\n",
       "    }\n",
       "\n",
       "    .dataframe tbody tr th {\n",
       "        vertical-align: top;\n",
       "    }\n",
       "\n",
       "    .dataframe thead th {\n",
       "        text-align: right;\n",
       "    }\n",
       "</style>\n",
       "<table border=\"1\" class=\"dataframe\">\n",
       "  <thead>\n",
       "    <tr style=\"text-align: right;\">\n",
       "      <th></th>\n",
       "      <th>CLIENTNUM</th>\n",
       "      <th>Attrition_Flag</th>\n",
       "      <th>Customer_Age</th>\n",
       "      <th>Dependent_count</th>\n",
       "      <th>Months_on_book</th>\n",
       "      <th>Total_Relationship_Count</th>\n",
       "      <th>Months_Inactive_12_mon</th>\n",
       "      <th>Contacts_Count_12_mon</th>\n",
       "      <th>Credit_Limit</th>\n",
       "      <th>Total_Revolving_Bal</th>\n",
       "      <th>...</th>\n",
       "      <th>Income_Category_$120K +</th>\n",
       "      <th>Income_Category_$40K - $60K</th>\n",
       "      <th>Income_Category_$60K - $80K</th>\n",
       "      <th>Income_Category_$80K - $120K</th>\n",
       "      <th>Income_Category_Less than $40K</th>\n",
       "      <th>Income_Category_Unknown</th>\n",
       "      <th>Card_Category_Blue</th>\n",
       "      <th>Card_Category_Gold</th>\n",
       "      <th>Card_Category_Platinum</th>\n",
       "      <th>Card_Category_Silver</th>\n",
       "    </tr>\n",
       "  </thead>\n",
       "  <tbody>\n",
       "    <tr>\n",
       "      <th>0</th>\n",
       "      <td>768805383</td>\n",
       "      <td>0</td>\n",
       "      <td>45</td>\n",
       "      <td>3</td>\n",
       "      <td>39</td>\n",
       "      <td>5</td>\n",
       "      <td>1</td>\n",
       "      <td>3</td>\n",
       "      <td>12691.0</td>\n",
       "      <td>777</td>\n",
       "      <td>...</td>\n",
       "      <td>0</td>\n",
       "      <td>0</td>\n",
       "      <td>1</td>\n",
       "      <td>0</td>\n",
       "      <td>0</td>\n",
       "      <td>0</td>\n",
       "      <td>1</td>\n",
       "      <td>0</td>\n",
       "      <td>0</td>\n",
       "      <td>0</td>\n",
       "    </tr>\n",
       "    <tr>\n",
       "      <th>1</th>\n",
       "      <td>818770008</td>\n",
       "      <td>0</td>\n",
       "      <td>49</td>\n",
       "      <td>5</td>\n",
       "      <td>44</td>\n",
       "      <td>6</td>\n",
       "      <td>1</td>\n",
       "      <td>2</td>\n",
       "      <td>8256.0</td>\n",
       "      <td>864</td>\n",
       "      <td>...</td>\n",
       "      <td>0</td>\n",
       "      <td>0</td>\n",
       "      <td>0</td>\n",
       "      <td>0</td>\n",
       "      <td>1</td>\n",
       "      <td>0</td>\n",
       "      <td>1</td>\n",
       "      <td>0</td>\n",
       "      <td>0</td>\n",
       "      <td>0</td>\n",
       "    </tr>\n",
       "    <tr>\n",
       "      <th>2</th>\n",
       "      <td>713982108</td>\n",
       "      <td>0</td>\n",
       "      <td>51</td>\n",
       "      <td>3</td>\n",
       "      <td>36</td>\n",
       "      <td>4</td>\n",
       "      <td>1</td>\n",
       "      <td>0</td>\n",
       "      <td>3418.0</td>\n",
       "      <td>0</td>\n",
       "      <td>...</td>\n",
       "      <td>0</td>\n",
       "      <td>0</td>\n",
       "      <td>0</td>\n",
       "      <td>1</td>\n",
       "      <td>0</td>\n",
       "      <td>0</td>\n",
       "      <td>1</td>\n",
       "      <td>0</td>\n",
       "      <td>0</td>\n",
       "      <td>0</td>\n",
       "    </tr>\n",
       "    <tr>\n",
       "      <th>3</th>\n",
       "      <td>769911858</td>\n",
       "      <td>0</td>\n",
       "      <td>40</td>\n",
       "      <td>4</td>\n",
       "      <td>34</td>\n",
       "      <td>3</td>\n",
       "      <td>4</td>\n",
       "      <td>1</td>\n",
       "      <td>3313.0</td>\n",
       "      <td>2517</td>\n",
       "      <td>...</td>\n",
       "      <td>0</td>\n",
       "      <td>0</td>\n",
       "      <td>0</td>\n",
       "      <td>0</td>\n",
       "      <td>1</td>\n",
       "      <td>0</td>\n",
       "      <td>1</td>\n",
       "      <td>0</td>\n",
       "      <td>0</td>\n",
       "      <td>0</td>\n",
       "    </tr>\n",
       "    <tr>\n",
       "      <th>4</th>\n",
       "      <td>709106358</td>\n",
       "      <td>0</td>\n",
       "      <td>40</td>\n",
       "      <td>3</td>\n",
       "      <td>21</td>\n",
       "      <td>5</td>\n",
       "      <td>1</td>\n",
       "      <td>0</td>\n",
       "      <td>4716.0</td>\n",
       "      <td>0</td>\n",
       "      <td>...</td>\n",
       "      <td>0</td>\n",
       "      <td>0</td>\n",
       "      <td>1</td>\n",
       "      <td>0</td>\n",
       "      <td>0</td>\n",
       "      <td>0</td>\n",
       "      <td>1</td>\n",
       "      <td>0</td>\n",
       "      <td>0</td>\n",
       "      <td>0</td>\n",
       "    </tr>\n",
       "  </tbody>\n",
       "</table>\n",
       "<p>5 rows × 39 columns</p>\n",
       "</div>"
      ],
      "text/plain": [
       "   CLIENTNUM  Attrition_Flag  Customer_Age  Dependent_count  Months_on_book  \\\n",
       "0  768805383               0            45                3              39   \n",
       "1  818770008               0            49                5              44   \n",
       "2  713982108               0            51                3              36   \n",
       "3  769911858               0            40                4              34   \n",
       "4  709106358               0            40                3              21   \n",
       "\n",
       "   Total_Relationship_Count  Months_Inactive_12_mon  Contacts_Count_12_mon  \\\n",
       "0                         5                       1                      3   \n",
       "1                         6                       1                      2   \n",
       "2                         4                       1                      0   \n",
       "3                         3                       4                      1   \n",
       "4                         5                       1                      0   \n",
       "\n",
       "   Credit_Limit  Total_Revolving_Bal  ...  Income_Category_$120K +  \\\n",
       "0       12691.0                  777  ...                        0   \n",
       "1        8256.0                  864  ...                        0   \n",
       "2        3418.0                    0  ...                        0   \n",
       "3        3313.0                 2517  ...                        0   \n",
       "4        4716.0                    0  ...                        0   \n",
       "\n",
       "   Income_Category_$40K - $60K  Income_Category_$60K - $80K  \\\n",
       "0                            0                            1   \n",
       "1                            0                            0   \n",
       "2                            0                            0   \n",
       "3                            0                            0   \n",
       "4                            0                            1   \n",
       "\n",
       "   Income_Category_$80K - $120K  Income_Category_Less than $40K  \\\n",
       "0                             0                               0   \n",
       "1                             0                               1   \n",
       "2                             1                               0   \n",
       "3                             0                               1   \n",
       "4                             0                               0   \n",
       "\n",
       "   Income_Category_Unknown  Card_Category_Blue  Card_Category_Gold  \\\n",
       "0                        0                   1                   0   \n",
       "1                        0                   1                   0   \n",
       "2                        0                   1                   0   \n",
       "3                        0                   1                   0   \n",
       "4                        0                   1                   0   \n",
       "\n",
       "   Card_Category_Platinum  Card_Category_Silver  \n",
       "0                       0                     0  \n",
       "1                       0                     0  \n",
       "2                       0                     0  \n",
       "3                       0                     0  \n",
       "4                       0                     0  \n",
       "\n",
       "[5 rows x 39 columns]"
      ]
     },
     "execution_count": 98,
     "metadata": {},
     "output_type": "execute_result"
    }
   ],
   "source": [
    "df.head()"
   ]
  },
  {
   "cell_type": "code",
   "execution_count": 99,
   "id": "66388794-d2a9-4c3e-99fd-409b02426d87",
   "metadata": {},
   "outputs": [
    {
     "data": {
      "text/plain": [
       "CLIENTNUM                           int64\n",
       "Attrition_Flag                      int64\n",
       "Customer_Age                        int64\n",
       "Dependent_count                     int64\n",
       "Months_on_book                      int64\n",
       "Total_Relationship_Count            int64\n",
       "Months_Inactive_12_mon              int64\n",
       "Contacts_Count_12_mon               int64\n",
       "Credit_Limit                      float64\n",
       "Total_Revolving_Bal                 int64\n",
       "Avg_Open_To_Buy                   float64\n",
       "Total_Amt_Chng_Q4_Q1              float64\n",
       "Total_Trans_Amt                     int64\n",
       "Total_Trans_Ct                      int64\n",
       "Total_Ct_Chng_Q4_Q1               float64\n",
       "Avg_Utilization_Ratio             float64\n",
       "Gender_F                            uint8\n",
       "Gender_M                            uint8\n",
       "Education_Level_College             uint8\n",
       "Education_Level_Doctorate           uint8\n",
       "Education_Level_Graduate            uint8\n",
       "Education_Level_High School         uint8\n",
       "Education_Level_Post-Graduate       uint8\n",
       "Education_Level_Uneducated          uint8\n",
       "Education_Level_Unknown             uint8\n",
       "Marital_Status_Divorced             uint8\n",
       "Marital_Status_Married              uint8\n",
       "Marital_Status_Single               uint8\n",
       "Marital_Status_Unknown              uint8\n",
       "Income_Category_$120K +             uint8\n",
       "Income_Category_$40K - $60K         uint8\n",
       "Income_Category_$60K - $80K         uint8\n",
       "Income_Category_$80K - $120K        uint8\n",
       "Income_Category_Less than $40K      uint8\n",
       "Income_Category_Unknown             uint8\n",
       "Card_Category_Blue                  uint8\n",
       "Card_Category_Gold                  uint8\n",
       "Card_Category_Platinum              uint8\n",
       "Card_Category_Silver                uint8\n",
       "dtype: object"
      ]
     },
     "execution_count": 99,
     "metadata": {},
     "output_type": "execute_result"
    }
   ],
   "source": [
    "df.dtypes"
   ]
  },
  {
   "cell_type": "markdown",
   "id": "c56c90a6-d3b6-4dd8-bc00-f0bfa4928885",
   "metadata": {},
   "source": [
    "Now, we no longer have categorical/ordinal discrete data points, as everything has been converted into dummy variables.\n",
    "We should, however drop 'Gender_M' as a variable as the data is contained in the 'Gender_F' variable also."
   ]
  },
  {
   "cell_type": "code",
   "execution_count": 102,
   "id": "6c46635f-eafa-486d-a1b6-e5f3ed3bfec2",
   "metadata": {},
   "outputs": [
    {
     "data": {
      "text/html": [
       "<div>\n",
       "<style scoped>\n",
       "    .dataframe tbody tr th:only-of-type {\n",
       "        vertical-align: middle;\n",
       "    }\n",
       "\n",
       "    .dataframe tbody tr th {\n",
       "        vertical-align: top;\n",
       "    }\n",
       "\n",
       "    .dataframe thead th {\n",
       "        text-align: right;\n",
       "    }\n",
       "</style>\n",
       "<table border=\"1\" class=\"dataframe\">\n",
       "  <thead>\n",
       "    <tr style=\"text-align: right;\">\n",
       "      <th></th>\n",
       "      <th>Attrition_Flag</th>\n",
       "      <th>Customer_Age</th>\n",
       "      <th>Dependent_count</th>\n",
       "      <th>Months_on_book</th>\n",
       "      <th>Total_Relationship_Count</th>\n",
       "      <th>Months_Inactive_12_mon</th>\n",
       "      <th>Contacts_Count_12_mon</th>\n",
       "      <th>Credit_Limit</th>\n",
       "      <th>Total_Revolving_Bal</th>\n",
       "      <th>Avg_Open_To_Buy</th>\n",
       "      <th>...</th>\n",
       "      <th>Income_Category_$120K +</th>\n",
       "      <th>Income_Category_$40K - $60K</th>\n",
       "      <th>Income_Category_$60K - $80K</th>\n",
       "      <th>Income_Category_$80K - $120K</th>\n",
       "      <th>Income_Category_Less than $40K</th>\n",
       "      <th>Income_Category_Unknown</th>\n",
       "      <th>Card_Category_Blue</th>\n",
       "      <th>Card_Category_Gold</th>\n",
       "      <th>Card_Category_Platinum</th>\n",
       "      <th>Card_Category_Silver</th>\n",
       "    </tr>\n",
       "  </thead>\n",
       "  <tbody>\n",
       "    <tr>\n",
       "      <th>0</th>\n",
       "      <td>0</td>\n",
       "      <td>45</td>\n",
       "      <td>3</td>\n",
       "      <td>39</td>\n",
       "      <td>5</td>\n",
       "      <td>1</td>\n",
       "      <td>3</td>\n",
       "      <td>12691.0</td>\n",
       "      <td>777</td>\n",
       "      <td>11914.0</td>\n",
       "      <td>...</td>\n",
       "      <td>0</td>\n",
       "      <td>0</td>\n",
       "      <td>1</td>\n",
       "      <td>0</td>\n",
       "      <td>0</td>\n",
       "      <td>0</td>\n",
       "      <td>1</td>\n",
       "      <td>0</td>\n",
       "      <td>0</td>\n",
       "      <td>0</td>\n",
       "    </tr>\n",
       "    <tr>\n",
       "      <th>1</th>\n",
       "      <td>0</td>\n",
       "      <td>49</td>\n",
       "      <td>5</td>\n",
       "      <td>44</td>\n",
       "      <td>6</td>\n",
       "      <td>1</td>\n",
       "      <td>2</td>\n",
       "      <td>8256.0</td>\n",
       "      <td>864</td>\n",
       "      <td>7392.0</td>\n",
       "      <td>...</td>\n",
       "      <td>0</td>\n",
       "      <td>0</td>\n",
       "      <td>0</td>\n",
       "      <td>0</td>\n",
       "      <td>1</td>\n",
       "      <td>0</td>\n",
       "      <td>1</td>\n",
       "      <td>0</td>\n",
       "      <td>0</td>\n",
       "      <td>0</td>\n",
       "    </tr>\n",
       "    <tr>\n",
       "      <th>2</th>\n",
       "      <td>0</td>\n",
       "      <td>51</td>\n",
       "      <td>3</td>\n",
       "      <td>36</td>\n",
       "      <td>4</td>\n",
       "      <td>1</td>\n",
       "      <td>0</td>\n",
       "      <td>3418.0</td>\n",
       "      <td>0</td>\n",
       "      <td>3418.0</td>\n",
       "      <td>...</td>\n",
       "      <td>0</td>\n",
       "      <td>0</td>\n",
       "      <td>0</td>\n",
       "      <td>1</td>\n",
       "      <td>0</td>\n",
       "      <td>0</td>\n",
       "      <td>1</td>\n",
       "      <td>0</td>\n",
       "      <td>0</td>\n",
       "      <td>0</td>\n",
       "    </tr>\n",
       "    <tr>\n",
       "      <th>3</th>\n",
       "      <td>0</td>\n",
       "      <td>40</td>\n",
       "      <td>4</td>\n",
       "      <td>34</td>\n",
       "      <td>3</td>\n",
       "      <td>4</td>\n",
       "      <td>1</td>\n",
       "      <td>3313.0</td>\n",
       "      <td>2517</td>\n",
       "      <td>796.0</td>\n",
       "      <td>...</td>\n",
       "      <td>0</td>\n",
       "      <td>0</td>\n",
       "      <td>0</td>\n",
       "      <td>0</td>\n",
       "      <td>1</td>\n",
       "      <td>0</td>\n",
       "      <td>1</td>\n",
       "      <td>0</td>\n",
       "      <td>0</td>\n",
       "      <td>0</td>\n",
       "    </tr>\n",
       "    <tr>\n",
       "      <th>4</th>\n",
       "      <td>0</td>\n",
       "      <td>40</td>\n",
       "      <td>3</td>\n",
       "      <td>21</td>\n",
       "      <td>5</td>\n",
       "      <td>1</td>\n",
       "      <td>0</td>\n",
       "      <td>4716.0</td>\n",
       "      <td>0</td>\n",
       "      <td>4716.0</td>\n",
       "      <td>...</td>\n",
       "      <td>0</td>\n",
       "      <td>0</td>\n",
       "      <td>1</td>\n",
       "      <td>0</td>\n",
       "      <td>0</td>\n",
       "      <td>0</td>\n",
       "      <td>1</td>\n",
       "      <td>0</td>\n",
       "      <td>0</td>\n",
       "      <td>0</td>\n",
       "    </tr>\n",
       "  </tbody>\n",
       "</table>\n",
       "<p>5 rows × 37 columns</p>\n",
       "</div>"
      ],
      "text/plain": [
       "   Attrition_Flag  Customer_Age  Dependent_count  Months_on_book  \\\n",
       "0               0            45                3              39   \n",
       "1               0            49                5              44   \n",
       "2               0            51                3              36   \n",
       "3               0            40                4              34   \n",
       "4               0            40                3              21   \n",
       "\n",
       "   Total_Relationship_Count  Months_Inactive_12_mon  Contacts_Count_12_mon  \\\n",
       "0                         5                       1                      3   \n",
       "1                         6                       1                      2   \n",
       "2                         4                       1                      0   \n",
       "3                         3                       4                      1   \n",
       "4                         5                       1                      0   \n",
       "\n",
       "   Credit_Limit  Total_Revolving_Bal  Avg_Open_To_Buy  ...  \\\n",
       "0       12691.0                  777          11914.0  ...   \n",
       "1        8256.0                  864           7392.0  ...   \n",
       "2        3418.0                    0           3418.0  ...   \n",
       "3        3313.0                 2517            796.0  ...   \n",
       "4        4716.0                    0           4716.0  ...   \n",
       "\n",
       "   Income_Category_$120K +  Income_Category_$40K - $60K  \\\n",
       "0                        0                            0   \n",
       "1                        0                            0   \n",
       "2                        0                            0   \n",
       "3                        0                            0   \n",
       "4                        0                            0   \n",
       "\n",
       "   Income_Category_$60K - $80K  Income_Category_$80K - $120K  \\\n",
       "0                            1                             0   \n",
       "1                            0                             0   \n",
       "2                            0                             1   \n",
       "3                            0                             0   \n",
       "4                            1                             0   \n",
       "\n",
       "   Income_Category_Less than $40K  Income_Category_Unknown  \\\n",
       "0                               0                        0   \n",
       "1                               1                        0   \n",
       "2                               0                        0   \n",
       "3                               1                        0   \n",
       "4                               0                        0   \n",
       "\n",
       "   Card_Category_Blue  Card_Category_Gold  Card_Category_Platinum  \\\n",
       "0                   1                   0                       0   \n",
       "1                   1                   0                       0   \n",
       "2                   1                   0                       0   \n",
       "3                   1                   0                       0   \n",
       "4                   1                   0                       0   \n",
       "\n",
       "   Card_Category_Silver  \n",
       "0                     0  \n",
       "1                     0  \n",
       "2                     0  \n",
       "3                     0  \n",
       "4                     0  \n",
       "\n",
       "[5 rows x 37 columns]"
      ]
     },
     "execution_count": 102,
     "metadata": {},
     "output_type": "execute_result"
    }
   ],
   "source": [
    "modelling_df = df.drop(columns=['CLIENTNUM', 'Gender_M'], axis=1)\n",
    "modelling_df.head()"
   ]
  },
  {
   "cell_type": "code",
   "execution_count": null,
   "id": "ad9f14a7-c780-4ee7-b462-76743ebad5f5",
   "metadata": {},
   "outputs": [],
   "source": [
    "df_dummy = pd.get_dummies(df_discrete)\n",
    "df_dummy.head()"
   ]
  },
  {
   "cell_type": "markdown",
   "id": "hawaiian-referral",
   "metadata": {},
   "source": [
    "It looks like the `Gender` features has been duplicated, so let's drop this."
   ]
  },
  {
   "cell_type": "code",
   "execution_count": 83,
   "id": "fossil-ribbon",
   "metadata": {},
   "outputs": [],
   "source": [
    "df_dummy.drop('Gender_F', axis=1, inplace=True)"
   ]
  },
  {
   "cell_type": "markdown",
   "id": "invisible-offer",
   "metadata": {},
   "source": [
    "Let's inspect our dummy variables."
   ]
  },
  {
   "cell_type": "code",
   "execution_count": 84,
   "id": "hollow-vinyl",
   "metadata": {},
   "outputs": [
    {
     "name": "stdout",
     "output_type": "stream",
     "text": [
      "<class 'pandas.core.frame.DataFrame'>\n",
      "RangeIndex: 10127 entries, 0 to 10126\n",
      "Data columns (total 22 columns):\n",
      " #   Column                          Non-Null Count  Dtype\n",
      "---  ------                          --------------  -----\n",
      " 0   Gender_M                        10127 non-null  uint8\n",
      " 1   Education_Level_College         10127 non-null  uint8\n",
      " 2   Education_Level_Doctorate       10127 non-null  uint8\n",
      " 3   Education_Level_Graduate        10127 non-null  uint8\n",
      " 4   Education_Level_High School     10127 non-null  uint8\n",
      " 5   Education_Level_Post-Graduate   10127 non-null  uint8\n",
      " 6   Education_Level_Uneducated      10127 non-null  uint8\n",
      " 7   Education_Level_Unknown         10127 non-null  uint8\n",
      " 8   Marital_Status_Divorced         10127 non-null  uint8\n",
      " 9   Marital_Status_Married          10127 non-null  uint8\n",
      " 10  Marital_Status_Single           10127 non-null  uint8\n",
      " 11  Marital_Status_Unknown          10127 non-null  uint8\n",
      " 12  Income_Category_$120K +         10127 non-null  uint8\n",
      " 13  Income_Category_$40K - $60K     10127 non-null  uint8\n",
      " 14  Income_Category_$60K - $80K     10127 non-null  uint8\n",
      " 15  Income_Category_$80K - $120K    10127 non-null  uint8\n",
      " 16  Income_Category_Less than $40K  10127 non-null  uint8\n",
      " 17  Income_Category_Unknown         10127 non-null  uint8\n",
      " 18  Card_Category_Blue              10127 non-null  uint8\n",
      " 19  Card_Category_Gold              10127 non-null  uint8\n",
      " 20  Card_Category_Platinum          10127 non-null  uint8\n",
      " 21  Card_Category_Silver            10127 non-null  uint8\n",
      "dtypes: uint8(22)\n",
      "memory usage: 217.7 KB\n"
     ]
    }
   ],
   "source": [
    "df_dummy.info()"
   ]
  },
  {
   "cell_type": "code",
   "execution_count": null,
   "id": "cd6b5b61-ee30-48c4-ba1b-4d377b5bfacb",
   "metadata": {},
   "outputs": [],
   "source": []
  }
 ],
 "metadata": {
  "kernelspec": {
   "display_name": "Python 3 (ipykernel)",
   "language": "python",
   "name": "python3"
  },
  "language_info": {
   "codemirror_mode": {
    "name": "ipython",
    "version": 3
   },
   "file_extension": ".py",
   "mimetype": "text/x-python",
   "name": "python",
   "nbconvert_exporter": "python",
   "pygments_lexer": "ipython3",
   "version": "3.7.9"
  },
  "toc": {
   "base_numbering": 1,
   "nav_menu": {},
   "number_sections": false,
   "sideBar": true,
   "skip_h1_title": false,
   "title_cell": "Table of Contents",
   "title_sidebar": "Contents",
   "toc_cell": true,
   "toc_position": {
    "height": "calc(100% - 180px)",
    "left": "10px",
    "top": "150px",
    "width": "165px"
   },
   "toc_section_display": true,
   "toc_window_display": true
  },
  "varInspector": {
   "cols": {
    "lenName": 16,
    "lenType": 16,
    "lenVar": 40
   },
   "kernels_config": {
    "python": {
     "delete_cmd_postfix": "",
     "delete_cmd_prefix": "del ",
     "library": "var_list.py",
     "varRefreshCmd": "print(var_dic_list())"
    },
    "r": {
     "delete_cmd_postfix": ") ",
     "delete_cmd_prefix": "rm(",
     "library": "var_list.r",
     "varRefreshCmd": "cat(var_dic_list()) "
    }
   },
   "types_to_exclude": [
    "module",
    "function",
    "builtin_function_or_method",
    "instance",
    "_Feature"
   ],
   "window_display": false
  }
 },
 "nbformat": 4,
 "nbformat_minor": 5
}
