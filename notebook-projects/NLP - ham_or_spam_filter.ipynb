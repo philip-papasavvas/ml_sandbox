{
 "cells": [
  {
   "cell_type": "markdown",
   "metadata": {
    "colab_type": "text",
    "id": "view-in-github"
   },
   "source": [
    "<a href=\"https://colab.research.google.com/github/philip-papasavvas/ml_sandbox/blob/main/Natural_Language_Processing.ipynb\" target=\"_parent\"><img src=\"https://colab.research.google.com/assets/colab-badge.svg\" alt=\"Open In Colab\"/></a>"
   ]
  },
  {
   "cell_type": "markdown",
   "metadata": {
    "id": "wJszQsbAYT2-"
   },
   "source": [
    "# **Natural Language Processing (NLP) Project using the SMS Spam dataset**"
   ]
  },
  {
   "cell_type": "markdown",
   "metadata": {
    "id": "ypEcI5tFYQru"
   },
   "source": [
    "The following project will look at applying machine learning techniques, specifically for a natural language processing problem. The problem will focus on using SMS message data, curated from the UCI Machine Learning repository. The dataset contains almost 5,600 text messages in English, and are labelled with either ham (the text is not spam), or spam.\n",
    "\n",
    "In this project we will explore concept such as: \n",
    "* **Lemmaisation**: this involves converting each word into its base form, for example by removing its ending. Converting the word running to run is an example of lemmaisation.\n",
    "* **Bag of words**: This approach uses a collection of words to represent a sentence, taking account of the number of occurences of each word.\n",
    "\n",
    "The data used in this project can be found here:\n",
    "* https://archive.ics.uci.edu/ml/datasets/sms+spam+collection\n",
    "\n",
    "This workbook will have the following outline:\n",
    "1. **Exploratory Data Analysis**\n",
    "2. **Data pre-processing & feature engineering**\n",
    "3. **Applying a model**\n",
    "4. **Feature selection for NLP**\n",
    "5. **Lemmaisation**"
   ]
  },
  {
   "cell_type": "markdown",
   "metadata": {
    "id": "8VtngXTTB8Mw"
   },
   "source": [
    "## 1. Exploratory Data Analysis\n",
    "First, import the modules needed and load the data. Then, explore the statistics of the underlying data, such as the split between spam/non-spam (ham) messages and the length of the messages."
   ]
  },
  {
   "cell_type": "code",
   "execution_count": 2,
   "metadata": {
    "id": "fb1UNEYAhCvY"
   },
   "outputs": [],
   "source": [
    "import pandas as pd\n",
    "import numpy as np\n",
    "import string\n",
    "\n",
    "import matplotlib.pyplot as plt\n",
    "import seaborn as sns\n",
    "sns.set() # set seaborn as default style even if we use matplotlib\n",
    "\n",
    "# text preprocessing\n",
    "import nltk\n",
    "\n",
    "%matplotlib inline"
   ]
  },
  {
   "cell_type": "code",
   "execution_count": 3,
   "metadata": {
    "id": "fAuyvw2mauQ5"
   },
   "outputs": [],
   "source": [
    "# import the SMS text file\n",
    "sms_messages = pd.read_csv(\n",
    "    'https://raw.githubusercontent.com/philip-papasavvas/ml_sandbox/main/data/SMSSpamCollection.txt',\n",
    "    sep='\\t', names=['label', 'message'])"
   ]
  },
  {
   "cell_type": "code",
   "execution_count": 4,
   "metadata": {
    "colab": {
     "base_uri": "https://localhost:8080/"
    },
    "id": "kPiTwm4tjv4f",
    "outputId": "bb7249f8-9e7d-4e1b-8fd3-82fb1bd813cb"
   },
   "outputs": [
    {
     "name": "stdout",
     "output_type": "stream",
     "text": [
      "4825 non-spam messages \n",
      "747 spam messages\n"
     ]
    }
   ],
   "source": [
    "print(f\"{len(sms_messages[sms_messages['label'] == 'ham'])} non-spam messages \\n\"\n",
    "      f\"{len(sms_messages[sms_messages['label'] != 'ham'])} spam messages\")"
   ]
  },
  {
   "cell_type": "markdown",
   "metadata": {
    "id": "is0armGI_7Mp"
   },
   "source": [
    "We can see that there is an unbalanced dataset. This needs to be considered later on when applying machine learning models such as decision-tree algorithms, which generate a bias on unbalanced datasets. The issue here is when data is dominated by examples of only one type of class, then the classifer that is trainer will then be biased towards the majority class, in this case non-spam (ham) messages. So, when the classifier is applied to a test set that is also imbalanced, the classifier yields an optimistic accuracy estimate.\n",
    "\n",
    "As an example, but also an extreme case, the classifier could assign every test case to the non-spam category, and therefore the accuracy would be equal to the proportion of overall messages that are not non-spam, in this case 87%, which might be judged as a good level of accuracy. \n",
    "\n",
    "This is a well known problem in binary classification and machine learning, and can be counterbalanced in a number of ways, see the topic of discussion [here](https://stats.stackexchange.com/questions/28029/training-a-decision-tree-against-unbalanced-data)."
   ]
  },
  {
   "cell_type": "code",
   "execution_count": 5,
   "metadata": {},
   "outputs": [
    {
     "data": {
      "text/html": [
       "<div>\n",
       "<style scoped>\n",
       "    .dataframe tbody tr th:only-of-type {\n",
       "        vertical-align: middle;\n",
       "    }\n",
       "\n",
       "    .dataframe tbody tr th {\n",
       "        vertical-align: top;\n",
       "    }\n",
       "\n",
       "    .dataframe thead th {\n",
       "        text-align: right;\n",
       "    }\n",
       "</style>\n",
       "<table border=\"1\" class=\"dataframe\">\n",
       "  <thead>\n",
       "    <tr style=\"text-align: right;\">\n",
       "      <th></th>\n",
       "      <th>label</th>\n",
       "      <th>message</th>\n",
       "    </tr>\n",
       "  </thead>\n",
       "  <tbody>\n",
       "    <tr>\n",
       "      <th>0</th>\n",
       "      <td>ham</td>\n",
       "      <td>Go until jurong point, crazy.. Available only ...</td>\n",
       "    </tr>\n",
       "    <tr>\n",
       "      <th>1</th>\n",
       "      <td>ham</td>\n",
       "      <td>Ok lar... Joking wif u oni...</td>\n",
       "    </tr>\n",
       "    <tr>\n",
       "      <th>2</th>\n",
       "      <td>spam</td>\n",
       "      <td>Free entry in 2 a wkly comp to win FA Cup fina...</td>\n",
       "    </tr>\n",
       "    <tr>\n",
       "      <th>3</th>\n",
       "      <td>ham</td>\n",
       "      <td>U dun say so early hor... U c already then say...</td>\n",
       "    </tr>\n",
       "    <tr>\n",
       "      <th>4</th>\n",
       "      <td>ham</td>\n",
       "      <td>Nah I don't think he goes to usf, he lives aro...</td>\n",
       "    </tr>\n",
       "  </tbody>\n",
       "</table>\n",
       "</div>"
      ],
      "text/plain": [
       "  label                                            message\n",
       "0   ham  Go until jurong point, crazy.. Available only ...\n",
       "1   ham                      Ok lar... Joking wif u oni...\n",
       "2  spam  Free entry in 2 a wkly comp to win FA Cup fina...\n",
       "3   ham  U dun say so early hor... U c already then say...\n",
       "4   ham  Nah I don't think he goes to usf, he lives aro..."
      ]
     },
     "execution_count": 5,
     "metadata": {},
     "output_type": "execute_result"
    }
   ],
   "source": [
    "sms_messages.head()"
   ]
  },
  {
   "cell_type": "markdown",
   "metadata": {
    "id": "b_rImZgPAG8j"
   },
   "source": [
    "Having inspected the dataset, it would be useful to add some more features to the data, such as the **length** of each message and the **number of words**. It's important that we understand the data well, to have the ability to add more features. This will enable us to carry out feature engineering more effectively. This is extremely important in the field of natural language processing (and spam classification), where feature engineering is one of the most important parts of the process."
   ]
  },
  {
   "cell_type": "code",
   "execution_count": 6,
   "metadata": {},
   "outputs": [],
   "source": [
    "sms_messages['length'] = sms_messages['message'].apply(len)\n",
    "sms_messages['word_count'] = [len(x.split()) for x in sms_messages[\"message\"]]"
   ]
  },
  {
   "cell_type": "code",
   "execution_count": 7,
   "metadata": {
    "colab": {
     "base_uri": "https://localhost:8080/",
     "height": 175
    },
    "id": "IcNsgRpwAB3X",
    "outputId": "fda2d8a4-131a-452c-f764-b7dc1514256b"
   },
   "outputs": [
    {
     "data": {
      "text/html": [
       "<div>\n",
       "<style scoped>\n",
       "    .dataframe tbody tr th:only-of-type {\n",
       "        vertical-align: middle;\n",
       "    }\n",
       "\n",
       "    .dataframe tbody tr th {\n",
       "        vertical-align: top;\n",
       "    }\n",
       "\n",
       "    .dataframe thead tr th {\n",
       "        text-align: left;\n",
       "    }\n",
       "\n",
       "    .dataframe thead tr:last-of-type th {\n",
       "        text-align: right;\n",
       "    }\n",
       "</style>\n",
       "<table border=\"1\" class=\"dataframe\">\n",
       "  <thead>\n",
       "    <tr>\n",
       "      <th></th>\n",
       "      <th colspan=\"8\" halign=\"left\">length</th>\n",
       "      <th colspan=\"8\" halign=\"left\">word_count</th>\n",
       "    </tr>\n",
       "    <tr>\n",
       "      <th></th>\n",
       "      <th>count</th>\n",
       "      <th>mean</th>\n",
       "      <th>std</th>\n",
       "      <th>min</th>\n",
       "      <th>25%</th>\n",
       "      <th>50%</th>\n",
       "      <th>75%</th>\n",
       "      <th>max</th>\n",
       "      <th>count</th>\n",
       "      <th>mean</th>\n",
       "      <th>std</th>\n",
       "      <th>min</th>\n",
       "      <th>25%</th>\n",
       "      <th>50%</th>\n",
       "      <th>75%</th>\n",
       "      <th>max</th>\n",
       "    </tr>\n",
       "    <tr>\n",
       "      <th>label</th>\n",
       "      <th></th>\n",
       "      <th></th>\n",
       "      <th></th>\n",
       "      <th></th>\n",
       "      <th></th>\n",
       "      <th></th>\n",
       "      <th></th>\n",
       "      <th></th>\n",
       "      <th></th>\n",
       "      <th></th>\n",
       "      <th></th>\n",
       "      <th></th>\n",
       "      <th></th>\n",
       "      <th></th>\n",
       "      <th></th>\n",
       "      <th></th>\n",
       "    </tr>\n",
       "  </thead>\n",
       "  <tbody>\n",
       "    <tr>\n",
       "      <th>ham</th>\n",
       "      <td>4825.0</td>\n",
       "      <td>71.482487</td>\n",
       "      <td>58.440652</td>\n",
       "      <td>2.0</td>\n",
       "      <td>33.0</td>\n",
       "      <td>52.0</td>\n",
       "      <td>93.0</td>\n",
       "      <td>910.0</td>\n",
       "      <td>4825.0</td>\n",
       "      <td>14.310259</td>\n",
       "      <td>11.517945</td>\n",
       "      <td>1.0</td>\n",
       "      <td>7.0</td>\n",
       "      <td>11.0</td>\n",
       "      <td>19.0</td>\n",
       "      <td>171.0</td>\n",
       "    </tr>\n",
       "    <tr>\n",
       "      <th>spam</th>\n",
       "      <td>747.0</td>\n",
       "      <td>138.670683</td>\n",
       "      <td>28.873603</td>\n",
       "      <td>13.0</td>\n",
       "      <td>133.0</td>\n",
       "      <td>149.0</td>\n",
       "      <td>157.0</td>\n",
       "      <td>223.0</td>\n",
       "      <td>747.0</td>\n",
       "      <td>23.911647</td>\n",
       "      <td>5.780174</td>\n",
       "      <td>2.0</td>\n",
       "      <td>22.0</td>\n",
       "      <td>25.0</td>\n",
       "      <td>28.0</td>\n",
       "      <td>35.0</td>\n",
       "    </tr>\n",
       "  </tbody>\n",
       "</table>\n",
       "</div>"
      ],
      "text/plain": [
       "       length                                                           \\\n",
       "        count        mean        std   min    25%    50%    75%    max   \n",
       "label                                                                    \n",
       "ham    4825.0   71.482487  58.440652   2.0   33.0   52.0   93.0  910.0   \n",
       "spam    747.0  138.670683  28.873603  13.0  133.0  149.0  157.0  223.0   \n",
       "\n",
       "      word_count                                                      \n",
       "           count       mean        std  min   25%   50%   75%    max  \n",
       "label                                                                 \n",
       "ham       4825.0  14.310259  11.517945  1.0   7.0  11.0  19.0  171.0  \n",
       "spam       747.0  23.911647   5.780174  2.0  22.0  25.0  28.0   35.0  "
      ]
     },
     "execution_count": 7,
     "metadata": {},
     "output_type": "execute_result"
    }
   ],
   "source": [
    "sms_messages.groupby('label').describe()"
   ]
  },
  {
   "cell_type": "markdown",
   "metadata": {},
   "source": [
    "Add in the TRUE/FALSE indicator for whether a message is spam or not, rather than using the string label. It's cleaner from a mathematical standpoint."
   ]
  },
  {
   "cell_type": "code",
   "execution_count": 8,
   "metadata": {},
   "outputs": [],
   "source": [
    "sms_messages['is_spam'] = np.where(sms_messages['label'] == 'spam', 1, 0)"
   ]
  },
  {
   "cell_type": "markdown",
   "metadata": {},
   "source": [
    "### Inspecting the word_count and length of the messages"
   ]
  },
  {
   "cell_type": "markdown",
   "metadata": {},
   "source": [
    "Let's inspect the distribution of values for the word_count of messages between ham/spam messages."
   ]
  },
  {
   "cell_type": "code",
   "execution_count": 44,
   "metadata": {},
   "outputs": [
    {
     "data": {
      "text/plain": [
       "Text(0.5, 1.1, 'Word count of message by type')"
      ]
     },
     "execution_count": 44,
     "metadata": {},
     "output_type": "execute_result"
    },
    {
     "data": {
      "image/png": "[encoded data removed]",
      "text/plain": [
       "<Figure size 720x432 with 1 Axes>"
      ]
     },
     "metadata": {
      "needs_background": "light"
     },
     "output_type": "display_data"
    }
   ],
   "source": [
    "f, axes = plt.subplots(figsize=(10,6))\n",
    "sns.boxenplot(x='word_count', y='label', data=sms_messages, width=0.8, ax=axes)\n",
    "f.suptitle(\"Word count of message by type\", y=1.1, fontsize=12)"
   ]
  },
  {
   "cell_type": "markdown",
   "metadata": {},
   "source": [
    "Also look at the distribution for the length of the messages."
   ]
  },
  {
   "cell_type": "code",
   "execution_count": 45,
   "metadata": {},
   "outputs": [
    {
     "data": {
      "text/plain": [
       "Text(0.5, 1.1, 'Length of message by type')"
      ]
     },
     "execution_count": 45,
     "metadata": {},
     "output_type": "execute_result"
    },
    {
     "data": {
      "image/png": "[encoded data removed]",
      "text/plain": [
       "<Figure size 720x360 with 1 Axes>"
      ]
     },
     "metadata": {
      "needs_background": "light"
     },
     "output_type": "display_data"
    }
   ],
   "source": [
    "ax = sns.catplot(x='length', y='label', data=sms_messages, kind='violin', split=True, aspect=2)\n",
    "ax.fig.suptitle(\"Length of message by type\", y=1.1, fontsize=12)"
   ]
  },
  {
   "cell_type": "markdown",
   "metadata": {},
   "source": [
    "Therefore, from the above, for:\n",
    "- **word_count**: non-spam messages have many fewer words than the spam messages. On average the non-spam messages contain around 10 words, with the spam messaged containing around 25 words. The dispersion between the non-spam messages is much larger than the spam messages, with an outlier of almost 200 words in a message!\n",
    "- **length**: spam messages tend to be much longer, whilst the ham messages are much shorter. Again, the dispersion of the data for the non-spam is much greater than the spam messages."
   ]
  },
  {
   "cell_type": "markdown",
   "metadata": {
    "id": "kNzv5SsvC96L"
   },
   "source": [
    "We can also confirm the above intuitions using the *describe* method. Let's demonstrate this for the non-spam messages"
   ]
  },
  {
   "cell_type": "code",
   "execution_count": 47,
   "metadata": {
    "colab": {
     "base_uri": "https://localhost:8080/",
     "height": 115
    },
    "id": "SQ8rs6bmCda2",
    "outputId": "12e051ca-54c1-4ca1-b3d5-8e81d7a2363f"
   },
   "outputs": [
    {
     "name": "stdout",
     "output_type": "stream",
     "text": [
      "Non-spam messages, length statistics \n",
      "\n"
     ]
    },
    {
     "data": {
      "text/html": [
       "<div>\n",
       "<style scoped>\n",
       "    .dataframe tbody tr th:only-of-type {\n",
       "        vertical-align: middle;\n",
       "    }\n",
       "\n",
       "    .dataframe tbody tr th {\n",
       "        vertical-align: top;\n",
       "    }\n",
       "\n",
       "    .dataframe thead th {\n",
       "        text-align: right;\n",
       "    }\n",
       "</style>\n",
       "<table border=\"1\" class=\"dataframe\">\n",
       "  <thead>\n",
       "    <tr style=\"text-align: right;\">\n",
       "      <th></th>\n",
       "      <th>count</th>\n",
       "      <th>mean</th>\n",
       "      <th>std</th>\n",
       "      <th>min</th>\n",
       "      <th>25%</th>\n",
       "      <th>50%</th>\n",
       "      <th>75%</th>\n",
       "      <th>max</th>\n",
       "    </tr>\n",
       "  </thead>\n",
       "  <tbody>\n",
       "    <tr>\n",
       "      <th>length</th>\n",
       "      <td>4825.0</td>\n",
       "      <td>71.482487</td>\n",
       "      <td>58.440652</td>\n",
       "      <td>2.0</td>\n",
       "      <td>33.0</td>\n",
       "      <td>52.0</td>\n",
       "      <td>93.0</td>\n",
       "      <td>910.0</td>\n",
       "    </tr>\n",
       "    <tr>\n",
       "      <th>word_count</th>\n",
       "      <td>4825.0</td>\n",
       "      <td>14.310259</td>\n",
       "      <td>11.517945</td>\n",
       "      <td>1.0</td>\n",
       "      <td>7.0</td>\n",
       "      <td>11.0</td>\n",
       "      <td>19.0</td>\n",
       "      <td>171.0</td>\n",
       "    </tr>\n",
       "    <tr>\n",
       "      <th>is_spam</th>\n",
       "      <td>4825.0</td>\n",
       "      <td>0.000000</td>\n",
       "      <td>0.000000</td>\n",
       "      <td>0.0</td>\n",
       "      <td>0.0</td>\n",
       "      <td>0.0</td>\n",
       "      <td>0.0</td>\n",
       "      <td>0.0</td>\n",
       "    </tr>\n",
       "  </tbody>\n",
       "</table>\n",
       "</div>"
      ],
      "text/plain": [
       "             count       mean        std  min   25%   50%   75%    max\n",
       "length      4825.0  71.482487  58.440652  2.0  33.0  52.0  93.0  910.0\n",
       "word_count  4825.0  14.310259  11.517945  1.0   7.0  11.0  19.0  171.0\n",
       "is_spam     4825.0   0.000000   0.000000  0.0   0.0   0.0   0.0    0.0"
      ]
     },
     "execution_count": 47,
     "metadata": {},
     "output_type": "execute_result"
    }
   ],
   "source": [
    "print(\"Non-spam messages, length statistics \\n\")\n",
    "sms_messages[sms_messages['is_spam'] != 1].describe().T"
   ]
  },
  {
   "cell_type": "markdown",
   "metadata": {
    "id": "Lem_3DI5D_Wr"
   },
   "source": [
    "## 2. Data pre-processing & feature engineering\n"
   ]
  },
  {
   "cell_type": "markdown",
   "metadata": {},
   "source": [
    "Just by looking at the data, we can try to extract some features from the messages, to further enrich the amount of data we have in order to best classify whether a message is spam or not.\n",
    "To do this, let's look at some examples of the spam and ham messages."
   ]
  },
  {
   "cell_type": "code",
   "execution_count": 48,
   "metadata": {},
   "outputs": [
    {
     "name": "stdout",
     "output_type": "stream",
     "text": [
      "Spam message examples: \n",
      " ****************************** \n",
      " \n",
      "\n",
      "Congratulations ur awarded 500 of CD vouchers or 125gift guaranteed & Free entry 2 100 wkly draw txt MUSIC to 87066 TnCs www.Ldew.com1win150ppmx3age16 \n",
      " \n",
      "\n",
      "RGENT! This is the 2nd attempt to contact U!U have WON £1250 CALL 09071512433 b4 050703 T&CsBCM4235WC1N3XX. callcost 150ppm mobilesvary. max£7. 50 \n",
      " \n",
      "\n",
      "You are guaranteed the latest Nokia Phone, a 40GB iPod MP3 player or a £500 prize! Txt word: COLLECT to No: 83355! IBHltd LdnW15H 150p/Mtmsgrcvd18+ \n",
      " \n",
      "\n",
      "XMAS iscoming & ur awarded either £500 CD gift vouchers & free entry 2 r £100 weekly draw txt MUSIC to 87066 TnC www.Ldew.com1win150ppmx3age16subscription  \n",
      " \n",
      "\n",
      "Santa calling! Would your little ones like a call from Santa Xmas Eve? Call 09077818151 to book you time. Calls1.50ppm last 3mins 30s T&C www.santacalling.com \n",
      " \n",
      "\n",
      "Non-spam message examples: \n",
      " ****************************** \n",
      " \n",
      "\n",
      "Like I made him throw up when we were smoking in our friend's car one time, it was awesome \n",
      " \n",
      "\n",
      "Well, i'm gonna finish my bath now. Have a good...fine night. \n",
      " \n",
      "\n",
      "alright tyler's got a minor crisis and has to be home sooner than he thought so be here asap \n",
      " \n",
      "\n",
      "Guess he wants alone time. We could just show up and watch when they do.. \n",
      " \n",
      "\n",
      "Nimbomsons. Yep phone knows that one. Obviously, cos thats a real word \n",
      " \n",
      "\n"
     ]
    }
   ],
   "source": [
    "spam_messages = sms_messages.loc[sms_messages['is_spam']==1, 'message'] # pd.Series\n",
    "non_spam_messages = sms_messages.loc[sms_messages['is_spam']==0, 'message'] # pd.Series\n",
    "\n",
    "np.random.seed(1)\n",
    "\n",
    "print(\"Spam message examples: \\n\", \"*\" * 30, \"\\n \\n\")\n",
    "for random_choice in np.random.randint(0, len(spam_messages), 5):\n",
    "    print(f\"{spam_messages.iloc[random_choice]} \\n \\n\")\n",
    "\n",
    "    \n",
    "print(\"Non-spam message examples: \\n\", \"*\"*30, \"\\n \\n\")\n",
    "for random_choice in np.random.randint(0, len(non_spam_messages), 5):\n",
    "    print(f\"{non_spam_messages.iloc[random_choice]} \\n \\n\")"
   ]
  },
  {
   "cell_type": "markdown",
   "metadata": {},
   "source": [
    "Having investigated some examples of spam and non-spam messages above, we see that spam messages have:\n",
    "- **more** capital letters\n",
    "- **more** punctuation: question marks and exclamation marks\n",
    "- **more** numbers: prompting the user that they have won a specific amount, or prompting them to call/message a specific number\n",
    "We can assess these intuitions later when running classifiers for the messages.\n",
    "\n",
    "It doesn't seem like punctuation in messages (commas, full stops) gives us lots of insight about whether a message is spam or not, so we will remove these bits of punctuation from the messages. Note that we still extract a feature detailing the number of question/exclamation marks in the text.\n",
    "\n",
    "In addition to this, common words (the, a, there, etc.) appearing in the English language (stopwords) do not give much away regarding if the messages are spam or not. I will write functions to:\n",
    "* remove punctuation\n",
    "* remove stopwords - we wil make use of the **corupus** package within the **nltk** package to do so.\n",
    "\n",
    "Whilst also adding the feature for the number of digits contained in the text body, and the level of punctuation (question marks/exclamation marks)."
   ]
  },
  {
   "cell_type": "code",
   "execution_count": 49,
   "metadata": {},
   "outputs": [],
   "source": [
    "import re\n",
    "\n",
    "# functions below will substitute any non-numeric character with empty space, and count the number\n",
    "# numeric characters remaining\n",
    "def count_numerics(input_str: str) -> int:\n",
    "    return len(re.sub(\"[^0-9]\", \"\", input_str))\n",
    "\n",
    "def count_exclamation_question(input_str: str) -> int:\n",
    "    return len(re.sub(\"[^!?]\", \"\", input_str))\n",
    "\n",
    "sms_messages['numeric_count'] = sms_messages['message'].apply(count_numerics)\n",
    "sms_messages['exclamation_question_count'] = sms_messages['message'].apply(count_exclamation_question)"
   ]
  },
  {
   "cell_type": "code",
   "execution_count": 54,
   "metadata": {},
   "outputs": [
    {
     "data": {
      "image/png": "[encoded data removed]",
      "text/plain": [
       "<Figure size 864x576 with 2 Axes>"
      ]
     },
     "metadata": {
      "needs_background": "light"
     },
     "output_type": "display_data"
    }
   ],
   "source": [
    "fig = plt.figure(figsize=(12,8))\n",
    "\n",
    "ax1 = fig.add_subplot(121)\n",
    "ax1.set_title(\"Numeric_count of messages by type\")\n",
    "g = sns.boxplot(data=sms_messages, x='label', y='numeric_count', ax=ax1)\n",
    "\n",
    "ax2 = fig.add_subplot(122)\n",
    "ax2.set_title(\"Exclamation_question count of messages by type\")\n",
    "g = sns.boxplot(data=sms_messages, x='label', y='exclamation_question_count', hue='label', ax=ax2)\n",
    "\n",
    "plt.close(2)\n",
    "plt.close(3)"
   ]
  },
  {
   "cell_type": "markdown",
   "metadata": {},
   "source": [
    "it looks like in general, spam messgaes have more numbers in each message than non-spam messages, and more exclamation/question marks in them too."
   ]
  },
  {
   "cell_type": "markdown",
   "metadata": {},
   "source": [
    "## 3. Application of common ML models\n",
    "After adding features to the data, with regard to the number of numeric characters in each message, the length of the message, and the count of any exclamation and punctuation marks, we can attempt to feed in this data into a machine learning model to classify messages if they are spam or not. It might be unusual to do this in an NLP problem, but let's try it anyway and investigate the results we get, before diving into more detailed NLP techniques.\n",
    "\n",
    "As mentioned above we have an unbalanced dataset, where 13% of the messages in the dataset are spam, and the rest are not. In order to counterbalance this, we will use the two solutions:\n",
    " - **undersample** the majority spam class, or **oversample** the minority non-spam class, to prevent the bias in the first place\n",
    " - modify the **cost of misclassification** to prevent bias."
   ]
  },
  {
   "cell_type": "markdown",
   "metadata": {},
   "source": [
    "I'd like to highlight the dangers of not balancing the dataset to address the imbalance between the spam/non-spam messages. Therefore I will use a logistic regression classifier without using stratification of the sample (will not adjust the sampling of the data to ensure the split datasets have the same proportion of spam/non-spam messages). "
   ]
  },
  {
   "cell_type": "markdown",
   "metadata": {},
   "source": [
    "Before training the machine learning model it is crucial that we separate out the dataset into three different parts:\n",
    "- **training set**: this input data is used for the model to learn about the dataset, and fit its parameters.\n",
    "- **validation set**: this data is used to evlatue a given model in order to tune the model parameters. The model will *see* the data, but won't learn from it. Strictly speaking this dataset does influence the model, but indirectly.\n",
    "- **testing set**: this is the gold standard to evaluate the fit of the model. The test set is used once a model is completely trained, and will give you the accuracy of the model.\n"
   ]
  },
  {
   "cell_type": "markdown",
   "metadata": {},
   "source": [
    "Further, I'd like to cover three of the performance measures to assess the models we will be training and fitting for the data.\n",
    "\n",
    "### Precision\n",
    "This is the ratio of correctly predicted positive observations compared to the total predicted positive observations. High precision means that there is a low false positive rate, that is, not very many observations are predicted as positive falsely.\n",
    "\n",
    "*Another way of wording: Of all predicted positive observations, what was the fraction that were positive?*\n",
    "\n",
    "### Recall (sensitivity)\n",
    "This is the ratio of the correctly predicted positive observations compared to all positive observations.\n",
    "\n",
    "*Another way of wording: Of all of the actual positive observations, what fraction did we predict as positive?*\n",
    "\n",
    "### F1-score\n",
    "This is the weighted average of the precision and recall. It takes into account both false positives and false negatives. This is a useful measure to combine both the precision and recall into one measure."
   ]
  },
  {
   "cell_type": "markdown",
   "metadata": {},
   "source": [
    "Inspect the data briefly"
   ]
  },
  {
   "cell_type": "code",
   "execution_count": 55,
   "metadata": {},
   "outputs": [
    {
     "name": "stdout",
     "output_type": "stream",
     "text": [
      "<class 'pandas.core.frame.DataFrame'>\n",
      "RangeIndex: 5572 entries, 0 to 5571\n",
      "Data columns (total 7 columns):\n",
      " #   Column                      Non-Null Count  Dtype \n",
      "---  ------                      --------------  ----- \n",
      " 0   label                       5572 non-null   object\n",
      " 1   message                     5572 non-null   object\n",
      " 2   length                      5572 non-null   int64 \n",
      " 3   word_count                  5572 non-null   int64 \n",
      " 4   is_spam                     5572 non-null   int64 \n",
      " 5   numeric_count               5572 non-null   int64 \n",
      " 6   exclamation_question_count  5572 non-null   int64 \n",
      "dtypes: int64(5), object(2)\n",
      "memory usage: 304.8+ KB\n"
     ]
    }
   ],
   "source": [
    "sms_messages.info()"
   ]
  },
  {
   "cell_type": "markdown",
   "metadata": {},
   "source": [
    "Split the data using the **scikit-learn** train_test_split function."
   ]
  },
  {
   "cell_type": "code",
   "execution_count": 56,
   "metadata": {},
   "outputs": [],
   "source": [
    "from sklearn.model_selection import train_test_split\n",
    "data_features = ['length', 'word_count', \n",
    "                  'numeric_count', 'exclamation_question_count']\n",
    "X = sms_messages[data_features]\n",
    "y = sms_messages['is_spam']\n",
    "\n",
    "X_train, X_test, y_train, y_test = train_test_split(X, y, \n",
    "                                                    test_size=0.2, # 20% of the data will be used to test the model accuracy\n",
    "                                                   random_state=1,\n",
    "                                                   stratify=y)\n",
    "\n",
    "# further split the train set into \n",
    "# choose the validation set to be 25% of the training set we've just taken, overall we\n",
    "# have 20% of the original data as the validation set\n",
    "X_train, X_val, y_train, y_val = train_test_split(X_train, y_train, \n",
    "                                                  test_size=0.25,\n",
    "                                                 random_state=1,\n",
    "                                                 stratify = y_train)"
   ]
  },
  {
   "cell_type": "markdown",
   "metadata": {},
   "source": [
    "### 3.1 Logistic regression\n",
    "Firstly we will apply logistic regression to the data, using the training set to train the model, and then the test set to evaluate the performance of the model.\n",
    "We can then verify the performance of the model using the validation set."
   ]
  },
  {
   "cell_type": "code",
   "execution_count": 67,
   "metadata": {},
   "outputs": [
    {
     "name": "stdout",
     "output_type": "stream",
     "text": [
      "Accuracy score for the test set was 96.59% \n",
      " \n",
      "Accuracy score for the validation set was 97.22%\n"
     ]
    }
   ],
   "source": [
    "from sklearn.linear_model import LogisticRegression\n",
    "from sklearn.metrics import confusion_matrix, accuracy_score\n",
    "\n",
    "logistic = LogisticRegression(solver='lbfgs')\n",
    "logistic.fit(X_train, y_train)\n",
    "\n",
    "test_set_predictions = logistic.predict(X_test)\n",
    "test_set_accuracy_score = accuracy_score(y_true=y_test, y_pred=test_set_predictions)\n",
    "print(f\"Accuracy score for the test set was {100*test_set_accuracy_score:.2f}% \\n \")\n",
    "\n",
    "\n",
    "val_set_predictions = logistic.predict(X_val)\n",
    "validation_set_accuracy = accuracy_score(y_true=y_val, y_pred=val_set_predictions)\n",
    "print(f\"Accuracy score for the validation set was {100*validation_set_accuracy:.2f}%\")"
   ]
  },
  {
   "cell_type": "code",
   "execution_count": 68,
   "metadata": {},
   "outputs": [],
   "source": [
    "confusion_test = confusion_matrix(y_true=y_test, y_pred=test_set_predictions)\n",
    "confusion_validation = confusion_matrix(y_true=y_val, y_pred=val_set_predictions)"
   ]
  },
  {
   "cell_type": "markdown",
   "metadata": {},
   "source": [
    "It would be useful to write a function to plot a confusion matrix for the results of the two tests."
   ]
  },
  {
   "cell_type": "code",
   "execution_count": 69,
   "metadata": {},
   "outputs": [],
   "source": [
    "def plot_confusion_matrix(input_matrix: np.ndarray, labels=None, title: str = None):\n",
    "    \"\"\"Seaborn plot of the confusion matrix, given labels (if so)\"\"\"\n",
    "    \n",
    "    labels = labels if labels else ['Negative (0)', 'Positive (1)']\n",
    "        \n",
    "    fig, ax = plt.subplots()\n",
    "    fig = plt.figure(figsize=(8,8))\n",
    "    sns.heatmap(data=input_matrix, xticklabels=labels, yticklabels=labels, ax=ax,\n",
    "               cmap='YlGnBu', annot=True, fmt='g',\n",
    "               annot_kws={'size': 16})\n",
    "    ax.set_xlabel(\"Prediction\")\n",
    "    ax.set_ylabel(\"Actual\")\n",
    "    ax.set_title(\"Confusion Matrix\")\n",
    "    plt.close()\n",
    "        \n",
    "    return fig      "
   ]
  },
  {
   "cell_type": "markdown",
   "metadata": {},
   "source": [
    "#### Test set results\n",
    "First let's look at the confusion matrix for the test set."
   ]
  },
  {
   "cell_type": "code",
   "execution_count": 95,
   "metadata": {},
   "outputs": [
    {
     "name": "stdout",
     "output_type": "stream",
     "text": [
      "              precision    recall  f1-score   support\n",
      "\n",
      "           0       0.97      0.99      0.98       966\n",
      "           1       0.91      0.83      0.87       149\n",
      "\n",
      "    accuracy                           0.97      1115\n",
      "   macro avg       0.94      0.91      0.92      1115\n",
      "weighted avg       0.97      0.97      0.97      1115\n",
      "\n"
     ]
    },
    {
     "data": {
      "image/png": "[encoded data removed]",
      "text/plain": [
       "<Figure size 432x288 with 2 Axes>"
      ]
     },
     "metadata": {
      "needs_background": "light"
     },
     "output_type": "display_data"
    }
   ],
   "source": [
    "from sklearn.metrics import classification_report\n",
    "\n",
    "plot_confusion_matrix(confusion_test, labels=['not spam', 'spam'])\n",
    "print(classification_report(y_test, test_set_predictions))"
   ]
  },
  {
   "cell_type": "markdown",
   "metadata": {},
   "source": [
    "Therefore, we see that using the **test set**:\n",
    "- Of 966 non-spam messages, 954 were classified as not spam, with 12 incorrectly classified as spam. Therefore, the **recall was 99% for not spam**.\n",
    "- From a total of 149 spam messages, 123 were predicted correctly. The **recall for not spam was 83%**. \n",
    "\n",
    "Overall, the accuracy for the test set is good, at 97%. However, since we only have 149 observations that are spam, compared to 966 observations that are \n",
    "non-spam, and therefore the peformance metrics in terms of precision, recall and f1-score are lower for the spam classifier."
   ]
  },
  {
   "cell_type": "markdown",
   "metadata": {},
   "source": [
    "#### Validation set results\n",
    "First let's look at the confusion matrix and classification report for the validation set."
   ]
  },
  {
   "cell_type": "code",
   "execution_count": 96,
   "metadata": {},
   "outputs": [
    {
     "name": "stdout",
     "output_type": "stream",
     "text": [
      "              precision    recall  f1-score   support\n",
      "\n",
      "           0       0.98      0.99      0.98       965\n",
      "           1       0.93      0.85      0.89       150\n",
      "\n",
      "    accuracy                           0.97      1115\n",
      "   macro avg       0.96      0.92      0.94      1115\n",
      "weighted avg       0.97      0.97      0.97      1115\n",
      "\n"
     ]
    },
    {
     "data": {
      "image/png": "[encoded data removed]",
      "text/plain": [
       "<Figure size 432x288 with 2 Axes>"
      ]
     },
     "metadata": {
      "needs_background": "light"
     },
     "output_type": "display_data"
    }
   ],
   "source": [
    "plot_confusion_matrix(confusion_validation, labels=['not spam', 'spam'])\n",
    "print(classification_report(y_val, val_set_predictions))"
   ]
  },
  {
   "cell_type": "markdown",
   "metadata": {},
   "source": [
    "Therefore, we see that using the **cross validation set**:\n",
    "- Of 965 non-spam messages, 956 were predicted as not spam, and 9 were predicted as spam - **a recall rate of 99% for not spam**. \n",
    "- Of 150 spam messages, 128 were predicted correctly as spam- **a recall rate of 85%**.\n",
    "\n",
    "Overall the accuracy of the predictions on the cross-validation set was 97%."
   ]
  },
  {
   "cell_type": "markdown",
   "metadata": {},
   "source": [
    "## 3.2 Decision Tree\n",
    "In this case we have either a spam or non-spam message, so this would fit the requirements of a decision tree.  As mentioned previously, we will ensure that the binary decision tree has an automatic adjustment according to the proportion of spam/non-spam messages, else the tree might become biased toward the more dominant spam message classification.\n",
    "\n",
    "To adjust for this, we will pass **class_weight='balanced'** parameter into the decision tree, to peform an adjustment according to the proportion of frequencies of each class. This decision tree algorithm will therefore become a **class-weighted decision tree**.\n",
    "\n",
    "We will now fit the model for the decision tree, and show the text detailing the set of rules generated by the decision tree."
   ]
  },
  {
   "cell_type": "code",
   "execution_count": 101,
   "metadata": {},
   "outputs": [
    {
     "name": "stdout",
     "output_type": "stream",
     "text": [
      "|--- numeric_count <= 1.50\n",
      "|   |--- length <= 113.50\n",
      "|   |   |--- length <= 68.50\n",
      "|   |   |   |--- numeric_count <= 0.50\n",
      "|   |   |   |   |--- truncated branch of depth 4\n",
      "|   |   |   |--- numeric_count >  0.50\n",
      "|   |   |   |   |--- truncated branch of depth 4\n",
      "|   |   |--- length >  68.50\n",
      "|   |   |   |--- word_count <= 10.50\n",
      "|   |   |   |   |--- truncated branch of depth 2\n",
      "|   |   |   |--- word_count >  10.50\n",
      "|   |   |   |   |--- truncated branch of depth 9\n",
      "|   |--- length >  113.50\n",
      "|   |   |--- word_count <= 20.50\n",
      "|   |   |   |--- length <= 135.00\n",
      "|   |   |   |   |--- truncated branch of depth 5\n",
      "|   |   |   |--- length >  135.00\n",
      "|   |   |   |   |--- truncated branch of depth 3\n",
      "|   |   |--- word_count >  20.50\n",
      "|   |   |   |--- word_count <= 29.50\n",
      "|   |   |   |   |--- truncated branch of depth 10\n",
      "|   |   |   |--- word_count >  29.50\n",
      "|   |   |   |   |--- weights: [127.61, 0.00] class: 0\n",
      "|--- numeric_count >  1.50\n",
      "|   |--- numeric_count <= 4.50\n",
      "|   |   |--- length <= 131.50\n",
      "|   |   |   |--- length <= 50.50\n",
      "|   |   |   |   |--- weights: [14.44, 0.00] class: 0\n",
      "|   |   |   |--- length >  50.50\n",
      "|   |   |   |   |--- truncated branch of depth 7\n",
      "|   |   |--- length >  131.50\n",
      "|   |   |   |--- word_count <= 33.50\n",
      "|   |   |   |   |--- truncated branch of depth 10\n",
      "|   |   |   |--- word_count >  33.50\n",
      "|   |   |   |   |--- weights: [12.13, 0.00] class: 0\n",
      "|   |--- numeric_count >  4.50\n",
      "|   |   |--- word_count <= 35.50\n",
      "|   |   |   |--- length <= 222.50\n",
      "|   |   |   |   |--- truncated branch of depth 13\n",
      "|   |   |   |--- length >  222.50\n",
      "|   |   |   |   |--- weights: [0.58, 0.00] class: 0\n",
      "|   |   |--- word_count >  35.50\n",
      "|   |   |   |--- weights: [4.04, 0.00] class: 0\n",
      "\n"
     ]
    }
   ],
   "source": [
    "from sklearn.tree import DecisionTreeClassifier\n",
    "from sklearn.tree.export import export_text\n",
    "from sklearn import tree\n",
    "\n",
    "import graphviz\n",
    "\n",
    "decision_tree_model = DecisionTreeClassifier(class_weight='balanced')\n",
    "decision_tree_model.fit(X_train, y_train)\n",
    "\n",
    "tree_rules = export_text(decision_tree_model, \n",
    "                        show_weights=True,\n",
    "                        feature_names=['length', 'word_count', 'numeric_count', 'exclamation_question_count'],\n",
    "                        max_depth=3)\n",
    "print(tree_rules)\n"
   ]
  },
  {
   "cell_type": "code",
   "execution_count": 105,
   "metadata": {},
   "outputs": [
    {
     "name": "stdout",
     "output_type": "stream",
     "text": [
      "Accuracy is:  96.41%\n"
     ]
    }
   ],
   "source": [
    "y_pred = decision_tree_model.predict(X_test)\n",
    "\n",
    "print(f\"Accuracy is: {100*accuracy_score(y_test, y_pred): .2f}%\")"
   ]
  },
  {
   "cell_type": "markdown",
   "metadata": {},
   "source": [
    "## 4. Feature selection for NLP\n",
    "\n",
    "There are many different ways to look at the features of the text message data:\n",
    "- **tokenisation**: we have converted the original text strings into lists of tokens (meaningful words that are free of stopwords and punctuation).\n",
    "- **stemming**: stemming: this is the process of reducing a word to its word stem/root form. This is where you would remove affixes to a word, such as An example of this are ed, -ize, -s, etc. Stems are created when the suffixes/prefixes are removed from the word. Converting our list of words into stems will then give us a vector that we can use with machine learning libraries such as **scikit-learn**."
   ]
  },
  {
   "cell_type": "code",
   "execution_count": null,
   "metadata": {},
   "outputs": [],
   "source": [
    "from nltk.corpus import stopwords # common words\n",
    "\n",
    "stopwords.words('English')"
   ]
  },
  {
   "cell_type": "markdown",
   "metadata": {},
   "source": [
    "We can see that overall there are 179 stopwords! These can be removed from the dataset to reduce each message and will ensure smaller feature vectors for use in our machine learning model. Now let's construct a function to remove punctuation from a text, as well as removing the stopwords, and test the function afterwards."
   ]
  },
  {
   "cell_type": "code",
   "execution_count": null,
   "metadata": {},
   "outputs": [],
   "source": [
    "def clean_text(txt: str) -> list:\n",
    "  \"\"\"Method to clean input text (list)\"\"\"\n",
    "  # remove punctuation from the list\n",
    "  no_punc = [char for char in txt if char not in string.punctuation]\n",
    "  \n",
    "  # join the chaaracters with no punctuation to get the original words\n",
    "  no_punc = \"\".join(no_punc)\n",
    "\n",
    "  # remove stopwords\n",
    "  return [word for word in no_punc.split() if word not in english_stopwords]\n",
    "\n",
    "clean_text(sms_messages['message'][10])"
   ]
  },
  {
   "cell_type": "markdown",
   "metadata": {
    "colab": {
     "base_uri": "https://localhost:8080/"
    },
    "id": "CheJbqdlcTaj",
    "outputId": "4dc9327b-0340-4672-848b-fb5598f6c763"
   },
   "source": [
    "We saw earlier the original text has been reduced in size from a string, to a list of strings (words).\n",
    "\n",
    "We will go ahead and apply this **clean_text** function to all of our messages."
   ]
  },
  {
   "cell_type": "code",
   "execution_count": null,
   "metadata": {},
   "outputs": [],
   "source": [
    "sms_messages['cleaned_message'] = sms_messages['message'].apply(clean_text)"
   ]
  },
  {
   "cell_type": "markdown",
   "metadata": {},
   "source": [
    "## Lemmaisation"
   ]
  }
 ],
 "metadata": {
  "colab": {
   "collapsed_sections": [],
   "include_colab_link": true,
   "name": "Natural_Language_Processing.ipynb",
   "provenance": []
  },
  "kernelspec": {
   "display_name": "Python 3",
   "language": "python",
   "name": "python3"
  },
  "language_info": {
   "codemirror_mode": {
    "name": "ipython",
    "version": 3
   },
   "file_extension": ".py",
   "mimetype": "text/x-python",
   "name": "python",
   "nbconvert_exporter": "python",
   "pygments_lexer": "ipython3",
   "version": "3.7.3"
  }
 },
 "nbformat": 4,
 "nbformat_minor": 4
}
