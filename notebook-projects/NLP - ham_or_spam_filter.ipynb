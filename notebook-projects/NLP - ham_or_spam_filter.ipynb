{
 "cells": [
  {
   "cell_type": "markdown",
   "metadata": {
    "colab_type": "text",
    "id": "view-in-github"
   },
   "source": [
    "<a href=\"https://colab.research.google.com/github/philip-papasavvas/ml_sandbox/blob/main/Natural_Language_Processing.ipynb\" target=\"_parent\"><img src=\"https://colab.research.google.com/assets/colab-badge.svg\" alt=\"Open In Colab\"/></a>"
   ]
  },
  {
   "cell_type": "markdown",
   "metadata": {
    "id": "wJszQsbAYT2-"
   },
   "source": [
    "# **Natural Language Processing (NLP) Project using the SMS Spam dataset**"
   ]
  },
  {
   "cell_type": "markdown",
   "metadata": {
    "id": "ypEcI5tFYQru"
   },
   "source": [
    "The following project will look at applying machine learning techniques, specifically for a natural language processing problem. The problem will focus on using SMS message data, taken from the Kaggle website, where the data was originally curated from the UCI Machine Learning repository. The dataset contains almost 5,600 text messages in English, and are labelled with either ham (not spam), or spam.\n",
    "\n",
    "In this project we will explore concept such as: \n",
    "* **Feature engineering**: assessing the messages to add features to each one, such as the presence of exclamation marks, capital letters, the length of each message, and so on.\n",
    "* **Lemmaisation**: this involves converting each word into its base form, for example by removing its ending. Converting the word running to run is an example of lemmaisation.\n",
    "* **Bag of words**: This approach uses a collection of words to represent a sentence, taking account of the number of occurences of each word.\n",
    "\n",
    "The data used in this project can be found here:\n",
    "* https://www.kaggle.com/uciml/sms-spam-collection-dataset\n",
    "* https://archive.ics.uci.edu/ml/datasets/sms+spam+collection\n",
    "\n",
    "This workbook will have the following outline:\n",
    "1. **Exploratory Data Analysis**\n",
    "2. **Data pre-processing & feature engineering**\n",
    "3. **Application of common ML models**\n",
    "4. **Logistic regression**\n",
    "5. **Decision tree**\n",
    "6. **NLP Methods: tokenisation, vectorization**"
   ]
  },
  {
   "cell_type": "markdown",
   "metadata": {
    "id": "8VtngXTTB8Mw"
   },
   "source": [
    "## 1. Exploratory Data Analysis\n",
    "First, import the modules needed and load the data. Then, explore the statistics of the underlying data, such as the split between spam/non-spam (ham) messages and the length of the messages."
   ]
  },
  {
   "cell_type": "code",
   "execution_count": 1,
   "metadata": {
    "id": "fb1UNEYAhCvY"
   },
   "outputs": [],
   "source": [
    "import pandas as pd\n",
    "import numpy as np\n",
    "import string\n",
    "\n",
    "import matplotlib.pyplot as plt\n",
    "import seaborn as sns\n",
    "sns.set() # set seaborn as default style even if we use matplotlib\n",
    "\n",
    "# text preprocessing\n",
    "import nltk\n",
    "\n",
    "%matplotlib inline"
   ]
  },
  {
   "cell_type": "code",
   "execution_count": 2,
   "metadata": {
    "id": "fAuyvw2mauQ5"
   },
   "outputs": [],
   "source": [
    "# import the SMS text file\n",
    "sms_messages = pd.read_csv(\n",
    "    'https://raw.githubusercontent.com/philip-papasavvas/ml_sandbox/main/data/SMSSpamCollection.txt',\n",
    "    sep='\\t', names=['label', 'message'])"
   ]
  },
  {
   "cell_type": "code",
   "execution_count": 3,
   "metadata": {
    "colab": {
     "base_uri": "https://localhost:8080/"
    },
    "id": "kPiTwm4tjv4f",
    "outputId": "bb7249f8-9e7d-4e1b-8fd3-82fb1bd813cb"
   },
   "outputs": [
    {
     "name": "stdout",
     "output_type": "stream",
     "text": [
      "4825 non-spam messages \n",
      "747 spam messages\n"
     ]
    }
   ],
   "source": [
    "print(f\"{len(sms_messages[sms_messages['label'] == 'ham'])} non-spam messages \\n\"\n",
    "      f\"{len(sms_messages[sms_messages['label'] != 'ham'])} spam messages\")"
   ]
  },
  {
   "cell_type": "markdown",
   "metadata": {
    "id": "is0armGI_7Mp"
   },
   "source": [
    "We can see that there is an unbalanced dataset. This needs to be considered later on when applying machine learning models such as decision-tree algorithms, which generate a bias on unbalanced datasets. The issue here is when data is dominated by examples of only one type of class, then the classifer that is trained will then be biased towards the majority class, in this case non-spam (ham) messages. So, when the classifier is applied to a test set that is also imbalanced, the classifier yields an optimistic accuracy estimate.\n",
    "\n",
    "As an example, but also an extreme case, the classifier could assign every test case to the non-spam category, and therefore the accuracy would be equal to the proportion of overall messages that are not non-spam, in this case 87%, which might be judged as a good level of accuracy. \n",
    "\n",
    "This is a well known problem in binary classification and machine learning, and can be counterbalanced in a number of ways, see the topic of discussion [here](https://stats.stackexchange.com/questions/28029/training-a-decision-tree-against-unbalanced-data)."
   ]
  },
  {
   "cell_type": "code",
   "execution_count": 4,
   "metadata": {},
   "outputs": [
    {
     "data": {
      "text/html": [
       "<div>\n",
       "<style scoped>\n",
       "    .dataframe tbody tr th:only-of-type {\n",
       "        vertical-align: middle;\n",
       "    }\n",
       "\n",
       "    .dataframe tbody tr th {\n",
       "        vertical-align: top;\n",
       "    }\n",
       "\n",
       "    .dataframe thead th {\n",
       "        text-align: right;\n",
       "    }\n",
       "</style>\n",
       "<table border=\"1\" class=\"dataframe\">\n",
       "  <thead>\n",
       "    <tr style=\"text-align: right;\">\n",
       "      <th></th>\n",
       "      <th>label</th>\n",
       "      <th>message</th>\n",
       "    </tr>\n",
       "  </thead>\n",
       "  <tbody>\n",
       "    <tr>\n",
       "      <th>0</th>\n",
       "      <td>ham</td>\n",
       "      <td>Go until jurong point, crazy.. Available only ...</td>\n",
       "    </tr>\n",
       "    <tr>\n",
       "      <th>1</th>\n",
       "      <td>ham</td>\n",
       "      <td>Ok lar... Joking wif u oni...</td>\n",
       "    </tr>\n",
       "    <tr>\n",
       "      <th>2</th>\n",
       "      <td>spam</td>\n",
       "      <td>Free entry in 2 a wkly comp to win FA Cup fina...</td>\n",
       "    </tr>\n",
       "    <tr>\n",
       "      <th>3</th>\n",
       "      <td>ham</td>\n",
       "      <td>U dun say so early hor... U c already then say...</td>\n",
       "    </tr>\n",
       "    <tr>\n",
       "      <th>4</th>\n",
       "      <td>ham</td>\n",
       "      <td>Nah I don't think he goes to usf, he lives aro...</td>\n",
       "    </tr>\n",
       "  </tbody>\n",
       "</table>\n",
       "</div>"
      ],
      "text/plain": [
       "  label                                            message\n",
       "0   ham  Go until jurong point, crazy.. Available only ...\n",
       "1   ham                      Ok lar... Joking wif u oni...\n",
       "2  spam  Free entry in 2 a wkly comp to win FA Cup fina...\n",
       "3   ham  U dun say so early hor... U c already then say...\n",
       "4   ham  Nah I don't think he goes to usf, he lives aro..."
      ]
     },
     "execution_count": 4,
     "metadata": {},
     "output_type": "execute_result"
    }
   ],
   "source": [
    "sms_messages.head()"
   ]
  },
  {
   "cell_type": "markdown",
   "metadata": {},
   "source": [
    "Let's look at some examples of ham and spam messages"
   ]
  },
  {
   "cell_type": "code",
   "execution_count": 42,
   "metadata": {},
   "outputs": [
    {
     "name": "stdout",
     "output_type": "stream",
     "text": [
      "Spam message examples: \n",
      " ****************************** \n",
      " \n",
      "\n",
      "Congratulations ur awarded 500 of CD vouchers or 125gift guaranteed & Free entry 2 100 wkly draw txt MUSIC to 87066 TnCs www.Ldew.com1win150ppmx3age16 \n",
      " \n",
      "\n",
      "RGENT! This is the 2nd attempt to contact U!U have WON £1250 CALL 09071512433 b4 050703 T&CsBCM4235WC1N3XX. callcost 150ppm mobilesvary. max£7. 50 \n",
      " \n",
      "\n",
      "You are guaranteed the latest Nokia Phone, a 40GB iPod MP3 player or a £500 prize! Txt word: COLLECT to No: 83355! IBHltd LdnW15H 150p/Mtmsgrcvd18+ \n",
      " \n",
      "\n",
      "XMAS iscoming & ur awarded either £500 CD gift vouchers & free entry 2 r £100 weekly draw txt MUSIC to 87066 TnC www.Ldew.com1win150ppmx3age16subscription  \n",
      " \n",
      "\n",
      "Santa calling! Would your little ones like a call from Santa Xmas Eve? Call 09077818151 to book you time. Calls1.50ppm last 3mins 30s T&C www.santacalling.com \n",
      " \n",
      "\n",
      "Non-spam message examples: \n",
      " ****************************** \n",
      " \n",
      "\n",
      "Like I made him throw up when we were smoking in our friend's car one time, it was awesome \n",
      " \n",
      "\n",
      "Well, i'm gonna finish my bath now. Have a good...fine night. \n",
      " \n",
      "\n",
      "alright tyler's got a minor crisis and has to be home sooner than he thought so be here asap \n",
      " \n",
      "\n",
      "Guess he wants alone time. We could just show up and watch when they do.. \n",
      " \n",
      "\n",
      "Nimbomsons. Yep phone knows that one. Obviously, cos thats a real word \n",
      " \n",
      "\n"
     ]
    }
   ],
   "source": [
    "spam_messages = sms_messages.loc[sms_messages['label']=='spam', 'message'] # pd.Series\n",
    "non_spam_messages = sms_messages.loc[sms_messages['label']=='ham', 'message'] # pd.Series\n",
    "\n",
    "np.random.seed(1)\n",
    "\n",
    "print(\"Spam message examples: \\n\", \"*\" * 30, \"\\n \\n\")\n",
    "for random_choice in np.random.randint(0, len(spam_messages), 5):\n",
    "    print(f\"{spam_messages.iloc[random_choice]} \\n \\n\")\n",
    "\n",
    "    \n",
    "print(\"Non-spam message examples: \\n\", \"*\"*30, \"\\n \\n\")\n",
    "for random_choice in np.random.randint(0, len(non_spam_messages), 5):\n",
    "    print(f\"{non_spam_messages.iloc[random_choice]} \\n \\n\")"
   ]
  },
  {
   "cell_type": "markdown",
   "metadata": {},
   "source": [
    "From the few examples above, we see that the ham and spam messages differ quite a lot in terms of the attributes of the messages- length, number of words, presence of website, punctuation, use of words, and so on. In the next section, therefore, we will perform pre-processing and feature extraction."
   ]
  },
  {
   "cell_type": "markdown",
   "metadata": {},
   "source": [
    "## 2. Data pre-processing & feature engineering\n",
    "Upon initial inspection of some examples of the messages, we can extract features to enrich the amount of data we are working with to classify whether a message is spam or not.\n",
    "\n",
    "It's important that we understand the data well, to have the ability to add more features. This will enable us to carry out feature engineering more effectively. This is extremely important in the field of natural language processing (and spam classification), where feature engineering is one of the most important parts of the process."
   ]
  },
  {
   "cell_type": "markdown",
   "metadata": {
    "id": "b_rImZgPAG8j"
   },
   "source": [
    "#### Initial thoughts\n",
    "Immediately, the following attributes stand out:\n",
    "- **length of messages**: spam messages look longer\n",
    "- **number of words**: spam messages seem to have more words\n",
    "Let's add these features and compare and contrast the spam/ham data."
   ]
  },
  {
   "cell_type": "code",
   "execution_count": 43,
   "metadata": {},
   "outputs": [],
   "source": [
    "sms_messages['length'] = sms_messages['message'].apply(len)\n",
    "sms_messages['word_count'] = [len(x.split()) for x in sms_messages[\"message\"]]"
   ]
  },
  {
   "cell_type": "code",
   "execution_count": 81,
   "metadata": {},
   "outputs": [
    {
     "data": {
      "text/html": [
       "<div>\n",
       "<style scoped>\n",
       "    .dataframe tbody tr th:only-of-type {\n",
       "        vertical-align: middle;\n",
       "    }\n",
       "\n",
       "    .dataframe tbody tr th {\n",
       "        vertical-align: top;\n",
       "    }\n",
       "\n",
       "    .dataframe thead th {\n",
       "        text-align: right;\n",
       "    }\n",
       "</style>\n",
       "<table border=\"1\" class=\"dataframe\">\n",
       "  <thead>\n",
       "    <tr style=\"text-align: right;\">\n",
       "      <th></th>\n",
       "      <th>length</th>\n",
       "      <th>word_count</th>\n",
       "      <th>is_spam</th>\n",
       "      <th>numeric_count</th>\n",
       "      <th>exclamation_question_count</th>\n",
       "    </tr>\n",
       "  </thead>\n",
       "  <tbody>\n",
       "    <tr>\n",
       "      <th>count</th>\n",
       "      <td>5572.000000</td>\n",
       "      <td>5572.000000</td>\n",
       "      <td>5572.000000</td>\n",
       "      <td>5572.000000</td>\n",
       "      <td>5572.000000</td>\n",
       "    </tr>\n",
       "    <tr>\n",
       "      <th>mean</th>\n",
       "      <td>80.489950</td>\n",
       "      <td>15.597452</td>\n",
       "      <td>0.134063</td>\n",
       "      <td>2.384243</td>\n",
       "      <td>0.528894</td>\n",
       "    </tr>\n",
       "    <tr>\n",
       "      <th>std</th>\n",
       "      <td>59.942907</td>\n",
       "      <td>11.404053</td>\n",
       "      <td>0.340751</td>\n",
       "      <td>6.253175</td>\n",
       "      <td>0.956827</td>\n",
       "    </tr>\n",
       "    <tr>\n",
       "      <th>min</th>\n",
       "      <td>2.000000</td>\n",
       "      <td>1.000000</td>\n",
       "      <td>0.000000</td>\n",
       "      <td>0.000000</td>\n",
       "      <td>0.000000</td>\n",
       "    </tr>\n",
       "    <tr>\n",
       "      <th>25%</th>\n",
       "      <td>36.000000</td>\n",
       "      <td>7.000000</td>\n",
       "      <td>0.000000</td>\n",
       "      <td>0.000000</td>\n",
       "      <td>0.000000</td>\n",
       "    </tr>\n",
       "    <tr>\n",
       "      <th>50%</th>\n",
       "      <td>62.000000</td>\n",
       "      <td>12.000000</td>\n",
       "      <td>0.000000</td>\n",
       "      <td>0.000000</td>\n",
       "      <td>0.000000</td>\n",
       "    </tr>\n",
       "    <tr>\n",
       "      <th>75%</th>\n",
       "      <td>122.000000</td>\n",
       "      <td>23.000000</td>\n",
       "      <td>0.000000</td>\n",
       "      <td>1.000000</td>\n",
       "      <td>1.000000</td>\n",
       "    </tr>\n",
       "    <tr>\n",
       "      <th>max</th>\n",
       "      <td>910.000000</td>\n",
       "      <td>171.000000</td>\n",
       "      <td>1.000000</td>\n",
       "      <td>47.000000</td>\n",
       "      <td>13.000000</td>\n",
       "    </tr>\n",
       "  </tbody>\n",
       "</table>\n",
       "</div>"
      ],
      "text/plain": [
       "            length   word_count      is_spam  numeric_count  \\\n",
       "count  5572.000000  5572.000000  5572.000000    5572.000000   \n",
       "mean     80.489950    15.597452     0.134063       2.384243   \n",
       "std      59.942907    11.404053     0.340751       6.253175   \n",
       "min       2.000000     1.000000     0.000000       0.000000   \n",
       "25%      36.000000     7.000000     0.000000       0.000000   \n",
       "50%      62.000000    12.000000     0.000000       0.000000   \n",
       "75%     122.000000    23.000000     0.000000       1.000000   \n",
       "max     910.000000   171.000000     1.000000      47.000000   \n",
       "\n",
       "       exclamation_question_count  \n",
       "count                 5572.000000  \n",
       "mean                     0.528894  \n",
       "std                      0.956827  \n",
       "min                      0.000000  \n",
       "25%                      0.000000  \n",
       "50%                      0.000000  \n",
       "75%                      1.000000  \n",
       "max                     13.000000  "
      ]
     },
     "execution_count": 81,
     "metadata": {},
     "output_type": "execute_result"
    }
   ],
   "source": [
    "sms_messages.describe()"
   ]
  },
  {
   "cell_type": "markdown",
   "metadata": {},
   "source": [
    "It looks like there are some outliers for the **length** and **word_count**, so we will plot the distributions for these with a limit on the maximum value, of 200 for length, and words count of 50."
   ]
  },
  {
   "cell_type": "code",
   "execution_count": 93,
   "metadata": {},
   "outputs": [
    {
     "data": {
      "text/plain": [
       "Text(0.5, 0.98, 'length of message by type')"
      ]
     },
     "execution_count": 93,
     "metadata": {},
     "output_type": "execute_result"
    },
    {
     "data": {
      "image/png": "[encoded data removed]",
      "text/plain": [
       "<Figure size 576x360 with 1 Axes>"
      ]
     },
     "metadata": {
      "needs_background": "light"
     },
     "output_type": "display_data"
    }
   ],
   "source": [
    "plt.figure(figsize=(8,5))\n",
    "sns.histplot(data=sms_messages, x='length', hue='label', kde=True)\n",
    "plt.xlim(0,200)\n",
    "plt.suptitle('length of message by type')"
   ]
  },
  {
   "cell_type": "markdown",
   "metadata": {},
   "source": [
    "Clearly, we can see that the spam messages are **longer** than ham messages, and have a greater dispersion."
   ]
  },
  {
   "cell_type": "code",
   "execution_count": 99,
   "metadata": {
    "colab": {
     "base_uri": "https://localhost:8080/",
     "height": 175
    },
    "id": "IcNsgRpwAB3X",
    "outputId": "fda2d8a4-131a-452c-f764-b7dc1514256b"
   },
   "outputs": [
    {
     "data": {
      "text/plain": [
       "Text(0.5, 0.98, 'word_count of message by type')"
      ]
     },
     "execution_count": 99,
     "metadata": {},
     "output_type": "execute_result"
    },
    {
     "data": {
      "image/png": "[encoded data removed]",
      "text/plain": [
       "<Figure size 576x360 with 1 Axes>"
      ]
     },
     "metadata": {
      "needs_background": "light"
     },
     "output_type": "display_data"
    }
   ],
   "source": [
    "plt.figure(figsize=(8,5))\n",
    "sns.histplot(data=sms_messages, x='word_count', hue='label', kde=True)\n",
    "plt.xlim(0,40)\n",
    "plt.suptitle('word_count of message by type')"
   ]
  },
  {
   "cell_type": "markdown",
   "metadata": {},
   "source": [
    "Again, spam messages have **more words** than ham messages. On average, ham messages are around 5-10 words, with spam messages being around 25-30 words long. Further, we can see the dispersion for ham messages is much larger than for spam ones."
   ]
  },
  {
   "cell_type": "code",
   "execution_count": 7,
   "metadata": {},
   "outputs": [],
   "source": [
    "sms_messages['is_spam'] = np.where(sms_messages['label'] == 'spam', 1, 0)"
   ]
  },
  {
   "cell_type": "markdown",
   "metadata": {},
   "source": [
    "#### Further feature extraction\n",
    "\n",
    "Having investigated some examples of spam and non-spam messages above, we see that spam messages have:\n",
    "- **more** capital letters\n",
    "- **more** numbers: prompting the user that they have won a specific amount, or prompting them to call/message a specific number\n",
    "- **more** punctuation: question marks and exclamation marks\n",
    "- **presence of URL**: spam messages seem to have URL/websites in them\n",
    "- **presence of phone numbers**: spam messages seem to have phone numbers/text messages to contact to collect prizes. These numbers might be longer than a number used in a ham message, so we will search for sufficiently long ones.\n",
    "\n",
    "\n",
    "We can assess these intuitions later when running classifiers for the messages.\n",
    "At the moment, we will not apply any common natural language processing techniques, in terms of reducing the size of the messages to key words, removing punctuation, but will instead use the features we've already extracted to test a couple of supervised learning models.\n",
    "\n",
    "Below I will write functions and demonstrate their results for each of these features"
   ]
  },
  {
   "cell_type": "code",
   "execution_count": 157,
   "metadata": {},
   "outputs": [
    {
     "name": "stdout",
     "output_type": "stream",
     "text": [
      "There are 747 total spam messages\n"
     ]
    }
   ],
   "source": [
    "import re\n",
    "# get a population of spam messages on which to test the functions \n",
    "spam_messages = sms_messages.loc[sms_messages['label'] == 'spam', 'message'] \n",
    "\n",
    "print(f\"There are {len(spam_messages)} total spam messages\")"
   ]
  },
  {
   "cell_type": "code",
   "execution_count": 161,
   "metadata": {},
   "outputs": [
    {
     "name": "stdout",
     "output_type": "stream",
     "text": [
      "Original message: \n",
      " FREE entry into our £250 weekly competition just text the word WIN to 80086 NOW. 18 T&C www.txttowin.co.uk \n",
      "\n",
      "Function count_capital_words: 4\n"
     ]
    }
   ],
   "source": [
    "# count the number of capital words\n",
    "def count_capital_words(input_str: str) -> int:\n",
    "    return sum(map(str.isupper, input_str.split()))\n",
    "    \n",
    "sms_messages['count_capitals'] = sms_messages['message'].apply(count_capital_words)\n",
    "random_spam_msg = spam_messages.iloc[np.random.randint(0, 100)]\n",
    "\n",
    "print(f\"Original message: \\n {random_spam_msg} \\n\")\n",
    "print(f\"Function count_capital_words: {count_capital_words(random_spam_msg)}\")"
   ]
  },
  {
   "cell_type": "code",
   "execution_count": 155,
   "metadata": {},
   "outputs": [
    {
     "name": "stdout",
     "output_type": "stream",
     "text": [
      "Original message: \n",
      " Sunshine Quiz Wkly Q! Win a top Sony DVD player if u know which country the Algarve is in? Txt ansr to 82277. £1.50 SP:Tyrone \n",
      "\n",
      "Function count_numerics: 8\n"
     ]
    }
   ],
   "source": [
    "# function to count the number of numeric characters in a string\n",
    "def count_numerics(input_str: str) -> int:\n",
    "    return len(re.sub(\"[^0-9]\", \"\", input_str))\n",
    "\n",
    "sms_messages['numeric_count'] = sms_messages['message'].apply(count_numerics)\n",
    "\n",
    "random_spam_msg = spam_messages.iloc[np.random.randint(0, 100)]\n",
    "print(f\"Original message: \\n {random_spam_msg} \\n\")\n",
    "print(f\"Function count_numerics: {count_numerics(random_spam_msg)}\")\n"
   ]
  },
  {
   "cell_type": "code",
   "execution_count": 169,
   "metadata": {},
   "outputs": [
    {
     "name": "stdout",
     "output_type": "stream",
     "text": [
      "Original message: \n",
      " You have won ?1,000 cash or a ?2,000 prize! To claim, call09050000327 \n",
      "\n",
      "Function exclamation_question_count: 3\n"
     ]
    }
   ],
   "source": [
    "# count number of exclamation/question marks in each message \n",
    "def count_exclamation_question(input_str: str) -> int:\n",
    "    return len(re.sub(\"[^!?]\", \"\", input_str))\n",
    "\n",
    "sms_messages['exclamation_question_count'] = sms_messages['message'].apply(count_exclamation_question)\n",
    "\n",
    "random_spam_msg = spam_messages.iloc[np.random.randint(0, 100)]\n",
    "print(f\"Original message: \\n {random_spam_msg} \\n\")\n",
    "print(f\"Function exclamation_question_count: {count_exclamation_question(random_spam_msg)}\")"
   ]
  },
  {
   "cell_type": "code",
   "execution_count": 173,
   "metadata": {},
   "outputs": [
    {
     "name": "stdout",
     "output_type": "stream",
     "text": [
      "Original message: \n",
      " December only! Had your mobile 11mths+? You are entitled to update to the latest colour camera mobile for Free! Call The Mobile Update Co FREE on 08002986906 \n",
      "\n",
      "Function search_for_website: 0\n"
     ]
    }
   ],
   "source": [
    "# basic method to look for a couple of the most common attributes of a URL/website\n",
    "# this can be made more sophisticated\n",
    "def search_for_website(input_str: str) -> int:\n",
    "    return 1 if bool(re.search('http://www|www.|.com', random_spam_msg)) == True else 0\n",
    "\n",
    "sms_messages['is_website'] = sms_messages['message'].apply(search_for_website)\n",
    "\n",
    "random_spam_msg = spam_messages.iloc[np.random.randint(0, 100)]\n",
    "print(f\"Original message: \\n {random_spam_msg} \\n\")\n",
    "print(f\"Function search_for_website: {search_for_website(random_spam_msg)}\")"
   ]
  },
  {
   "cell_type": "code",
   "execution_count": 182,
   "metadata": {},
   "outputs": [
    {
     "name": "stdout",
     "output_type": "stream",
     "text": [
      "Original message: \n",
      " +123 Congratulations - in this week's competition draw u have won the £1450 prize to claim just call 09050002311 b4280703. T&Cs/stop SMS 08718727868. Over 18 only 150ppm \n",
      "\n",
      "Function search_for_prize_number: 1\n"
     ]
    }
   ],
   "source": [
    "# method to look for phone numbers, defined as numbers with more than 6 numbers, which\n",
    "# a spam message might ask you to text/call if you've won a prize/to redeem an offer\n",
    "# this also can be made more sophisticated\n",
    "def search_for_prize_number(input_str: str) -> int:\n",
    "    # use regex to search for 5 or more digits\n",
    "    return 1 if bool(re.search(r'\\d{5,}', random_spam_msg)) == True else 0 \n",
    "\n",
    "sms_messages['is_prize_number'] = sms_messages['message'].apply(search_for_prize_number)\n",
    "\n",
    "random_spam_msg = spam_messages.iloc[np.random.randint(0, 100)]\n",
    "print(f\"Original message: \\n {random_spam_msg} \\n\")\n",
    "print(f\"Function search_for_prize_number: {search_for_prize_number(random_spam_msg)}\")"
   ]
  },
  {
   "cell_type": "markdown",
   "metadata": {},
   "source": [
    "#### Enriched feature dataframe inspection\n",
    "Inspect the new dataframe with the added features"
   ]
  },
  {
   "cell_type": "code",
   "execution_count": 187,
   "metadata": {},
   "outputs": [
    {
     "data": {
      "text/html": [
       "<div>\n",
       "<style scoped>\n",
       "    .dataframe tbody tr th:only-of-type {\n",
       "        vertical-align: middle;\n",
       "    }\n",
       "\n",
       "    .dataframe tbody tr th {\n",
       "        vertical-align: top;\n",
       "    }\n",
       "\n",
       "    .dataframe thead th {\n",
       "        text-align: right;\n",
       "    }\n",
       "</style>\n",
       "<table border=\"1\" class=\"dataframe\">\n",
       "  <thead>\n",
       "    <tr style=\"text-align: right;\">\n",
       "      <th></th>\n",
       "      <th>0</th>\n",
       "      <th>1</th>\n",
       "      <th>2</th>\n",
       "      <th>3</th>\n",
       "      <th>4</th>\n",
       "    </tr>\n",
       "  </thead>\n",
       "  <tbody>\n",
       "    <tr>\n",
       "      <th>label</th>\n",
       "      <td>ham</td>\n",
       "      <td>ham</td>\n",
       "      <td>spam</td>\n",
       "      <td>ham</td>\n",
       "      <td>ham</td>\n",
       "    </tr>\n",
       "    <tr>\n",
       "      <th>message</th>\n",
       "      <td>Go until jurong point, crazy.. Available only ...</td>\n",
       "      <td>Ok lar... Joking wif u oni...</td>\n",
       "      <td>Free entry in 2 a wkly comp to win FA Cup fina...</td>\n",
       "      <td>U dun say so early hor... U c already then say...</td>\n",
       "      <td>Nah I don't think he goes to usf, he lives aro...</td>\n",
       "    </tr>\n",
       "    <tr>\n",
       "      <th>length</th>\n",
       "      <td>111</td>\n",
       "      <td>29</td>\n",
       "      <td>155</td>\n",
       "      <td>49</td>\n",
       "      <td>61</td>\n",
       "    </tr>\n",
       "    <tr>\n",
       "      <th>word_count</th>\n",
       "      <td>20</td>\n",
       "      <td>6</td>\n",
       "      <td>28</td>\n",
       "      <td>11</td>\n",
       "      <td>13</td>\n",
       "    </tr>\n",
       "    <tr>\n",
       "      <th>is_spam</th>\n",
       "      <td>0</td>\n",
       "      <td>0</td>\n",
       "      <td>1</td>\n",
       "      <td>0</td>\n",
       "      <td>0</td>\n",
       "    </tr>\n",
       "    <tr>\n",
       "      <th>numeric_count</th>\n",
       "      <td>0</td>\n",
       "      <td>0</td>\n",
       "      <td>25</td>\n",
       "      <td>0</td>\n",
       "      <td>0</td>\n",
       "    </tr>\n",
       "    <tr>\n",
       "      <th>exclamation_question_count</th>\n",
       "      <td>0</td>\n",
       "      <td>0</td>\n",
       "      <td>0</td>\n",
       "      <td>0</td>\n",
       "      <td>0</td>\n",
       "    </tr>\n",
       "    <tr>\n",
       "      <th>count_capitals</th>\n",
       "      <td>0</td>\n",
       "      <td>0</td>\n",
       "      <td>2</td>\n",
       "      <td>2</td>\n",
       "      <td>1</td>\n",
       "    </tr>\n",
       "    <tr>\n",
       "      <th>is_website</th>\n",
       "      <td>1</td>\n",
       "      <td>1</td>\n",
       "      <td>1</td>\n",
       "      <td>1</td>\n",
       "      <td>1</td>\n",
       "    </tr>\n",
       "    <tr>\n",
       "      <th>is_prize_number</th>\n",
       "      <td>1</td>\n",
       "      <td>1</td>\n",
       "      <td>1</td>\n",
       "      <td>1</td>\n",
       "      <td>1</td>\n",
       "    </tr>\n",
       "  </tbody>\n",
       "</table>\n",
       "</div>"
      ],
      "text/plain": [
       "                                                                            0  \\\n",
       "label                                                                     ham   \n",
       "message                     Go until jurong point, crazy.. Available only ...   \n",
       "length                                                                    111   \n",
       "word_count                                                                 20   \n",
       "is_spam                                                                     0   \n",
       "numeric_count                                                               0   \n",
       "exclamation_question_count                                                  0   \n",
       "count_capitals                                                              0   \n",
       "is_website                                                                  1   \n",
       "is_prize_number                                                             1   \n",
       "\n",
       "                                                        1  \\\n",
       "label                                                 ham   \n",
       "message                     Ok lar... Joking wif u oni...   \n",
       "length                                                 29   \n",
       "word_count                                              6   \n",
       "is_spam                                                 0   \n",
       "numeric_count                                           0   \n",
       "exclamation_question_count                              0   \n",
       "count_capitals                                          0   \n",
       "is_website                                              1   \n",
       "is_prize_number                                         1   \n",
       "\n",
       "                                                                            2  \\\n",
       "label                                                                    spam   \n",
       "message                     Free entry in 2 a wkly comp to win FA Cup fina...   \n",
       "length                                                                    155   \n",
       "word_count                                                                 28   \n",
       "is_spam                                                                     1   \n",
       "numeric_count                                                              25   \n",
       "exclamation_question_count                                                  0   \n",
       "count_capitals                                                              2   \n",
       "is_website                                                                  1   \n",
       "is_prize_number                                                             1   \n",
       "\n",
       "                                                                            3  \\\n",
       "label                                                                     ham   \n",
       "message                     U dun say so early hor... U c already then say...   \n",
       "length                                                                     49   \n",
       "word_count                                                                 11   \n",
       "is_spam                                                                     0   \n",
       "numeric_count                                                               0   \n",
       "exclamation_question_count                                                  0   \n",
       "count_capitals                                                              2   \n",
       "is_website                                                                  1   \n",
       "is_prize_number                                                             1   \n",
       "\n",
       "                                                                            4  \n",
       "label                                                                     ham  \n",
       "message                     Nah I don't think he goes to usf, he lives aro...  \n",
       "length                                                                     61  \n",
       "word_count                                                                 13  \n",
       "is_spam                                                                     0  \n",
       "numeric_count                                                               0  \n",
       "exclamation_question_count                                                  0  \n",
       "count_capitals                                                              1  \n",
       "is_website                                                                  1  \n",
       "is_prize_number                                                             1  "
      ]
     },
     "execution_count": 187,
     "metadata": {},
     "output_type": "execute_result"
    }
   ],
   "source": [
    "sms_messages.head(5).T"
   ]
  },
  {
   "cell_type": "markdown",
   "metadata": {},
   "source": [
    "Now that we've added many features to the data, let's look at the frequency distributions for those with continuous variables, except length and word count (covered earlier). \n",
    "We will group by the 'label' (classifying ham or spam), therefore looking at:\n",
    "- numeric_count\n",
    "- exclamation_question_cpunt\n",
    "- count_capitals"
   ]
  },
  {
   "cell_type": "code",
   "execution_count": null,
   "metadata": {},
   "outputs": [],
   "source": []
  },
  {
   "cell_type": "code",
   "execution_count": 191,
   "metadata": {},
   "outputs": [
    {
     "data": {
      "image/png": "[encoded data removed]",
      "text/plain": [
       "<Figure size 864x576 with 3 Axes>"
      ]
     },
     "metadata": {
      "needs_background": "light"
     },
     "output_type": "display_data"
    }
   ],
   "source": [
    "fig = plt.figure(figsize=(12,8))\n",
    "\n",
    "ax1 = fig.add_subplot(131)\n",
    "ax1.set_title(\"Numeric_count of messages by type\")\n",
    "g = sns.boxplot(data=sms_messages, x='label', y='numeric_count', ax=ax1)\n",
    "\n",
    "ax2 = fig.add_subplot(132)\n",
    "ax2.set_title(\"Exclamation_question count of messages by type\")\n",
    "g = sns.boxplot(data=sms_messages, x='label', y='exclamation_question_count', hue='label', ax=ax2)\n",
    "\n",
    "ax3 = fig.add_subplot(133)\n",
    "ax3.set_title(\"count_capitals of messages by type\")\n",
    "g = sns.boxplot(data=sms_messages, x='label', y='count_capitals', hue='label', ax=ax3)\n",
    "\n",
    "\n",
    "plt.close(2)\n",
    "plt.close(3)"
   ]
  },
  {
   "cell_type": "markdown",
   "metadata": {},
   "source": [
    "it looks like in general, spam messgaes have more numbers in each message than non-spam messages, and more exclamation/question marks in them too."
   ]
  },
  {
   "cell_type": "markdown",
   "metadata": {},
   "source": [
    "## 3. Application of common ML models\n",
    "After adding features to the data, with regard to the number of numeric characters in each message, the length of the message, and the count of any exclamation and punctuation marks, we can attempt to feed in this data into a machine learning model to classify messages if they are spam or not. It might be unusual to do this in an NLP problem, but let's try it anyway and investigate the results we get, before diving into more detailed NLP techniques.\n",
    "\n",
    "\n",
    "#### Adjustments to the data\n",
    "As mentioned above we have an unbalanced dataset, where 13% of the messages in the dataset are spam, and the rest are not. In order to counterbalance this, we will use the two solutions:\n",
    " - **undersample** the majority spam class, or **oversample** the minority non-spam class, to prevent the bias in the first place\n",
    " - modify the **cost of misclassification** to prevent bias.\n",
    " \n",
    "I'd like to highlight the dangers of not balancing the dataset to address the imbalance between the spam/non-spam messages. Therefore I will use a logistic regression classifier whilst using a stratified sample (I will adjust the sampling of the data to ensure the split datasets have the same proportion of spam/non-spam messages). "
   ]
  },
  {
   "cell_type": "markdown",
   "metadata": {},
   "source": [
    "Before training the machine learning model it is crucial that we separate out the dataset into three different parts:\n",
    "- **training set**: this input data is used for the model to learn about the dataset, and fit its parameters\n",
    "- **validation set**: this data is used to evlatue a given model in order to tune the model parameters\n",
    "- **testing set**: test set is used once a model is completely trained, and will give you the accuracy of the model"
   ]
  },
  {
   "cell_type": "markdown",
   "metadata": {},
   "source": [
    "#### Discussion on the splitting of data into: training/validation/test sets\n",
    "- The purpose of the **training set** is to train the model to learn about the dataset, and fit its parameters. Therefore, this data is used to choose the optimal parameters for the model, hence its aim is to minimise the cost based on the predictions. Since these parameters are chosen to optimise the performance on the training set, the apparent performance of the parameters, evaluated on the training set, will be overly optimistic.\n",
    "\n",
    "- The **validation set** is used to select the best model. When evaluating any model using the validation set, you get a representative estimate of the cost function, since the choice is made towards the model that peforms best on the validation set biased towards the estimate the model provides. So the apparent peformance of the model will *see* the data, but won't learn from it. Therefore, strictly speaking, the dataset does influence the model, but only indirectly.\n",
    "\n",
    "- The need for the **test set** is that it gives an unbiased estimate for how good your final choice of model is. Since you've **trained** the model using the **training set**, and evaluated the model using the **validation** set, the gold standard is to test the model you've chosen on unseen data, the **test set**. It gives an unbiased estimate of the actual performance you will get from the model, since the model hasn't been fitted/tuned to any of this **unseen** data. You cannot use the **training set** since the model parameters are biased towards this data, and likewise for **validation set**, highlighting the need for this third set of data, the **test set**."
   ]
  },
  {
   "cell_type": "markdown",
   "metadata": {},
   "source": [
    "### Model performance measures\n",
    "We will use three performance measures to assess the models we will be training and fitting for the data.\n",
    "\n",
    "#### Precision\n",
    "This is the ratio of correctly predicted positive observations compared to the total predicted positive observations. High precision means that there is a low false positive rate, that is, not very many observations are predicted as positive falsely.\n",
    "\n",
    "*Another way of wording: Of all predicted positive observations, what was the fraction that were positive?*\n",
    "\n",
    "#### Recall (sensitivity)\n",
    "This is the ratio of the correctly predicted positive observations compared to all positive observations.\n",
    "\n",
    "*Another way of wording: Of all of the actual positive observations, what fraction did we predict as positive?*\n",
    "\n",
    "#### F1-score\n",
    "This is the weighted average of the precision and recall. It takes into account both false positives and false negatives. This is a useful measure to combine both the precision and recall into one measure."
   ]
  },
  {
   "cell_type": "markdown",
   "metadata": {},
   "source": [
    "#### Data inspection\n"
   ]
  },
  {
   "cell_type": "code",
   "execution_count": 35,
   "metadata": {},
   "outputs": [
    {
     "name": "stdout",
     "output_type": "stream",
     "text": [
      "<class 'pandas.core.frame.DataFrame'>\n",
      "RangeIndex: 5572 entries, 0 to 5571\n",
      "Data columns (total 7 columns):\n",
      " #   Column                      Non-Null Count  Dtype \n",
      "---  ------                      --------------  ----- \n",
      " 0   label                       5572 non-null   object\n",
      " 1   message                     5572 non-null   object\n",
      " 2   length                      5572 non-null   int64 \n",
      " 3   word_count                  5572 non-null   int64 \n",
      " 4   is_spam                     5572 non-null   int64 \n",
      " 5   numeric_count               5572 non-null   int64 \n",
      " 6   exclamation_question_count  5572 non-null   int64 \n",
      "dtypes: int64(5), object(2)\n",
      "memory usage: 304.8+ KB\n"
     ]
    }
   ],
   "source": [
    "sms_messages.info()"
   ]
  },
  {
   "cell_type": "markdown",
   "metadata": {},
   "source": [
    "Split the data using the **scikit-learn** train_test_split function."
   ]
  },
  {
   "cell_type": "code",
   "execution_count": 36,
   "metadata": {},
   "outputs": [],
   "source": [
    "from sklearn.model_selection import train_test_split\n",
    "data_features = ['length', 'word_count', \n",
    "                  'numeric_count', 'exclamation_question_count']\n",
    "X = sms_messages[data_features]\n",
    "y = sms_messages['is_spam']\n",
    "\n",
    "X_train, X_test, y_train, y_test = train_test_split(\n",
    "    X, y, \n",
    "    test_size=0.2, # 20% of the data will be used to test the model accuracy\n",
    "    random_state=1,\n",
    "    stratify=y) # stratify the data to keep the proportion of ham/spam messages consistent\n",
    "\n",
    "# further split the train set into \n",
    "# choose the validation set to be 25% of the training set we've just taken, overall we\n",
    "# have 20% of the original data as the validation set\n",
    "X_train, X_val, y_train, y_val = train_test_split(\n",
    "    X_train, y_train, \n",
    "    test_size=0.25,\n",
    "    random_state=1,\n",
    "    stratify = y_train)"
   ]
  },
  {
   "cell_type": "markdown",
   "metadata": {},
   "source": [
    "## 4 Logistic regression\n",
    "Firstly we will apply logistic regression to the data, using the training set to train the model, and then the test set to evaluate the performance of the model."
   ]
  },
  {
   "cell_type": "code",
   "execution_count": 37,
   "metadata": {},
   "outputs": [
    {
     "name": "stdout",
     "output_type": "stream",
     "text": [
      "Accuracy score for the test set was 96.59% \n",
      " \n"
     ]
    }
   ],
   "source": [
    "from sklearn.linear_model import LogisticRegression\n",
    "from sklearn.metrics import confusion_matrix, accuracy_score\n",
    "\n",
    "logistic = LogisticRegression(solver='lbfgs')\n",
    "logistic.fit(X_train, y_train)\n",
    "\n",
    "x_test_logistic_pred = logistic.predict(X_test)\n",
    "x_test_logistic_accuracy = accuracy_score(y_true=y_test, y_pred=x_test_logistic_pred)\n",
    "print(f\"Accuracy score for the test set was {100*x_test_logistic_accuracy:.2f}% \\n \")"
   ]
  },
  {
   "cell_type": "code",
   "execution_count": 38,
   "metadata": {},
   "outputs": [],
   "source": [
    "confusion_test_logistic = confusion_matrix(y_true=y_test, y_pred=x_test_logistic_pred)"
   ]
  },
  {
   "cell_type": "markdown",
   "metadata": {},
   "source": [
    "It would be useful to write a function to plot a confusion matrix for the results of the two tests."
   ]
  },
  {
   "cell_type": "code",
   "execution_count": 39,
   "metadata": {},
   "outputs": [],
   "source": [
    "def plot_confusion_matrix(input_matrix: np.ndarray, labels=None, title: str = None):\n",
    "    \"\"\"Seaborn plot of the confusion matrix, given labels (if so)\"\"\"\n",
    "    \n",
    "    labels = labels if labels else ['Negative (0)', 'Positive (1)']\n",
    "        \n",
    "    fig, ax = plt.subplots()\n",
    "    fig = plt.figure(figsize=(8,8))\n",
    "    sns.heatmap(data=input_matrix, xticklabels=labels, yticklabels=labels, ax=ax,\n",
    "               cmap='YlGnBu', annot=True, fmt='g',\n",
    "               annot_kws={'size': 16})\n",
    "    ax.set_xlabel(\"Prediction\")\n",
    "    ax.set_ylabel(\"Actual\")\n",
    "    ax.set_title(\"Confusion Matrix\")\n",
    "    plt.close()\n",
    "        \n",
    "    return fig      "
   ]
  },
  {
   "cell_type": "markdown",
   "metadata": {},
   "source": [
    "#### Test set results\n",
    "Inspect the results from the confusion matrix for the test set."
   ]
  },
  {
   "cell_type": "code",
   "execution_count": 40,
   "metadata": {},
   "outputs": [
    {
     "name": "stdout",
     "output_type": "stream",
     "text": [
      "              precision    recall  f1-score   support\n",
      "\n",
      "           0       0.86      0.87      0.87       966\n",
      "           1       0.09      0.08      0.08       149\n",
      "\n",
      "    accuracy                           0.77      1115\n",
      "   macro avg       0.47      0.48      0.47      1115\n",
      "weighted avg       0.76      0.77      0.76      1115\n",
      "\n"
     ]
    },
    {
     "data": {
      "image/png": "[encoded data removed]",
      "text/plain": [
       "<Figure size 432x288 with 2 Axes>"
      ]
     },
     "metadata": {
      "needs_background": "light"
     },
     "output_type": "display_data"
    }
   ],
   "source": [
    "from sklearn.metrics import classification_report\n",
    "\n",
    "plot_confusion_matrix(confusion_test_logistic, labels=['not spam', 'spam'])\n",
    "print(classification_report(y_test, x_val_logistic_pred))"
   ]
  },
  {
   "cell_type": "markdown",
   "metadata": {},
   "source": [
    "Therefore, we see that using the **test set**:\n",
    "- Of 966 non-spam messages, 954 were classified as not spam, with 12 incorrectly classified as spam. Therefore, the **recall was 99% for not spam**.\n",
    "- From a total of 149 spam messages, 123 were predicted correctly. The **recall for not spam was 83%**. \n",
    "\n",
    "Overall, the accuracy for the test set is good, at 97%. However, since we only have 149 observations that are spam, compared to 966 observations that are \n",
    "non-spam, and therefore the peformance metrics in terms of precision, recall and f1-score are lower for the spam classifier."
   ]
  },
  {
   "cell_type": "markdown",
   "metadata": {},
   "source": [
    "## 5 Decision Tree\n",
    "In this example, we will use a classification (decision) tree, a supervised learning algorithm that can be used for classification, in this case to ascertain whether the message is spam or ham. The decision tree algorithm creates a model that can be used to predict the outcome of a the target variable (in this case ham or spam) by learning simple decision rules learned from the training data. As I will cover below, in a decision tree algorthim, the feature values are preferred to be categorical/discrete, rather than continuous, but we will fit the decision tree to compare the model performance with that of other supervised learning methods.\n",
    "\n",
    "In this decision tree for predicting if a text is ham or spam, we start at the **root** of the tree, comparing the results of the root with the the attribute of the message we're looking at. In this context, the first decision node at the root will split one of the features of the dataset. This could be the message length, for instance. Depending on the value of the length of the message, the route will take one of the two branches, before reaching the next decision node, and so on, until at the end the algorithm reaches the end leaf, where a decision is made whether the message is **ham** or **spam**.\n",
    "\n",
    "As mentioned previously, we will ensure that the binary decision tree has an automatic adjustment according to the proportion of spam/non-spam messages, else the tree might become biased toward the more dominant spam message classification.\n",
    "\n",
    "To adjust for this, we will pass **class_weight='balanced'** parameter into the decision tree, to peform an adjustment according to the proportion of frequencies of each class. This decision tree algorithm will therefore become a **class-weighted decision tree**.\n",
    "\n",
    "#### Fit the model\n",
    "We will now fit the model for the decision tree, and show the text detailing the set of rules generated by the decision tree."
   ]
  },
  {
   "cell_type": "code",
   "execution_count": 41,
   "metadata": {},
   "outputs": [
    {
     "name": "stdout",
     "output_type": "stream",
     "text": [
      "Accuracy score for the test set was 96.32% \n",
      " \n"
     ]
    }
   ],
   "source": [
    "from sklearn.tree import DecisionTreeClassifier, export_text\n",
    "from sklearn import tree\n",
    "\n",
    "import graphviz\n",
    "\n",
    "decision_tree_model = DecisionTreeClassifier(class_weight='balanced')\n",
    "decision_tree_model.fit(X_train, y_train)\n",
    "\n",
    "tree_rules = export_text(decision_tree_model, \n",
    "                        show_weights=True,\n",
    "                        feature_names=['length', 'word_count', 'numeric_count', 'exclamation_question_count'])\n",
    "\n",
    "decision_test_pred = decision_tree_model.predict(X_test)\n",
    "decision_test_accuracy = accuracy_score(y_true=y_test, y_pred=decision_test_pred)\n",
    "print(f\"Accuracy score for the test set was {100*decision_test_accuracy:.2f}% \\n \")"
   ]
  },
  {
   "cell_type": "markdown",
   "metadata": {},
   "source": [
    "#### Test set results\n",
    "Let's inspect the confusion matrix for the test set."
   ]
  },
  {
   "cell_type": "code",
   "execution_count": 31,
   "metadata": {},
   "outputs": [
    {
     "name": "stdout",
     "output_type": "stream",
     "text": [
      "              precision    recall  f1-score   support\n",
      "\n",
      "           0       0.98      0.98      0.98       966\n",
      "           1       0.87      0.86      0.86       149\n",
      "\n",
      "    accuracy                           0.96      1115\n",
      "   macro avg       0.92      0.92      0.92      1115\n",
      "weighted avg       0.96      0.96      0.96      1115\n",
      "\n"
     ]
    },
    {
     "data": {
      "text/plain": [
       "<Figure size 576x576 with 0 Axes>"
      ]
     },
     "execution_count": 31,
     "metadata": {},
     "output_type": "execute_result"
    },
    {
     "data": {
      "image/png": "[encoded data removed]",
      "text/plain": [
       "<Figure size 432x288 with 2 Axes>"
      ]
     },
     "metadata": {
      "needs_background": "light"
     },
     "output_type": "display_data"
    }
   ],
   "source": [
    "print(classification_report(y_test, decision_test_pred))\n",
    "plot_confusion_matrix(confusion_matrix(y_true=y_test, y_pred=decision_test_pred),\n",
    "                      labels=['not spam', 'spam'])"
   ]
  },
  {
   "cell_type": "markdown",
   "metadata": {},
   "source": [
    "Therefore, we see that using the **test set**:\n",
    "- Of 966 non-spam messages, 948 were classified as not spam, with 18 incorrectly classified as spam. Therefore, the **recall was 98% for not spam**.\n",
    "- From a total of 149 spam messages, 128 were predicted correctly. The **recall for not spam was 86%**. \n",
    "\n",
    "Overall, the accuracy for the test set is good, at 97%. However, since we only have 149 observations that are spam, compared to 966 observations that are \n",
    "non-spam, and therefore the peformance metrics in terms of precision, recall and f1-score are lower for the spam classifier."
   ]
  },
  {
   "cell_type": "markdown",
   "metadata": {},
   "source": [
    "#### Discussion\n",
    "As mentioned above, the Decision Tree algorithm is usually used for problems where the feature vectors are categorical or discrete, whereas in this case they are continuous. It would be easy to change some of the features **numeric_count** and **exclamation_question_count** to instead be boolean flags indicating if a message contains numbers in it, or exclamation/question marks, therefore making the continuous data more discrete.\n",
    "However, for the purposes of this project, the consideration that the number of numeric characters and the number of exclamation/question marks was considered important to distinguishing whether a text is spam/ham."
   ]
  },
  {
   "cell_type": "markdown",
   "metadata": {},
   "source": [
    "The performance of the decision tree can be increased by **pruning**, a practice which involves removing the branches that have the least importance to the final outcome of the text classification as spam/ham."
   ]
  },
  {
   "cell_type": "markdown",
   "metadata": {},
   "source": [
    "## 6. NLP Methods: tokenisation, vectorization\n",
    "So far we have looked at two supervised learning algorithms: **logistic regression** and **decision tree algorithm**. However, given that the messages contain a large population of words, instead of using feature engineering to extract features about the attributes of the messages, as above, we can insead convert the messages into **cleaned messages**. The aim of this exercise is to reduce each message into a list of token, which are meaningful words that can be extracted from each text, this is known as **tokenisation**.\n",
    "\n",
    "#### Tokenisation\n",
    "This involves converting the original text strings in each message into a list of tokens (meaningful words) by removing the stopwords, and punctuation.\n",
    "\n",
    "It doesn't seem like punctuation in messages (commas, full stops) gives us lots of insight about whether a message is spam or not, so we will remove these bits of punctuation from the messages. \n",
    "In addition to this, common words (the, a, there, etc.) appearing in the English language (stopwords) do not give much away regarding if the messages are spam or not. I will write functions to:\n",
    "* remove punctuation\n",
    "* remove stopwords - we wil make use of the **corupus** package within the **nltk** package to do so."
   ]
  },
  {
   "cell_type": "markdown",
   "metadata": {},
   "source": [
    "\n",
    "\n",
    "There are many different ways to look at the features of the text message data:\n",
    "\n",
    "- **stemming**: stemming: this is the process of reducing a word to its word stem/root form. This is where you would remove affixes to a word, such as An example of this are ed, -ize, -s, etc. Stems are created when the suffixes/prefixes are removed from the word. Converting our list of words into stems will then give us a vector that we can use with machine learning libraries such as **scikit-learn**.\n",
    "- **bag of words**"
   ]
  },
  {
   "cell_type": "markdown",
   "metadata": {},
   "source": [
    "In addition to this, common words (the, a, there, etc.) appearing in the English language (stopwords) do not give much away regarding if the messages are spam or not. Therefore, we will go ahead and remove stopwords - making use of the **corpus** within the **nltk** package to do so.\n"
   ]
  },
  {
   "cell_type": "code",
   "execution_count": null,
   "metadata": {},
   "outputs": [],
   "source": [
    "from nltk.corpus import stopwords\n",
    "english_stopwords = stopwords.words('English')"
   ]
  },
  {
   "cell_type": "markdown",
   "metadata": {},
   "source": [
    "We can see that overall there are 179 stopwords! These can be removed from the dataset to reduce each message and will ensure smaller feature vectors for use in our machine learning model. Now let's construct a function to remove punctuation from a text, as well as removing the stopwords, and test the function afterwards."
   ]
  },
  {
   "cell_type": "code",
   "execution_count": null,
   "metadata": {},
   "outputs": [],
   "source": [
    "def clean_text(txt: str) -> list:\n",
    "  \"\"\"Method to clean input text (list)\"\"\"\n",
    "  # remove punctuation from the list\n",
    "  no_punc = [char for char in txt if char not in string.punctuation]\n",
    "  \n",
    "  # join the chaaracters with no punctuation to get the original words\n",
    "  no_punc = \"\".join(no_punc)\n",
    "\n",
    "  # remove stopwords\n",
    "  return [word for word in no_punc.split() if word not in english_stopwords]\n",
    "\n",
    "clean_text(sms_messages['message'][10])"
   ]
  },
  {
   "cell_type": "markdown",
   "metadata": {
    "colab": {
     "base_uri": "https://localhost:8080/"
    },
    "id": "CheJbqdlcTaj",
    "outputId": "4dc9327b-0340-4672-848b-fb5598f6c763"
   },
   "source": [
    "We saw earlier the original text has been reduced in size from a string, to a list of strings (words).\n",
    "\n",
    "We will go ahead and apply this **clean_text** function to all of our messages."
   ]
  },
  {
   "cell_type": "code",
   "execution_count": null,
   "metadata": {},
   "outputs": [],
   "source": [
    "sms_messages['cleaned_message'] = sms_messages['message'].apply(clean_text)"
   ]
  },
  {
   "cell_type": "markdown",
   "metadata": {},
   "source": [
    "## X. Naive Bayes Classifier"
   ]
  },
  {
   "cell_type": "code",
   "execution_count": null,
   "metadata": {},
   "outputs": [],
   "source": []
  }
 ],
 "metadata": {
  "colab": {
   "collapsed_sections": [],
   "include_colab_link": true,
   "name": "Natural_Language_Processing.ipynb",
   "provenance": []
  },
  "kernelspec": {
   "display_name": "Python 3",
   "language": "python",
   "name": "python3"
  },
  "language_info": {
   "codemirror_mode": {
    "name": "ipython",
    "version": 3
   },
   "file_extension": ".py",
   "mimetype": "text/x-python",
   "name": "python",
   "nbconvert_exporter": "python",
   "pygments_lexer": "ipython3",
   "version": "3.7.3"
  }
 },
 "nbformat": 4,
 "nbformat_minor": 4
}
