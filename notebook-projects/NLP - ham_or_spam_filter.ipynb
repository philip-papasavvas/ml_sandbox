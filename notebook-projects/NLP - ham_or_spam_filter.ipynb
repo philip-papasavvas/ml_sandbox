{
 "cells": [
  {
   "cell_type": "markdown",
   "metadata": {
    "toc": true
   },
   "source": [
    "<h1>Table of Contents<span class=\"tocSkip\"></span></h1>\n",
    "<div class=\"toc\"><ul class=\"toc-item\"><li><span><a href=\"#Natural-Language-Processing-(NLP)-Project-using-the-SMS-Spam-dataset\" data-toc-modified-id=\"Natural-Language-Processing-(NLP)-Project-using-the-SMS-Spam-dataset-1\"><strong>Natural Language Processing (NLP) Project using the SMS Spam dataset</strong></a></span><ul class=\"toc-item\"><li><span><a href=\"#1.-Exploratory-Data-Analysis\" data-toc-modified-id=\"1.-Exploratory-Data-Analysis-1.1\">1. Exploratory Data Analysis</a></span></li><li><span><a href=\"#2.-Data-pre-processing-&amp;-feature-engineering\" data-toc-modified-id=\"2.-Data-pre-processing-&amp;-feature-engineering-1.2\">2. Data pre-processing &amp; feature engineering</a></span><ul class=\"toc-item\"><li><ul class=\"toc-item\"><li><span><a href=\"#Initial-thoughts\" data-toc-modified-id=\"Initial-thoughts-1.2.0.1\">Initial thoughts</a></span></li><li><span><a href=\"#Further-feature-extraction\" data-toc-modified-id=\"Further-feature-extraction-1.2.0.2\">Further feature extraction</a></span></li><li><span><a href=\"#Enriched-feature-data-frame-inspection\" data-toc-modified-id=\"Enriched-feature-data-frame-inspection-1.2.0.3\">Enriched feature data frame inspection</a></span></li></ul></li></ul></li><li><span><a href=\"#3.-Application-of-common-Machine-Learning-models\" data-toc-modified-id=\"3.-Application-of-common-Machine-Learning-models-1.3\">3. Application of common Machine Learning models</a></span><ul class=\"toc-item\"><li><ul class=\"toc-item\"><li><span><a href=\"#Adjustments-to-the-data\" data-toc-modified-id=\"Adjustments-to-the-data-1.3.0.1\">Adjustments to the data</a></span></li><li><span><a href=\"#Discussion-on-the-splitting-of-data-into:-training/validation/test-sets\" data-toc-modified-id=\"Discussion-on-the-splitting-of-data-into:-training/validation/test-sets-1.3.0.2\">Discussion on the splitting of data into: training/validation/test sets</a></span></li></ul></li><li><span><a href=\"#Model-performance-measures\" data-toc-modified-id=\"Model-performance-measures-1.3.1\">Model performance measures</a></span><ul class=\"toc-item\"><li><span><a href=\"#Precision\" data-toc-modified-id=\"Precision-1.3.1.1\">Precision</a></span></li><li><span><a href=\"#Recall-(sensitivity)\" data-toc-modified-id=\"Recall-(sensitivity)-1.3.1.2\">Recall (sensitivity)</a></span></li><li><span><a href=\"#f1-score\" data-toc-modified-id=\"f1-score-1.3.1.3\">f1-score</a></span></li><li><span><a href=\"#Data-inspection\" data-toc-modified-id=\"Data-inspection-1.3.1.4\">Data inspection</a></span></li></ul></li></ul></li><li><span><a href=\"#4-Logistic-regression\" data-toc-modified-id=\"4-Logistic-regression-1.4\">4 Logistic regression</a></span><ul class=\"toc-item\"><li><ul class=\"toc-item\"><li><span><a href=\"#Test-set-results\" data-toc-modified-id=\"Test-set-results-1.4.0.1\">Test set results</a></span></li></ul></li></ul></li><li><span><a href=\"#5-Decision-Tree\" data-toc-modified-id=\"5-Decision-Tree-1.5\">5 Decision Tree</a></span><ul class=\"toc-item\"><li><ul class=\"toc-item\"><li><span><a href=\"#Fit-the-model\" data-toc-modified-id=\"Fit-the-model-1.5.0.1\">Fit the model</a></span></li><li><span><a href=\"#Test-set-results\" data-toc-modified-id=\"Test-set-results-1.5.0.2\">Test set results</a></span></li><li><span><a href=\"#Discussion\" data-toc-modified-id=\"Discussion-1.5.0.3\">Discussion</a></span></li></ul></li></ul></li><li><span><a href=\"#6.-NLP-Methods:-tokenisation,-vectorization,-bag-of-words\" data-toc-modified-id=\"6.-NLP-Methods:-tokenisation,-vectorization,-bag-of-words-1.6\">6. NLP Methods: tokenisation, vectorization, bag-of-words</a></span><ul class=\"toc-item\"><li><ul class=\"toc-item\"><li><span><a href=\"#Tokenisation\" data-toc-modified-id=\"Tokenisation-1.6.0.1\">Tokenisation</a></span></li></ul></li><li><span><a href=\"#Vectorization\" data-toc-modified-id=\"Vectorization-1.6.1\">Vectorization</a></span></li></ul></li><li><span><a href=\"#7.-Logistic-Regression-revisited\" data-toc-modified-id=\"7.-Logistic-Regression-revisited-1.7\">7. Logistic Regression revisited</a></span><ul class=\"toc-item\"><li><ul class=\"toc-item\"><li><span><a href=\"#Test-set-results\" data-toc-modified-id=\"Test-set-results-1.7.0.1\">Test set results</a></span></li><li><span><a href=\"#Comparison-of-the-two-different-logistic-regression-models\" data-toc-modified-id=\"Comparison-of-the-two-different-logistic-regression-models-1.7.0.2\">Comparison of the two different logistic regression models</a></span></li></ul></li></ul></li></ul></li><li><span><a href=\"#8.-Neural-Network\" data-toc-modified-id=\"8.-Neural-Network-2\">8. Neural Network</a></span><ul class=\"toc-item\"><li><ul class=\"toc-item\"><li><span><a href=\"#Introduction\" data-toc-modified-id=\"Introduction-2.0.1\">Introduction</a></span></li><li><span><a href=\"#Keras\" data-toc-modified-id=\"Keras-2.0.2\">Keras</a></span><ul class=\"toc-item\"><li><span><a href=\"#Parameters-for-the-neural-network:-epochs-and-batch-size\" data-toc-modified-id=\"Parameters-for-the-neural-network:-epochs-and-batch-size-2.0.2.1\">Parameters for the neural network: epochs and batch size</a></span></li></ul></li></ul></li></ul></li></ul></div>"
   ]
  },
  {
   "cell_type": "markdown",
   "metadata": {
    "colab_type": "text",
    "id": "view-in-github"
   },
   "source": [
    "<a href=\"https://colab.research.google.com/github/philip-papasavvas/ml_sandbox/blob/main/Natural_Language_Processing.ipynb\" target=\"_parent\"><img src=\"https://colab.research.google.com/assets/colab-badge.svg\" alt=\"Open In Colab\"/></a>"
   ]
  },
  {
   "cell_type": "markdown",
   "metadata": {
    "id": "wJszQsbAYT2-"
   },
   "source": [
    "# **Natural Language Processing (NLP) Project using the SMS Spam dataset**"
   ]
  },
  {
   "cell_type": "markdown",
   "metadata": {
    "id": "ypEcI5tFYQru"
   },
   "source": [
    "The following project will look at applying machine learning techniques, specifically for a natural language processing problem. The problem will focus on using SMS message data, taken from the Kaggle website, where the data was originally curated from the UCI Machine Learning repository. The dataset contains almost 5,600 text messages in English, and are labelled with either ham (not spam), or spam.\n",
    "\n",
    "In this project we will explore concept such as: \n",
    "* **Feature engineering**: assessing the messages to add features to each one, such as the presence of exclamation marks, capital letters, the length of each message, and so on.\n",
    "* **Lemmaisation**: this involves converting each word into its base form, for example by removing its ending. Converting the word running to run is an example of lemmaisation.\n",
    "* **Bag of words**: This approach uses a collection of words to represent a sentence, taking account of the number of occurences of each word.\n",
    "\n",
    "The data used in this project can be found here:\n",
    "* https://www.kaggle.com/uciml/sms-spam-collection-dataset\n",
    "* https://archive.ics.uci.edu/ml/datasets/sms+spam+collection\n",
    "\n",
    "This workbook will have the following outline:\n",
    "1. **Exploratory Data Analysis**\n",
    "2. **Data pre-processing & feature engineering**\n",
    "3. **Application of common Machine Learning models**\n",
    "4. **Logistic regression**\n",
    "5. **Decision tree**\n",
    "6. **NLP Methods: tokenisation, vectorization, bag-of-words**\n",
    "7. **Logistic regression revisited**\n",
    "8. **Neural networks**"
   ]
  },
  {
   "cell_type": "markdown",
   "metadata": {
    "id": "8VtngXTTB8Mw"
   },
   "source": [
    "## 1. Exploratory Data Analysis\n",
    "First, import the modules needed and load the data. Then, explore the statistics of the underlying data, such as the split between spam/non-spam (ham) messages and the length of the messages."
   ]
  },
  {
   "cell_type": "code",
   "execution_count": 1,
   "metadata": {
    "id": "fb1UNEYAhCvY"
   },
   "outputs": [],
   "source": [
    "import pandas as pd\n",
    "import numpy as np\n",
    "import string\n",
    "\n",
    "import matplotlib.pyplot as plt\n",
    "import seaborn as sns\n",
    "sns.set() # set seaborn as default style even if we use matplotlib\n",
    "\n",
    "# text preprocessing\n",
    "import nltk\n",
    "\n",
    "%matplotlib inline"
   ]
  },
  {
   "cell_type": "code",
   "execution_count": 2,
   "metadata": {
    "id": "fAuyvw2mauQ5"
   },
   "outputs": [],
   "source": [
    "# import the SMS text file\n",
    "sms_messages = pd.read_csv(\n",
    "    'https://raw.githubusercontent.com/philip-papasavvas/ml_sandbox/main/data/SMSSpamCollection.txt',\n",
    "    sep='\\t', names=['label', 'message'])"
   ]
  },
  {
   "cell_type": "code",
   "execution_count": 3,
   "metadata": {
    "colab": {
     "base_uri": "https://localhost:8080/"
    },
    "id": "kPiTwm4tjv4f",
    "outputId": "bb7249f8-9e7d-4e1b-8fd3-82fb1bd813cb"
   },
   "outputs": [
    {
     "name": "stdout",
     "output_type": "stream",
     "text": [
      "4825 non-spam messages \n",
      "747 spam messages \n",
      "13.4% spam\n"
     ]
    }
   ],
   "source": [
    "num_spam_messages = len(sms_messages[sms_messages['label'] != 'ham'])\n",
    "num_non_spam_messages = len(sms_messages[sms_messages['label'] == 'ham'])\n",
    "\n",
    "print(f\"{num_non_spam_messages} non-spam messages \\n\"\n",
    "      f\"{num_spam_messages} spam messages \\n\"\n",
    "      f\"{100*num_spam_messages/len(sms_messages) :,.1f}% spam\")"
   ]
  },
  {
   "cell_type": "markdown",
   "metadata": {
    "id": "is0armGI_7Mp"
   },
   "source": [
    "We can see that there is an unbalanced dataset. This needs to be considered later on when applying machine learning models such as decision-tree algorithms, which generate a bias on unbalanced datasets. The issue here is when data is dominated by examples of only one type of class, then the classifer that is trained will then be biased towards the majority class, in this case non-spam (ham) messages. So, when the classifier is applied to a test set that is also imbalanced, the classifier yields an optimistic accuracy estimate.\n",
    "\n",
    "As an example, but also an extreme case, the classifier could assign every test case to the non-spam category, and therefore the accuracy would be equal to the proportion of overall messages that are not non-spam, in this case 87%, which might be judged as a good level of accuracy. \n",
    "\n",
    "This is a well known problem in binary classification and machine learning, and can be counterbalanced in a number of ways, see the topic of discussion [here](https://stats.stackexchange.com/questions/28029/training-a-decision-tree-against-unbalanced-data)."
   ]
  },
  {
   "cell_type": "code",
   "execution_count": 4,
   "metadata": {},
   "outputs": [
    {
     "data": {
      "text/html": [
       "<div>\n",
       "<style scoped>\n",
       "    .dataframe tbody tr th:only-of-type {\n",
       "        vertical-align: middle;\n",
       "    }\n",
       "\n",
       "    .dataframe tbody tr th {\n",
       "        vertical-align: top;\n",
       "    }\n",
       "\n",
       "    .dataframe thead th {\n",
       "        text-align: right;\n",
       "    }\n",
       "</style>\n",
       "<table border=\"1\" class=\"dataframe\">\n",
       "  <thead>\n",
       "    <tr style=\"text-align: right;\">\n",
       "      <th></th>\n",
       "      <th>label</th>\n",
       "      <th>message</th>\n",
       "    </tr>\n",
       "  </thead>\n",
       "  <tbody>\n",
       "    <tr>\n",
       "      <th>0</th>\n",
       "      <td>ham</td>\n",
       "      <td>Go until jurong point, crazy.. Available only ...</td>\n",
       "    </tr>\n",
       "    <tr>\n",
       "      <th>1</th>\n",
       "      <td>ham</td>\n",
       "      <td>Ok lar... Joking wif u oni...</td>\n",
       "    </tr>\n",
       "    <tr>\n",
       "      <th>2</th>\n",
       "      <td>spam</td>\n",
       "      <td>Free entry in 2 a wkly comp to win FA Cup fina...</td>\n",
       "    </tr>\n",
       "    <tr>\n",
       "      <th>3</th>\n",
       "      <td>ham</td>\n",
       "      <td>U dun say so early hor... U c already then say...</td>\n",
       "    </tr>\n",
       "    <tr>\n",
       "      <th>4</th>\n",
       "      <td>ham</td>\n",
       "      <td>Nah I don't think he goes to usf, he lives aro...</td>\n",
       "    </tr>\n",
       "  </tbody>\n",
       "</table>\n",
       "</div>"
      ],
      "text/plain": [
       "  label                                            message\n",
       "0   ham  Go until jurong point, crazy.. Available only ...\n",
       "1   ham                      Ok lar... Joking wif u oni...\n",
       "2  spam  Free entry in 2 a wkly comp to win FA Cup fina...\n",
       "3   ham  U dun say so early hor... U c already then say...\n",
       "4   ham  Nah I don't think he goes to usf, he lives aro..."
      ]
     },
     "execution_count": 4,
     "metadata": {},
     "output_type": "execute_result"
    }
   ],
   "source": [
    "sms_messages.head()"
   ]
  },
  {
   "cell_type": "markdown",
   "metadata": {},
   "source": [
    "Let's look at some examples of ham and spam messages"
   ]
  },
  {
   "cell_type": "code",
   "execution_count": 5,
   "metadata": {},
   "outputs": [
    {
     "name": "stdout",
     "output_type": "stream",
     "text": [
      "Spam message examples: \n",
      " ****************************** \n",
      " \n",
      "\n",
      "Congratulations ur awarded 500 of CD vouchers or 125gift guaranteed & Free entry 2 100 wkly draw txt MUSIC to 87066 TnCs www.Ldew.com1win150ppmx3age16 \n",
      " \n",
      "\n",
      "RGENT! This is the 2nd attempt to contact U!U have WON £1250 CALL 09071512433 b4 050703 T&CsBCM4235WC1N3XX. callcost 150ppm mobilesvary. max£7. 50 \n",
      " \n",
      "\n",
      "You are guaranteed the latest Nokia Phone, a 40GB iPod MP3 player or a £500 prize! Txt word: COLLECT to No: 83355! IBHltd LdnW15H 150p/Mtmsgrcvd18+ \n",
      " \n",
      "\n",
      "XMAS iscoming & ur awarded either £500 CD gift vouchers & free entry 2 r £100 weekly draw txt MUSIC to 87066 TnC www.Ldew.com1win150ppmx3age16subscription  \n",
      " \n",
      "\n",
      "Santa calling! Would your little ones like a call from Santa Xmas Eve? Call 09077818151 to book you time. Calls1.50ppm last 3mins 30s T&C www.santacalling.com \n",
      " \n",
      "\n",
      "Non-spam message examples: \n",
      " ****************************** \n",
      " \n",
      "\n",
      "Like I made him throw up when we were smoking in our friend's car one time, it was awesome \n",
      " \n",
      "\n",
      "Well, i'm gonna finish my bath now. Have a good...fine night. \n",
      " \n",
      "\n",
      "alright tyler's got a minor crisis and has to be home sooner than he thought so be here asap \n",
      " \n",
      "\n",
      "Guess he wants alone time. We could just show up and watch when they do.. \n",
      " \n",
      "\n",
      "Nimbomsons. Yep phone knows that one. Obviously, cos thats a real word \n",
      " \n",
      "\n"
     ]
    }
   ],
   "source": [
    "spam_messages = sms_messages.loc[sms_messages['label']=='spam', 'message'] # pd.Series\n",
    "non_spam_messages = sms_messages.loc[sms_messages['label']=='ham', 'message'] # pd.Series\n",
    "\n",
    "np.random.seed(1)\n",
    "\n",
    "print(\"Spam message examples: \\n\", \"*\" * 30, \"\\n \\n\")\n",
    "for random_choice in np.random.randint(0, len(spam_messages), 5):\n",
    "    print(f\"{spam_messages.iloc[random_choice]} \\n \\n\")\n",
    "\n",
    "    \n",
    "print(\"Non-spam message examples: \\n\", \"*\"*30, \"\\n \\n\")\n",
    "for random_choice in np.random.randint(0, len(non_spam_messages), 5):\n",
    "    print(f\"{non_spam_messages.iloc[random_choice]} \\n \\n\")"
   ]
  },
  {
   "cell_type": "markdown",
   "metadata": {},
   "source": [
    "From the few examples above, we see that the ham and spam messages differ quite a lot in terms of the attributes of the messages- length, number of words, presence of website, punctuation, use of words, and so on. In the next section, therefore, we will perform pre-processing and feature extraction."
   ]
  },
  {
   "cell_type": "markdown",
   "metadata": {},
   "source": [
    "## 2. Data pre-processing & feature engineering\n",
    "Upon initial inspection of some examples of the messages, we can extract features to enrich the amount of data we are working with to classify whether a message is spam or not.\n",
    "\n",
    "It's important that we understand the data well, to have the ability to add more features. This will enable us to carry out feature engineering more effectively. This is extremely important in the field of natural language processing (and spam classification), where feature engineering is one of the most important parts of the process."
   ]
  },
  {
   "cell_type": "markdown",
   "metadata": {
    "id": "b_rImZgPAG8j"
   },
   "source": [
    "#### Initial thoughts\n",
    "Immediately, the following attributes stand out:\n",
    "- **length of messages**: spam messages look longer\n",
    "- **number of words**: spam messages seem to have more words\n",
    "Let's add these features and compare and contrast the spam/ham data."
   ]
  },
  {
   "cell_type": "code",
   "execution_count": 6,
   "metadata": {},
   "outputs": [],
   "source": [
    "sms_messages['length'] = sms_messages['message'].apply(len)\n",
    "sms_messages['word_count'] = [len(x.split()) for x in sms_messages[\"message\"]]"
   ]
  },
  {
   "cell_type": "code",
   "execution_count": 7,
   "metadata": {},
   "outputs": [
    {
     "data": {
      "text/html": [
       "<div>\n",
       "<style scoped>\n",
       "    .dataframe tbody tr th:only-of-type {\n",
       "        vertical-align: middle;\n",
       "    }\n",
       "\n",
       "    .dataframe tbody tr th {\n",
       "        vertical-align: top;\n",
       "    }\n",
       "\n",
       "    .dataframe thead th {\n",
       "        text-align: right;\n",
       "    }\n",
       "</style>\n",
       "<table border=\"1\" class=\"dataframe\">\n",
       "  <thead>\n",
       "    <tr style=\"text-align: right;\">\n",
       "      <th></th>\n",
       "      <th>length</th>\n",
       "      <th>word_count</th>\n",
       "    </tr>\n",
       "  </thead>\n",
       "  <tbody>\n",
       "    <tr>\n",
       "      <th>count</th>\n",
       "      <td>5572.000000</td>\n",
       "      <td>5572.000000</td>\n",
       "    </tr>\n",
       "    <tr>\n",
       "      <th>mean</th>\n",
       "      <td>80.489950</td>\n",
       "      <td>15.597452</td>\n",
       "    </tr>\n",
       "    <tr>\n",
       "      <th>std</th>\n",
       "      <td>59.942907</td>\n",
       "      <td>11.404053</td>\n",
       "    </tr>\n",
       "    <tr>\n",
       "      <th>min</th>\n",
       "      <td>2.000000</td>\n",
       "      <td>1.000000</td>\n",
       "    </tr>\n",
       "    <tr>\n",
       "      <th>25%</th>\n",
       "      <td>36.000000</td>\n",
       "      <td>7.000000</td>\n",
       "    </tr>\n",
       "    <tr>\n",
       "      <th>50%</th>\n",
       "      <td>62.000000</td>\n",
       "      <td>12.000000</td>\n",
       "    </tr>\n",
       "    <tr>\n",
       "      <th>75%</th>\n",
       "      <td>122.000000</td>\n",
       "      <td>23.000000</td>\n",
       "    </tr>\n",
       "    <tr>\n",
       "      <th>max</th>\n",
       "      <td>910.000000</td>\n",
       "      <td>171.000000</td>\n",
       "    </tr>\n",
       "  </tbody>\n",
       "</table>\n",
       "</div>"
      ],
      "text/plain": [
       "            length   word_count\n",
       "count  5572.000000  5572.000000\n",
       "mean     80.489950    15.597452\n",
       "std      59.942907    11.404053\n",
       "min       2.000000     1.000000\n",
       "25%      36.000000     7.000000\n",
       "50%      62.000000    12.000000\n",
       "75%     122.000000    23.000000\n",
       "max     910.000000   171.000000"
      ]
     },
     "execution_count": 7,
     "metadata": {},
     "output_type": "execute_result"
    }
   ],
   "source": [
    "sms_messages.describe()"
   ]
  },
  {
   "cell_type": "markdown",
   "metadata": {},
   "source": [
    "It looks like there are some outliers for the **length** and **word_count**, so we will plot the distributions for these with a limit on the maximum value, of 200 for length, and words count of 50."
   ]
  },
  {
   "cell_type": "code",
   "execution_count": 8,
   "metadata": {},
   "outputs": [
    {
     "data": {
      "text/plain": [
       "Text(0.5, 0.98, 'length of message by type')"
      ]
     },
     "execution_count": 8,
     "metadata": {},
     "output_type": "execute_result"
    },
    {
     "data": {
      "image/png": "[encoded data removed]",
      "text/plain": [
       "<Figure size 576x360 with 1 Axes>"
      ]
     },
     "metadata": {
      "needs_background": "light"
     },
     "output_type": "display_data"
    }
   ],
   "source": [
    "plt.figure(figsize=(8,5))\n",
    "sns.histplot(data=sms_messages, x='length', hue='label', kde=True)\n",
    "plt.xlim(0,200)\n",
    "plt.suptitle('length of message by type')"
   ]
  },
  {
   "cell_type": "markdown",
   "metadata": {},
   "source": [
    "Clearly, we can see that the spam messages are **longer** than ham messages, and have a greater dispersion."
   ]
  },
  {
   "cell_type": "code",
   "execution_count": 9,
   "metadata": {
    "colab": {
     "base_uri": "https://localhost:8080/",
     "height": 175
    },
    "id": "IcNsgRpwAB3X",
    "outputId": "fda2d8a4-131a-452c-f764-b7dc1514256b"
   },
   "outputs": [
    {
     "data": {
      "text/plain": [
       "Text(0.5, 0.98, 'word_count of message by type')"
      ]
     },
     "execution_count": 9,
     "metadata": {},
     "output_type": "execute_result"
    },
    {
     "data": {
      "image/png": "[encoded data removed]",
      "text/plain": [
       "<Figure size 576x360 with 1 Axes>"
      ]
     },
     "metadata": {
      "needs_background": "light"
     },
     "output_type": "display_data"
    }
   ],
   "source": [
    "plt.figure(figsize=(8,5))\n",
    "sns.histplot(data=sms_messages, x='word_count', hue='label', kde=True)\n",
    "plt.xlim(0,40)\n",
    "plt.suptitle('word_count of message by type')"
   ]
  },
  {
   "cell_type": "markdown",
   "metadata": {},
   "source": [
    "Again, spam messages have **more words** than ham messages. On average, ham messages are around 5-10 words, with spam messages being around 25-30 words long. Further, we can see the dispersion for ham messages is much larger than for spam ones."
   ]
  },
  {
   "cell_type": "code",
   "execution_count": 10,
   "metadata": {},
   "outputs": [],
   "source": [
    "sms_messages['is_spam'] = np.where(sms_messages['label'] == 'spam', 1, 0)"
   ]
  },
  {
   "cell_type": "markdown",
   "metadata": {
    "tags": []
   },
   "source": [
    "#### Further feature extraction\n",
    "\n",
    "Having investigated some examples of spam and non-spam messages above, we see that spam messages have:\n",
    "- **more** capital letters\n",
    "- **more** numbers: prompting the user that they have won a specific amount, or prompting them to call/message a specific number\n",
    "- **more** punctuation: question marks and exclamation marks\n",
    "- **presence of URL**: spam messages seem to have URL/websites in them\n",
    "- **presence of phone numbers**: spam messages seem to have phone numbers/text messages to contact to collect prizes. These numbers might be longer than a number used in a ham message, so we will search for sufficiently long ones.\n",
    "\n",
    "\n",
    "We can assess these intuitions later when running classifiers for the messages.\n",
    "At the moment, we will not apply any common natural language processing techniques, in terms of reducing the size of the messages to key words, removing punctuation, but will instead use the features we've already extracted to test a couple of supervised learning models.\n",
    "\n",
    "Below I will write functions and demonstrate their results for each of these features"
   ]
  },
  {
   "cell_type": "code",
   "execution_count": 11,
   "metadata": {},
   "outputs": [
    {
     "name": "stdout",
     "output_type": "stream",
     "text": [
      "There are 747 total spam messages\n"
     ]
    }
   ],
   "source": [
    "import re\n",
    "# get a population of spam messages on which to test the functions \n",
    "spam_messages = sms_messages.loc[sms_messages['label'] == 'spam', 'message'] \n",
    "\n",
    "print(f\"There are {len(spam_messages)} total spam messages\")"
   ]
  },
  {
   "cell_type": "markdown",
   "metadata": {},
   "source": [
    "#### Function to count the number of capital words"
   ]
  },
  {
   "cell_type": "code",
   "execution_count": 12,
   "metadata": {},
   "outputs": [
    {
     "name": "stdout",
     "output_type": "stream",
     "text": [
      "Original message: \n",
      " FreeMsg Why haven't you replied to my text? I'm Randy, sexy, female and live local. Luv to hear from u. Netcollex Ltd 08700621170150p per msg reply Stop to end \n",
      "\n",
      "Function count_capital_words: 0\n"
     ]
    }
   ],
   "source": [
    "def count_capital_words(input_str: str) -> int:\n",
    "    return sum(map(str.isupper, input_str.split()))\n",
    "    \n",
    "sms_messages['count_capitals'] = sms_messages['message'].apply(count_capital_words)\n",
    "random_spam_msg = spam_messages.iloc[np.random.randint(0, 100)]\n",
    "\n",
    "print(f\"Original message: \\n {random_spam_msg} \\n\")\n",
    "print(f\"Function count_capital_words: {count_capital_words(random_spam_msg)}\")"
   ]
  },
  {
   "cell_type": "markdown",
   "metadata": {},
   "source": [
    "#### Function to count the number of numeric characters in a string"
   ]
  },
  {
   "cell_type": "code",
   "execution_count": 13,
   "metadata": {},
   "outputs": [
    {
     "name": "stdout",
     "output_type": "stream",
     "text": [
      "Original message: \n",
      " Fancy a shag? I do.Interested? sextextuk.com txt XXUK SUZY to 69876. Txts cost 1.50 per msg. TnCs on website. X \n",
      "\n",
      "Function count_numerics: 8\n"
     ]
    }
   ],
   "source": [
    "def count_numerics(input_str: str) -> int:\n",
    "    return len(re.sub(\"[^0-9]\", \"\", input_str))\n",
    "\n",
    "sms_messages['numeric_count'] = sms_messages['message'].apply(count_numerics)\n",
    "\n",
    "random_spam_msg = spam_messages.iloc[np.random.randint(0, 100)]\n",
    "print(f\"Original message: \\n {random_spam_msg} \\n\")\n",
    "print(f\"Function count_numerics: {count_numerics(random_spam_msg)}\")\n"
   ]
  },
  {
   "cell_type": "markdown",
   "metadata": {},
   "source": [
    "#### Function to count the number of exclamation & question marks in each message"
   ]
  },
  {
   "cell_type": "code",
   "execution_count": 14,
   "metadata": {},
   "outputs": [
    {
     "name": "stdout",
     "output_type": "stream",
     "text": [
      "Original message: \n",
      " URGENT! Your Mobile No. was awarded £2000 Bonus Caller Prize on 5/9/03 This is our final try to contact U! Call from Landline 09064019788 BOX42WR29C, 150PPM \n",
      "\n",
      "Function exclamation_question_count: 2\n"
     ]
    }
   ],
   "source": [
    "# count number of exclamation/question marks in each message \n",
    "def count_exclamation_question(input_str: str) -> int:\n",
    "    return len(re.sub(\"[^!?]\", \"\", input_str))\n",
    "\n",
    "sms_messages['exclamation_question_count'] = sms_messages['message'].apply(count_exclamation_question)\n",
    "\n",
    "random_spam_msg = spam_messages.iloc[np.random.randint(0, 100)]\n",
    "print(f\"Original message: \\n {random_spam_msg} \\n\")\n",
    "print(f\"Function exclamation_question_count: {count_exclamation_question(random_spam_msg)}\")"
   ]
  },
  {
   "cell_type": "markdown",
   "metadata": {},
   "source": [
    "#### Function to show the presence of a website/URL in a message\n",
    "(Of course this can be made more sophisticated)"
   ]
  },
  {
   "cell_type": "code",
   "execution_count": 15,
   "metadata": {},
   "outputs": [
    {
     "name": "stdout",
     "output_type": "stream",
     "text": [
      "Original message: \n",
      " You are a winner U have been specially selected 2 receive £1000 or a 4* holiday (flights inc) speak to a live operator 2 claim 0871277810910p/min (18+)  \n",
      "\n",
      "Function search_for_website: 0\n"
     ]
    }
   ],
   "source": [
    "def search_for_website(input_str: str) -> int:\n",
    "    return 1 if bool(re.search('http://www|www.|.com', input_str)) == True else 0\n",
    "\n",
    "sms_messages['is_website'] = sms_messages['message'].apply(search_for_website)\n",
    "\n",
    "random_spam_msg = spam_messages.iloc[np.random.randint(0, 100)]\n",
    "print(f\"Original message: \\n {random_spam_msg} \\n\")\n",
    "print(f\"Function search_for_website: {search_for_website(random_spam_msg)}\")"
   ]
  },
  {
   "cell_type": "markdown",
   "metadata": {},
   "source": [
    "#### Function to look for phone numbers in a message\n",
    "Here we defined a phone number as more than 5 numbers in a row. A spam message might ask to text/call a number to redeem a prize/redeem an offer."
   ]
  },
  {
   "cell_type": "code",
   "execution_count": 16,
   "metadata": {},
   "outputs": [
    {
     "name": "stdout",
     "output_type": "stream",
     "text": [
      "Original message: \n",
      " For ur chance to win a £250 wkly shopping spree TXT: SHOP to 80878. T's&C's www.txt-2-shop.com custcare 08715705022, 1x150p/wk \n",
      "\n",
      "Function search_for_prize_number: 1\n"
     ]
    }
   ],
   "source": [
    "def search_for_prize_number(input_str: str) -> int:\n",
    "    # use regex to search for 5 or more digits\n",
    "    return 1 if bool(re.search(r'\\d{5,}', input_str)) == True else 0 \n",
    "\n",
    "sms_messages['is_prize_number'] = sms_messages['message'].apply(search_for_prize_number)\n",
    "\n",
    "random_spam_msg = spam_messages.iloc[np.random.randint(0, 100)]\n",
    "print(f\"Original message: \\n {random_spam_msg} \\n\")\n",
    "print(f\"Function search_for_prize_number: {search_for_prize_number(random_spam_msg)}\")"
   ]
  },
  {
   "cell_type": "markdown",
   "metadata": {},
   "source": [
    "#### Enriched feature data frame inspection\n",
    "Inspect the new data frame with the added features"
   ]
  },
  {
   "cell_type": "code",
   "execution_count": 17,
   "metadata": {},
   "outputs": [
    {
     "data": {
      "text/html": [
       "<div>\n",
       "<style scoped>\n",
       "    .dataframe tbody tr th:only-of-type {\n",
       "        vertical-align: middle;\n",
       "    }\n",
       "\n",
       "    .dataframe tbody tr th {\n",
       "        vertical-align: top;\n",
       "    }\n",
       "\n",
       "    .dataframe thead th {\n",
       "        text-align: right;\n",
       "    }\n",
       "</style>\n",
       "<table border=\"1\" class=\"dataframe\">\n",
       "  <thead>\n",
       "    <tr style=\"text-align: right;\">\n",
       "      <th></th>\n",
       "      <th>0</th>\n",
       "      <th>1</th>\n",
       "      <th>2</th>\n",
       "      <th>3</th>\n",
       "      <th>4</th>\n",
       "      <th>5</th>\n",
       "      <th>6</th>\n",
       "    </tr>\n",
       "  </thead>\n",
       "  <tbody>\n",
       "    <tr>\n",
       "      <th>label</th>\n",
       "      <td>ham</td>\n",
       "      <td>ham</td>\n",
       "      <td>spam</td>\n",
       "      <td>ham</td>\n",
       "      <td>ham</td>\n",
       "      <td>spam</td>\n",
       "      <td>ham</td>\n",
       "    </tr>\n",
       "    <tr>\n",
       "      <th>message</th>\n",
       "      <td>Go until jurong point, crazy.. Available only ...</td>\n",
       "      <td>Ok lar... Joking wif u oni...</td>\n",
       "      <td>Free entry in 2 a wkly comp to win FA Cup fina...</td>\n",
       "      <td>U dun say so early hor... U c already then say...</td>\n",
       "      <td>Nah I don't think he goes to usf, he lives aro...</td>\n",
       "      <td>FreeMsg Hey there darling it's been 3 week's n...</td>\n",
       "      <td>Even my brother is not like to speak with me. ...</td>\n",
       "    </tr>\n",
       "    <tr>\n",
       "      <th>length</th>\n",
       "      <td>111</td>\n",
       "      <td>29</td>\n",
       "      <td>155</td>\n",
       "      <td>49</td>\n",
       "      <td>61</td>\n",
       "      <td>147</td>\n",
       "      <td>77</td>\n",
       "    </tr>\n",
       "    <tr>\n",
       "      <th>word_count</th>\n",
       "      <td>20</td>\n",
       "      <td>6</td>\n",
       "      <td>28</td>\n",
       "      <td>11</td>\n",
       "      <td>13</td>\n",
       "      <td>32</td>\n",
       "      <td>16</td>\n",
       "    </tr>\n",
       "    <tr>\n",
       "      <th>is_spam</th>\n",
       "      <td>0</td>\n",
       "      <td>0</td>\n",
       "      <td>1</td>\n",
       "      <td>0</td>\n",
       "      <td>0</td>\n",
       "      <td>1</td>\n",
       "      <td>0</td>\n",
       "    </tr>\n",
       "    <tr>\n",
       "      <th>count_capitals</th>\n",
       "      <td>0</td>\n",
       "      <td>0</td>\n",
       "      <td>2</td>\n",
       "      <td>2</td>\n",
       "      <td>1</td>\n",
       "      <td>0</td>\n",
       "      <td>0</td>\n",
       "    </tr>\n",
       "    <tr>\n",
       "      <th>numeric_count</th>\n",
       "      <td>0</td>\n",
       "      <td>0</td>\n",
       "      <td>25</td>\n",
       "      <td>0</td>\n",
       "      <td>0</td>\n",
       "      <td>4</td>\n",
       "      <td>0</td>\n",
       "    </tr>\n",
       "    <tr>\n",
       "      <th>exclamation_question_count</th>\n",
       "      <td>0</td>\n",
       "      <td>0</td>\n",
       "      <td>0</td>\n",
       "      <td>0</td>\n",
       "      <td>0</td>\n",
       "      <td>3</td>\n",
       "      <td>0</td>\n",
       "    </tr>\n",
       "    <tr>\n",
       "      <th>is_website</th>\n",
       "      <td>0</td>\n",
       "      <td>0</td>\n",
       "      <td>1</td>\n",
       "      <td>0</td>\n",
       "      <td>0</td>\n",
       "      <td>0</td>\n",
       "      <td>0</td>\n",
       "    </tr>\n",
       "    <tr>\n",
       "      <th>is_prize_number</th>\n",
       "      <td>0</td>\n",
       "      <td>0</td>\n",
       "      <td>1</td>\n",
       "      <td>0</td>\n",
       "      <td>0</td>\n",
       "      <td>0</td>\n",
       "      <td>0</td>\n",
       "    </tr>\n",
       "  </tbody>\n",
       "</table>\n",
       "</div>"
      ],
      "text/plain": [
       "                                                                            0  \\\n",
       "label                                                                     ham   \n",
       "message                     Go until jurong point, crazy.. Available only ...   \n",
       "length                                                                    111   \n",
       "word_count                                                                 20   \n",
       "is_spam                                                                     0   \n",
       "count_capitals                                                              0   \n",
       "numeric_count                                                               0   \n",
       "exclamation_question_count                                                  0   \n",
       "is_website                                                                  0   \n",
       "is_prize_number                                                             0   \n",
       "\n",
       "                                                        1  \\\n",
       "label                                                 ham   \n",
       "message                     Ok lar... Joking wif u oni...   \n",
       "length                                                 29   \n",
       "word_count                                              6   \n",
       "is_spam                                                 0   \n",
       "count_capitals                                          0   \n",
       "numeric_count                                           0   \n",
       "exclamation_question_count                              0   \n",
       "is_website                                              0   \n",
       "is_prize_number                                         0   \n",
       "\n",
       "                                                                            2  \\\n",
       "label                                                                    spam   \n",
       "message                     Free entry in 2 a wkly comp to win FA Cup fina...   \n",
       "length                                                                    155   \n",
       "word_count                                                                 28   \n",
       "is_spam                                                                     1   \n",
       "count_capitals                                                              2   \n",
       "numeric_count                                                              25   \n",
       "exclamation_question_count                                                  0   \n",
       "is_website                                                                  1   \n",
       "is_prize_number                                                             1   \n",
       "\n",
       "                                                                            3  \\\n",
       "label                                                                     ham   \n",
       "message                     U dun say so early hor... U c already then say...   \n",
       "length                                                                     49   \n",
       "word_count                                                                 11   \n",
       "is_spam                                                                     0   \n",
       "count_capitals                                                              2   \n",
       "numeric_count                                                               0   \n",
       "exclamation_question_count                                                  0   \n",
       "is_website                                                                  0   \n",
       "is_prize_number                                                             0   \n",
       "\n",
       "                                                                            4  \\\n",
       "label                                                                     ham   \n",
       "message                     Nah I don't think he goes to usf, he lives aro...   \n",
       "length                                                                     61   \n",
       "word_count                                                                 13   \n",
       "is_spam                                                                     0   \n",
       "count_capitals                                                              1   \n",
       "numeric_count                                                               0   \n",
       "exclamation_question_count                                                  0   \n",
       "is_website                                                                  0   \n",
       "is_prize_number                                                             0   \n",
       "\n",
       "                                                                            5  \\\n",
       "label                                                                    spam   \n",
       "message                     FreeMsg Hey there darling it's been 3 week's n...   \n",
       "length                                                                    147   \n",
       "word_count                                                                 32   \n",
       "is_spam                                                                     1   \n",
       "count_capitals                                                              0   \n",
       "numeric_count                                                               4   \n",
       "exclamation_question_count                                                  3   \n",
       "is_website                                                                  0   \n",
       "is_prize_number                                                             0   \n",
       "\n",
       "                                                                            6  \n",
       "label                                                                     ham  \n",
       "message                     Even my brother is not like to speak with me. ...  \n",
       "length                                                                     77  \n",
       "word_count                                                                 16  \n",
       "is_spam                                                                     0  \n",
       "count_capitals                                                              0  \n",
       "numeric_count                                                               0  \n",
       "exclamation_question_count                                                  0  \n",
       "is_website                                                                  0  \n",
       "is_prize_number                                                             0  "
      ]
     },
     "execution_count": 17,
     "metadata": {},
     "output_type": "execute_result"
    }
   ],
   "source": [
    "sms_messages.head(7).T"
   ]
  },
  {
   "cell_type": "markdown",
   "metadata": {},
   "source": [
    "Now that we've added many features to the data, let's look at the frequency distributions for those with continuous variables, except length and word count (covered earlier). \n",
    "We will group by the 'label' (classifying ham or spam), and inspect the distributions for:\n",
    "- numeric_count\n",
    "- exclamation_question_count\n",
    "- count_capitals"
   ]
  },
  {
   "cell_type": "code",
   "execution_count": 18,
   "metadata": {},
   "outputs": [
    {
     "data": {
      "image/png": "[encoded data removed]",
      "text/plain": [
       "<Figure size 1080x576 with 3 Axes>"
      ]
     },
     "metadata": {
      "needs_background": "light"
     },
     "output_type": "display_data"
    }
   ],
   "source": [
    "fig = plt.figure(figsize=(15,8))\n",
    "\n",
    "ax1 = fig.add_subplot(131)\n",
    "ax1.set_title(\"numeric_count of messages by type\")\n",
    "g = sns.boxplot(data=sms_messages, x='label', y='numeric_count', hue='label', ax=ax1)\n",
    "\n",
    "ax2 = fig.add_subplot(132)\n",
    "ax2.set_title(\"exclamation_question count of messages by type\")\n",
    "g = sns.boxplot(data=sms_messages, x='label', y='exclamation_question_count', hue='label', ax=ax2)\n",
    "\n",
    "ax3 = fig.add_subplot(133)\n",
    "ax3.set_title(\"count_capitals of messages by type\")\n",
    "g = sns.boxplot(data=sms_messages, x='label', y='count_capitals', hue='label', ax=ax3)\n",
    "\n",
    "plt.close(2)\n",
    "plt.close(3)"
   ]
  },
  {
   "cell_type": "markdown",
   "metadata": {},
   "source": [
    "it looks like in general, spam messages have:\n",
    "- more numbers \n",
    "- more exclamation/question marks\n",
    "- more capital letters"
   ]
  },
  {
   "cell_type": "markdown",
   "metadata": {},
   "source": [
    "## 3. Application of common Machine Learning models\n",
    "After adding features to the data, with regard to the number of numeric characters in each message, the length of the message, and the count of any exclamation and punctuation marks, we can feed in this data into a machine learning model to classify messages if they are spam or not. It might be unusual to do this in an NLP problem, but let's try it anyway and investigate the results we get, before diving into more detailed NLP techniques.\n",
    "\n",
    "\n",
    "#### Adjustments to the data\n",
    "As mentioned above we have an unbalanced dataset, where 13% of the messages in the dataset are spam, and the rest are not. In order to counterbalance this, we will use the two solutions:\n",
    " - **undersample** the majority spam class, or **oversample** the minority non-spam class, to prevent the bias in the first place\n",
    " - modify the **cost of misclassification** to prevent bias.\n",
    " \n",
    "I'd like to highlight the dangers of not balancing the dataset to address the imbalance between the spam/non-spam messages. Therefore I will use a logistic regression classifier whilst using a stratified sample (I will adjust the sampling of the data to ensure the split datasets have the same proportion of spam/non-spam messages). "
   ]
  },
  {
   "cell_type": "markdown",
   "metadata": {},
   "source": [
    "Before training the machine learning model it is crucial that we separate out the dataset into three different parts:\n",
    "- **training set**: this input data is used for the model to learn about the dataset, and fit its parameters\n",
    "- **validation set**: this data is used to evaluate a given model in order to tune the model parameters\n",
    "- **testing set**: test set is used once a model is completely trained, and will give you the accuracy of the model"
   ]
  },
  {
   "cell_type": "markdown",
   "metadata": {},
   "source": [
    "#### Discussion on the splitting of data into: training/validation/test sets\n",
    "- The purpose of the **training set** is to train the model to learn about the dataset, and fit its parameters. Therefore, this data is used to choose the optimal parameters for the model, hence its aim is to minimise the cost based on the predictions. Since these parameters are chosen to optimise the performance on the training set, the apparent performance of the parameters, evaluated on the training set, will be overly optimistic.\n",
    "\n",
    "- The **validation set** is used to select the best model. When evaluating any model using the validation set, you get a representative estimate of the cost function, since the choice is made towards the model that performs best on the validation set biased towards the estimate the model provides. So the apparent performance of the model will *see* the data, but won't learn from it. Therefore, strictly speaking, the dataset does influence the model, but only indirectly.\n",
    "\n",
    "- The need for the **test set** is that it gives an unbiased estimate for how good your final choice of model is. Since you've **trained** the model using the **training set**, and evaluated the model using the **validation** set, the gold standard is to test the model you've chosen on unseen data, the **test set**. It gives an unbiased estimate of the actual performance you will get from the model, since the model hasn't been fitted/tuned to any of this **unseen** data. You cannot use the **training set** since the model parameters are biased towards this data, and likewise for **validation set**, highlighting the need for this third set of data, the **test set**."
   ]
  },
  {
   "cell_type": "markdown",
   "metadata": {},
   "source": [
    "### Model performance measures\n",
    "We will use three performance measures to assess the models we will be training and fitting for the data.\n",
    "\n",
    "#### Precision\n",
    "This is the ratio of correctly predicted positive observations compared to the total predicted positive observations. High precision means that there is a low false positive rate, that is, not very many observations are predicted as positive falsely.\n",
    "\n",
    "*Another way of wording: Of all predicted positive observations, what was the fraction that were positive?*\n",
    "\n",
    "*Or: Positive predictive value*\n",
    "\n",
    "#### Recall (sensitivity)\n",
    "This is the ratio of the correctly predicted positive observations compared to all positive observations.\n",
    "\n",
    "*Another way of wording: Of all of the actual positive observations, what fraction did we predict as positive?*\n",
    "\n",
    "*Or: True positive rate*\n",
    "\n",
    "#### f1-score\n",
    "This is the weighted average of the precision and recall. It takes into account both false positives and false negatives. This is a useful measure to combine both the precision and recall into one measure."
   ]
  },
  {
   "cell_type": "markdown",
   "metadata": {},
   "source": [
    "#### Data inspection\n"
   ]
  },
  {
   "cell_type": "code",
   "execution_count": 19,
   "metadata": {},
   "outputs": [
    {
     "name": "stdout",
     "output_type": "stream",
     "text": [
      "<class 'pandas.core.frame.DataFrame'>\n",
      "RangeIndex: 5572 entries, 0 to 5571\n",
      "Data columns (total 10 columns):\n",
      " #   Column                      Non-Null Count  Dtype \n",
      "---  ------                      --------------  ----- \n",
      " 0   label                       5572 non-null   object\n",
      " 1   message                     5572 non-null   object\n",
      " 2   length                      5572 non-null   int64 \n",
      " 3   word_count                  5572 non-null   int64 \n",
      " 4   is_spam                     5572 non-null   int64 \n",
      " 5   count_capitals              5572 non-null   int64 \n",
      " 6   numeric_count               5572 non-null   int64 \n",
      " 7   exclamation_question_count  5572 non-null   int64 \n",
      " 8   is_website                  5572 non-null   int64 \n",
      " 9   is_prize_number             5572 non-null   int64 \n",
      "dtypes: int64(8), object(2)\n",
      "memory usage: 435.4+ KB\n"
     ]
    }
   ],
   "source": [
    "sms_messages.info()"
   ]
  },
  {
   "cell_type": "markdown",
   "metadata": {},
   "source": [
    "Split the data using the `train_test_split` function from `scikit-learn`."
   ]
  },
  {
   "cell_type": "code",
   "execution_count": 20,
   "metadata": {},
   "outputs": [],
   "source": [
    "from sklearn.model_selection import train_test_split\n",
    "\n",
    "feature_names = ['length', 'word_count', 'numeric_count', 'exclamation_question_count',\n",
    "                 'count_capitals', 'is_website']\n",
    "X = sms_messages[feature_names]\n",
    "y = sms_messages['is_spam']\n",
    "\n",
    "X_train, X_test, y_train, y_test = train_test_split(\n",
    "    X, y, \n",
    "    test_size=0.2, # 20% of the data will be used to test the model accuracy\n",
    "    random_state=1,\n",
    "    stratify=y) # stratify the data to keep the proportion of ham/spam messages consistent\n",
    "\n",
    "# further split the train set into \n",
    "# choose the validation set to be 25% of the training set we've just taken, overall we\n",
    "# have 20% of the original data as the validation set\n",
    "X_train, X_val, y_train, y_val = train_test_split(\n",
    "    X_train, y_train, \n",
    "    test_size=0.25,\n",
    "    random_state=1,\n",
    "    stratify = y_train)"
   ]
  },
  {
   "cell_type": "markdown",
   "metadata": {},
   "source": [
    "## 4 Logistic regression\n",
    "Firstly we will apply logistic regression to the data, using the training set to train the model, and then the test set to evaluate the performance of the model."
   ]
  },
  {
   "cell_type": "code",
   "execution_count": 21,
   "metadata": {},
   "outputs": [
    {
     "name": "stdout",
     "output_type": "stream",
     "text": [
      "Accuracy score for the test set was 96.68% \n",
      " \n"
     ]
    }
   ],
   "source": [
    "from sklearn.linear_model import LogisticRegression\n",
    "from sklearn.metrics import confusion_matrix, accuracy_score\n",
    "\n",
    "logistic = LogisticRegression(solver='lbfgs')\n",
    "logistic.fit(X_train, y_train)\n",
    "\n",
    "x_test_logistic_pred = logistic.predict(X_test)\n",
    "x_test_logistic_accuracy = accuracy_score(y_true=y_test, y_pred=x_test_logistic_pred)\n",
    "print(f\"Accuracy score for the test set was {100*x_test_logistic_accuracy:.2f}% \\n \")"
   ]
  },
  {
   "cell_type": "code",
   "execution_count": 22,
   "metadata": {},
   "outputs": [],
   "source": [
    "confusion_test_logistic = confusion_matrix(y_true=y_test, y_pred=x_test_logistic_pred)"
   ]
  },
  {
   "cell_type": "markdown",
   "metadata": {},
   "source": [
    "It would be useful to write a function to plot a confusion matrix for the results of the two tests."
   ]
  },
  {
   "cell_type": "code",
   "execution_count": 23,
   "metadata": {},
   "outputs": [],
   "source": [
    "def plot_confusion_matrix(input_matrix: np.ndarray, labels=None, title: str = None):\n",
    "    \"\"\"Seaborn plot of the confusion matrix, given labels (if so)\"\"\"\n",
    "    \n",
    "    labels = labels if labels else ['Negative (0)', 'Positive (1)']\n",
    "        \n",
    "    fig, ax = plt.subplots()\n",
    "    fig = plt.figure(figsize=(8,8))\n",
    "    sns.heatmap(data=input_matrix, xticklabels=labels, yticklabels=labels, ax=ax,\n",
    "               cmap='YlGnBu', annot=True, fmt='g',\n",
    "               annot_kws={'size': 16})\n",
    "    ax.set_xlabel(\"Prediction\")\n",
    "    ax.set_ylabel(\"Actual\")\n",
    "    ax.set_title(\"Confusion Matrix\")\n",
    "    plt.close()\n",
    "        \n",
    "    return fig      "
   ]
  },
  {
   "cell_type": "markdown",
   "metadata": {},
   "source": [
    "#### Test set results\n",
    "Inspect the results from the confusion matrix for the test set."
   ]
  },
  {
   "cell_type": "code",
   "execution_count": 24,
   "metadata": {},
   "outputs": [
    {
     "name": "stdout",
     "output_type": "stream",
     "text": [
      "              precision    recall  f1-score   support\n",
      "\n",
      "           0       0.97      0.99      0.98       966\n",
      "           1       0.92      0.83      0.87       149\n",
      "\n",
      "    accuracy                           0.97      1115\n",
      "   macro avg       0.95      0.91      0.93      1115\n",
      "weighted avg       0.97      0.97      0.97      1115\n",
      "\n"
     ]
    },
    {
     "data": {
      "image/png": "[encoded data removed]",
      "text/plain": [
       "<Figure size 432x288 with 2 Axes>"
      ]
     },
     "metadata": {
      "needs_background": "light"
     },
     "output_type": "display_data"
    }
   ],
   "source": [
    "from sklearn.metrics import classification_report\n",
    "\n",
    "plot_confusion_matrix(confusion_test_logistic, labels=['not spam', 'spam'])\n",
    "print(classification_report(y_test, x_test_logistic_pred))"
   ]
  },
  {
   "cell_type": "markdown",
   "metadata": {},
   "source": [
    "Therefore, we see that using the **test set**:\n",
    "- Of 966 non-spam messages, 955 were classified as not spam, with 11 incorrectly classified as spam. Therefore, the **recall was 99% for non spam**.\n",
    "- From a total of 149 spam messages, 123 were predicted correctly. The **recall for non spam was 83%**. \n",
    "\n",
    "Overall, the accuracy for the test set is good, at 97%. However, since we only have 149 observations that are spam, compared to 966 observations that are \n",
    "non-spam, and therefore the peformance metrics in terms of precision, recall and f1-score are lower for the spam classifier."
   ]
  },
  {
   "cell_type": "markdown",
   "metadata": {},
   "source": [
    "## 5 Decision Tree\n",
    "In this example, we will use a classification (decision) tree, a supervised learning algorithm that can be used for classification, in this case to ascertain whether the message is spam or ham. The decision tree algorithm creates a model that can be used to predict the outcome of a the target variable (in this case ham or spam) by learning simple decision rules learned from the training data. As I will cover below, in a decision tree algorithm, the feature values are preferred to be categorical/discrete, rather than continuous, but we will fit the decision tree to compare the model performance with that of other supervised learning methods.\n",
    "\n",
    "In this decision tree for predicting if a text is ham or spam, we start at the **root** of the tree, comparing the results of the root with the the attribute of the message we're looking at. In this context, the first decision node at the root will split one of the features of the dataset. This could be the message length, for instance. Depending on the value of the length of the message, the route will take one of the two branches, before reaching the next decision node, and so on, until at the end the algorithm reaches the end leaf, where a decision is made whether the message is **ham** or **spam**.\n",
    "\n",
    "As mentioned previously, we will ensure that the binary decision tree has an automatic adjustment according to the proportion of spam/non-spam messages, else the tree might become biased toward the more dominant non-spam message classification.\n",
    "\n",
    "To adjust for this, we will pass `class_weight='balanced'` parameter into the decision tree, to perform an adjustment according to the proportion of frequencies of each class. This decision tree algorithm will therefore become a **class-weighted decision tree**.\n",
    "\n",
    "#### Fit the model\n",
    "We will now fit the model for the decision tree, and show the text detailing the set of rules generated by the decision tree."
   ]
  },
  {
   "cell_type": "code",
   "execution_count": 25,
   "metadata": {},
   "outputs": [
    {
     "name": "stdout",
     "output_type": "stream",
     "text": [
      "Accuracy score for the test set was 96.32% \n",
      " \n"
     ]
    }
   ],
   "source": [
    "from sklearn.tree import DecisionTreeClassifier, export_text\n",
    "from sklearn import tree\n",
    "\n",
    "import graphviz\n",
    "\n",
    "decision_tree_model = DecisionTreeClassifier(class_weight='balanced')\n",
    "decision_tree_model.fit(X_train, y_train)\n",
    "\n",
    "tree_rules = export_text(decision_tree_model, \n",
    "                        show_weights=True,\n",
    "                        feature_names=feature_names)\n",
    "\n",
    "decision_test_pred = decision_tree_model.predict(X_test)\n",
    "decision_test_accuracy = accuracy_score(y_true=y_test, y_pred=decision_test_pred)\n",
    "print(f\"Accuracy score for the test set was {100*decision_test_accuracy:.2f}% \\n \")"
   ]
  },
  {
   "cell_type": "markdown",
   "metadata": {},
   "source": [
    "#### Test set results\n",
    "Let's inspect the confusion matrix for the test set."
   ]
  },
  {
   "cell_type": "code",
   "execution_count": 26,
   "metadata": {},
   "outputs": [
    {
     "name": "stdout",
     "output_type": "stream",
     "text": [
      "              precision    recall  f1-score   support\n",
      "\n",
      "           0       0.98      0.98      0.98       966\n",
      "           1       0.86      0.86      0.86       149\n",
      "\n",
      "    accuracy                           0.96      1115\n",
      "   macro avg       0.92      0.92      0.92      1115\n",
      "weighted avg       0.96      0.96      0.96      1115\n",
      "\n"
     ]
    },
    {
     "data": {
      "text/plain": [
       "<Figure size 576x576 with 0 Axes>"
      ]
     },
     "execution_count": 26,
     "metadata": {},
     "output_type": "execute_result"
    },
    {
     "data": {
      "image/png": "[encoded data removed]",
      "text/plain": [
       "<Figure size 432x288 with 2 Axes>"
      ]
     },
     "metadata": {
      "needs_background": "light"
     },
     "output_type": "display_data"
    }
   ],
   "source": [
    "print(classification_report(y_test, decision_test_pred))\n",
    "plot_confusion_matrix(confusion_matrix(y_true=y_test, y_pred=decision_test_pred),\n",
    "                      labels=['not spam', 'spam'])"
   ]
  },
  {
   "cell_type": "markdown",
   "metadata": {},
   "source": [
    "Therefore, we see that using the **test set**:\n",
    "- Of 966 non-spam messages, 948 were classified as not spam, with 18 incorrectly classified as spam. Therefore, the **recall was 98% for not spam**.\n",
    "- From a total of 149 spam messages, 128 were predicted correctly. The **recall for spam was 86%**. \n",
    "\n",
    "Overall, the accuracy for the test set is good, at 97%. However, since we only have 149 observations that are spam, compared to 966 observations that are \n",
    "non-spam, and therefore the peformance metrics in terms of precision, recall and f1-score are lower for the spam classifier."
   ]
  },
  {
   "cell_type": "markdown",
   "metadata": {},
   "source": [
    "#### Discussion\n",
    "As mentioned above, the Decision Tree algorithm is usually used for problems where the feature vectors are categorical or discrete, whereas in this case they are continuous. It would be easy to change some of the features **numeric_count** and **exclamation_question_count** to instead be boolean flags indicating if a message contains numbers in it, or exclamation/question marks, therefore making the continuous data more discrete.\n",
    "However, for the purposes of this project, the consideration that the number of numeric characters and the number of exclamation/question marks was considered important to distinguishing whether a text is spam/ham."
   ]
  },
  {
   "cell_type": "markdown",
   "metadata": {},
   "source": [
    "The performance of the decision tree can be increased by **pruning**, a practice which involves removing the branches that have the least importance to the final outcome of the text classification as spam/ham."
   ]
  },
  {
   "cell_type": "markdown",
   "metadata": {},
   "source": [
    "## 6. NLP Methods: tokenisation, vectorization, bag-of-words\n",
    "So far we have looked at two supervised learning algorithms: **logistic regression** and **decision tree algorithm**. However, given that the messages contain a large population of words, instead of using feature engineering to extract features about the attributes of the messages, as above, we can instead convert the messages into **cleaned messages**. The aim of this exercise is to reduce each message into a list of tokens, which are meaningful words that can be extracted from each text, this is known as **tokenisation**.\n",
    "\n",
    "#### Tokenisation\n",
    "This involves converting the original text strings in each message into a list of tokens (meaningful words) by removing the stopwords, and punctuation.\n",
    "\n",
    "It doesn't seem like punctuation in messages (commas, full stops) gives insight about whether a message is spam or not, so we will remove these bits of punctuation from the messages. \n",
    "In addition to this, common words (the, a, there, etc.) appearing in the English language (stopwords) do not give much away regarding if the messages are spam or not.\n",
    "Therefore, we will go ahead and remove stopwords - making use of the `corpus` within the `nltk` package to do so.\n",
    "\n",
    "We will use a function to:\n",
    "* remove punctuation\n",
    "* remove stopwords - making use of the `corpus` within the `nltk` package."
   ]
  },
  {
   "cell_type": "markdown",
   "metadata": {},
   "source": [
    "Only run the below if you need to download the stopwords!"
   ]
  },
  {
   "cell_type": "code",
   "execution_count": 27,
   "metadata": {},
   "outputs": [],
   "source": [
    "# import nltk\n",
    "# nltk.download('stopwords')"
   ]
  },
  {
   "cell_type": "code",
   "execution_count": 28,
   "metadata": {},
   "outputs": [
    {
     "name": "stdout",
     "output_type": "stream",
     "text": [
      "179 total stopwords\n",
      "Examples of stopwords: ['i', 'me', 'my', 'myself', 'we', 'our', 'ours', 'ourselves', 'you', \"you're\"]\n"
     ]
    }
   ],
   "source": [
    "from nltk.corpus import stopwords\n",
    "english_stopwords = stopwords.words('English')\n",
    "\n",
    "print(f\"{len(english_stopwords)} total stopwords\")\n",
    "print(f\"Examples of stopwords: {english_stopwords[:10]}\")\n"
   ]
  },
  {
   "cell_type": "markdown",
   "metadata": {},
   "source": [
    "We can see that overall there are 179 stopwords! These can be removed from the dataset to reduce each message and will ensure smaller feature vectors for use in our machine learning model. Now let's construct a function to remove punctuation from a text, as well as removing the stopwords, and test the function afterwards."
   ]
  },
  {
   "cell_type": "code",
   "execution_count": 29,
   "metadata": {},
   "outputs": [],
   "source": [
    "def clean_text(input_str: str) -> list:\n",
    "  \"\"\"Method to clean input text (list)\"\"\"\n",
    "  # remove punctuation from the list\n",
    "  no_punc = [char for char in input_str if char not in string.punctuation]\n",
    "  \n",
    "  # join the chaaracters with no punctuation to get the original words\n",
    "  no_punc = \"\".join(no_punc)\n",
    "\n",
    "  # remove stopwords and split the long string containing words into a list\n",
    "  return [word for word in no_punc.split() if word not in english_stopwords]"
   ]
  },
  {
   "cell_type": "code",
   "execution_count": 30,
   "metadata": {},
   "outputs": [
    {
     "name": "stdout",
     "output_type": "stream",
     "text": [
      "Original message: \n",
      " Wen ur lovable bcums angry wid u, dnt take it seriously.. Coz being angry is d most childish n true way of showing deep affection, care n luv!.. kettoda manda... Have nice day da. \n",
      " \n",
      "\n",
      "Cleaned message removing the stopwords, punctuation, and converting the string into a list of tokens gives: \n",
      " ['Wen', 'ur', 'lovable', 'bcums', 'angry', 'wid', 'u', 'dnt', 'take', 'seriously', 'Coz', 'angry', 'childish', 'n', 'true', 'way', 'showing', 'deep', 'affection', 'care', 'n', 'luv', 'kettoda', 'manda', 'Have', 'nice', 'day', 'da']\n"
     ]
    }
   ],
   "source": [
    "random_msg = sms_messages['message'].iloc[np.random.randint(len(sms_messages))]\n",
    "print(f\"Original message: \\n {random_msg} \\n \\n\") \n",
    "print(f\"Cleaned message removing the stopwords, punctuation, and converting the \"\n",
    "      f\"string into a list of tokens gives: \\n {clean_text(random_msg)}\")"
   ]
  },
  {
   "cell_type": "markdown",
   "metadata": {
    "colab": {
     "base_uri": "https://localhost:8080/"
    },
    "id": "CheJbqdlcTaj",
    "outputId": "4dc9327b-0340-4672-848b-fb5598f6c763"
   },
   "source": [
    "We saw earlier the original text has been reduced in size from a string, to a list of strings (words).\n",
    "\n",
    "We will go ahead and apply this `clean_text` function to all of our messages."
   ]
  },
  {
   "cell_type": "code",
   "execution_count": 31,
   "metadata": {},
   "outputs": [],
   "source": [
    "sms_messages['cleaned_message'] = sms_messages['message'].apply(clean_text)"
   ]
  },
  {
   "cell_type": "code",
   "execution_count": 32,
   "metadata": {},
   "outputs": [
    {
     "data": {
      "text/plain": [
       "['FreeMsg',\n",
       " 'Hey',\n",
       " 'darling',\n",
       " '3',\n",
       " 'weeks',\n",
       " 'word',\n",
       " 'back',\n",
       " 'Id',\n",
       " 'like',\n",
       " 'fun',\n",
       " 'still',\n",
       " 'Tb',\n",
       " 'ok',\n",
       " 'XxX',\n",
       " 'std',\n",
       " 'chgs',\n",
       " 'send',\n",
       " '£150',\n",
       " 'rcv']"
      ]
     },
     "execution_count": 32,
     "metadata": {},
     "output_type": "execute_result"
    }
   ],
   "source": [
    "sms_messages['cleaned_message'].iloc[5]"
   ]
  },
  {
   "cell_type": "markdown",
   "metadata": {},
   "source": [
    "### Vectorization\n",
    "We can continue normalising this text using the `nltk` package. We will use **vectorisation** to use the converted message (now a list of 'token' words) as a vector that can be understood by other machine learning models we wish to apply.\n",
    "\n",
    "For this we will use the bag-of-words model. Using this model, each original message will be represented as a bag of its words, noting the freqeuncy of each word. Note that the ordering of the words will be disregarded. The frequency of each word will then be used in the feature vector for training a classifier later on."
   ]
  },
  {
   "cell_type": "markdown",
   "metadata": {},
   "source": [
    "We will use the `CountVectorizer` from `scikit-learn` to get a matrix of token counts, a two-dimensional matrix, where one dimension contains all of the words (one row per word), and the other dimension is each individual message, in this case one column per message. This matrix will look as follows:\n",
    "\n",
    "<table border = “1“>\n",
    "<tr>\n",
    "<th></th> <th>Message 1</th> <th>Message 2</th> <th>...</th> <th>Message N</th> \n",
    "</tr>\n",
    "<tr>\n",
    "<td><b>Word 1 Count</b></td><td>0</td><td>1</td><td>...</td><td>0</td>\n",
    "</tr>\n",
    "<tr>\n",
    "<td><b>Word 2 Count</b></td><td>0</td><td>0</td><td>...</td><td>0</td>\n",
    "</tr>\n",
    "<tr>\n",
    "<td><b>...</b></td> <td>1</td><td>2</td><td>...</td><td>0</td>\n",
    "</tr>\n",
    "<tr>\n",
    "<td><b>Word N Count</b></td> <td>0</td><td>1</td><td>...</td><td>1</td>\n",
    "</tr>\n",
    "</table>\n",
    "\n",
    "Since we have the population of all messages, we expect lots of different words to have been used, and therefore the matrix of tokens we would expect to be sparse."
   ]
  },
  {
   "cell_type": "code",
   "execution_count": 33,
   "metadata": {},
   "outputs": [
    {
     "name": "stdout",
     "output_type": "stream",
     "text": [
      "In total we have: 11,617 words in the matrix\n"
     ]
    }
   ],
   "source": [
    "from sklearn.feature_extraction.text import CountVectorizer\n",
    "# we will use the raw messages, and the clean_text function we defined above\n",
    "bag_of_words_transform = CountVectorizer(analyzer=clean_text).fit(sms_messages['message'])\n",
    "\n",
    "print(f'In total we have: {len(bag_of_words_transform.vocabulary_):,.0f} words in the matrix')"
   ]
  },
  {
   "cell_type": "markdown",
   "metadata": {},
   "source": [
    "Inspect how the transformer works using an example message..."
   ]
  },
  {
   "cell_type": "code",
   "execution_count": 34,
   "metadata": {},
   "outputs": [
    {
     "name": "stdout",
     "output_type": "stream",
     "text": [
      "Original message: Please don't text me anymore. I have nothing else to say. \n",
      " \n",
      "Vector representation of message: \n",
      "   (0, 2362)\t1\n",
      "  (0, 3356)\t1\n",
      "  (0, 4893)\t1\n",
      "  (0, 6315)\t1\n",
      "  (0, 6474)\t1\n",
      "  (0, 8672)\t1\n",
      "  (0, 9746)\t1\n",
      "  (0, 10570)\t1\n"
     ]
    }
   ],
   "source": [
    "orig_message = sms_messages['message'].iloc[100]\n",
    "\n",
    "print(f\"Original message: {orig_message} \\n \\n\"\n",
    "      f\"Vector representation of message: \\n {bag_of_words_transform.transform([orig_message])}\")"
   ]
  },
  {
   "cell_type": "markdown",
   "metadata": {},
   "source": [
    "Hence, we see all of the words in the (cleaned) text are unique, and there are 8 different words. If there are over 11,000 words in the overall vocabulary, we would expect a **sparse matrix** for the population of all messages."
   ]
  },
  {
   "cell_type": "code",
   "execution_count": 35,
   "metadata": {},
   "outputs": [
    {
     "name": "stdout",
     "output_type": "stream",
     "text": [
      "Shape of matrix of tokens: (5572, 11617)\n",
      "Non-zero occurences in matrix: 56,024\n",
      "Therefore, the matrix is 0.09 % full with non-zero values\n"
     ]
    }
   ],
   "source": [
    "bow_message_mtrx = bag_of_words_transform.transform(sms_messages['message'])\n",
    "\n",
    "print(f\"Shape of matrix of tokens: {bow_message_mtrx.shape:}\")\n",
    "print(f\"Non-zero occurences in matrix: {bow_message_mtrx.nnz :,.0f}\")\n",
    "\n",
    "print(f\"Therefore, the matrix is \"\n",
    "      f\"{100*(bow_message_mtrx.nnz/(bow_message_mtrx.shape[0]*bow_message_mtrx.shape[1])):.2f} % full with non-zero values\")"
   ]
  },
  {
   "cell_type": "markdown",
   "metadata": {},
   "source": [
    "## 7. Logistic Regression revisited\n",
    "Now that we have a different representation for the features of the messages, let's try the logistic regression model again for the messages, and see if the performance is different. We will still be taking the same sample of the messages, since we have set the `random_state` parameter in `train_test_split` to be 1."
   ]
  },
  {
   "cell_type": "code",
   "execution_count": 36,
   "metadata": {},
   "outputs": [],
   "source": [
    "messages_train, messages_test, new_y_train, new_y_test = train_test_split(\n",
    "    sms_messages['message'], y, \n",
    "    test_size=0.2, # 20% of the data will be used to test the model accuracy\n",
    "    random_state=1,\n",
    "    stratify=y) # stratify the data to keep the proportion of ham/spam messages consistent"
   ]
  },
  {
   "cell_type": "markdown",
   "metadata": {},
   "source": [
    "Again we will repeat the bag of words model to vectorize the sentences using the Count Vectorizer. Once we have done this, we create the feature vectors for each message of the training and test set."
   ]
  },
  {
   "cell_type": "code",
   "execution_count": 37,
   "metadata": {},
   "outputs": [],
   "source": [
    "# we will use the raw messages, and the clean_text function we defined above\n",
    "vectorizer = CountVectorizer(analyzer=clean_text).fit(messages_train)\n",
    "new_x_train = vectorizer.transform(messages_train)\n",
    "new_x_test = vectorizer.transform(messages_test)"
   ]
  },
  {
   "cell_type": "code",
   "execution_count": 38,
   "metadata": {},
   "outputs": [
    {
     "data": {
      "text/plain": [
       "<4457x10088 sparse matrix of type '<class 'numpy.int64'>'\n",
       "\twith 44590 stored elements in Compressed Sparse Row format>"
      ]
     },
     "execution_count": 38,
     "metadata": {},
     "output_type": "execute_result"
    }
   ],
   "source": [
    "new_x_train"
   ]
  },
  {
   "cell_type": "markdown",
   "metadata": {},
   "source": [
    "We have around 4,500 messages in the training set, with each message having over 10,000 dimensions, the size of the vocabulary.\n",
    "\n",
    "Now let's fit the new logistic regression model for the tokenized messages."
   ]
  },
  {
   "cell_type": "code",
   "execution_count": 39,
   "metadata": {},
   "outputs": [
    {
     "data": {
      "text/plain": [
       "LogisticRegression()"
      ]
     },
     "execution_count": 39,
     "metadata": {},
     "output_type": "execute_result"
    }
   ],
   "source": [
    "new_logistic_classifier = LogisticRegression()\n",
    "new_logistic_classifier.fit(new_x_train, new_y_train)"
   ]
  },
  {
   "cell_type": "markdown",
   "metadata": {},
   "source": [
    "#### Test set results\n",
    "Let's inspect the results of the test set"
   ]
  },
  {
   "cell_type": "code",
   "execution_count": 40,
   "metadata": {},
   "outputs": [
    {
     "name": "stdout",
     "output_type": "stream",
     "text": [
      "Accuracy score for the test set was 97.49% \n",
      " \n"
     ]
    }
   ],
   "source": [
    "new_x_test_logistic_pred = new_logistic_classifier.predict(new_x_test)\n",
    "new_x_test_logistic_accuracy = accuracy_score(y_true=new_y_test, \n",
    "                                              y_pred=new_x_test_logistic_pred)\n",
    "print(f\"Accuracy score for the test set was {100*new_x_test_logistic_accuracy:.2f}% \\n \")\n",
    "\n",
    "confusion_test_new_logistic = confusion_matrix(y_true=new_y_test, \n",
    "                                               y_pred=new_x_test_logistic_pred)"
   ]
  },
  {
   "cell_type": "code",
   "execution_count": 41,
   "metadata": {},
   "outputs": [
    {
     "name": "stdout",
     "output_type": "stream",
     "text": [
      "              precision    recall  f1-score   support\n",
      "\n",
      "           0       0.97      1.00      0.99       966\n",
      "           1       1.00      0.81      0.90       149\n",
      "\n",
      "    accuracy                           0.97      1115\n",
      "   macro avg       0.99      0.91      0.94      1115\n",
      "weighted avg       0.98      0.97      0.97      1115\n",
      "\n"
     ]
    },
    {
     "data": {
      "image/png": "[encoded data removed]",
      "text/plain": [
       "<Figure size 432x288 with 2 Axes>"
      ]
     },
     "metadata": {
      "needs_background": "light"
     },
     "output_type": "display_data"
    }
   ],
   "source": [
    "plot_confusion_matrix(confusion_test_new_logistic, labels=['not spam', 'spam'])\n",
    "print(classification_report(new_y_test, new_x_test_logistic_pred))"
   ]
  },
  {
   "cell_type": "markdown",
   "metadata": {},
   "source": [
    "Therefore, we see that using the **test set**:\n",
    "- Of 966 non-spam messages, **all** were classified as not spam, a 100% recall rate.\n",
    "- From a total of 149 spam messages, 121 were predicted correctly. The **recall for not spam was 81%**. \n",
    "\n",
    "Overall, the accuracy for the test set is good, at 97%. However, since we only have 149 observations that are spam, compared to 966 observations that are \n",
    "non-spam, and therefore the performance metrics in terms of precision, recall and f1-score are lower for the spam classifier."
   ]
  },
  {
   "cell_type": "markdown",
   "metadata": {},
   "source": [
    "#### Comparison of the two different logistic regression models"
   ]
  },
  {
   "cell_type": "markdown",
   "metadata": {},
   "source": [
    "The results of the previous logistic regression just using the features of the messages as message length, presence of website, number of words in each message, presence of phone numbers (etc.) yielded the following results:"
   ]
  },
  {
   "cell_type": "code",
   "execution_count": 42,
   "metadata": {},
   "outputs": [
    {
     "name": "stdout",
     "output_type": "stream",
     "text": [
      "******************************************************************************************\n",
      "Original logistic regression without vectorising and cleaning the messages: \n",
      "\n",
      "              precision    recall  f1-score   support\n",
      "\n",
      "           0       0.97      0.99      0.98       966\n",
      "           1       0.92      0.83      0.87       149\n",
      "\n",
      "    accuracy                           0.97      1115\n",
      "   macro avg       0.95      0.91      0.93      1115\n",
      "weighted avg       0.97      0.97      0.97      1115\n",
      "\n",
      "******************************************************************************************\n",
      "New logistic regression (after vectorisation and cleaning) the messages: \n",
      "\n",
      "              precision    recall  f1-score   support\n",
      "\n",
      "           0       0.97      1.00      0.99       966\n",
      "           1       1.00      0.81      0.90       149\n",
      "\n",
      "    accuracy                           0.97      1115\n",
      "   macro avg       0.99      0.91      0.94      1115\n",
      "weighted avg       0.98      0.97      0.97      1115\n",
      "\n"
     ]
    }
   ],
   "source": [
    "print(\"*\"*90)\n",
    "print(\"Original logistic regression without vectorising and cleaning the messages: \\n\")\n",
    "print(classification_report(y_test, x_test_logistic_pred))\n",
    "print(\"*\"*90)\n",
    "\n",
    "print(\"New logistic regression (after vectorisation and cleaning) the messages: \\n\")\n",
    "print(classification_report(y_test, new_x_test_logistic_pred))"
   ]
  },
  {
   "cell_type": "markdown",
   "metadata": {},
   "source": [
    "Therefore, we see that the accuracy of the two approaches is the same, with 97% performance in each instance.\n",
    "\n",
    "In the first (original) logistic regression (fewer features), the precision and recall are both very high, as well as the f1-score, which shows similarly high scores. This '0' category is for the non-spam messages.\n",
    "\n",
    "However, there is some variation in the classification of spam messages ('1' category). The **precision** for the second (vectorized messages) linear regression is 100%, meaning all of the messages that were predicted as spam were  spam. Whilst the first logistic regression found that of all messages predicted as spam, 91% of them were spam.\n",
    "Secondly, the recall is quite similar for both; the second logistic regression found that of all the spam messages, 81% were correctly predicted as spam, whilst in the first logistic regression, 83% of all spam messages were correctly predicted.\n"
   ]
  },
  {
   "cell_type": "markdown",
   "metadata": {},
   "source": [
    "# 8. Neural Network\n",
    "\n",
    "### Introduction\n",
    "First, let's cover a short introduction to neural networks... (from [realpython.com](https://realpython.com/python-keras-text-classification/)):\n",
    "\n",
    "> Neural networks, or sometimes called artificial neural network (ANN) or feedforward neural network, are computational networks which were vaguely inspired by the neural networks in the human brain. They consist of neurons (also called nodes) which are connected like in the graph below.\n",
    "\n",
    "> You start by having a layer of input neurons where you feed in your feature vectors and the values are then feeded forward to a hidden layer. At each connection, you are feeding the value forward, while the value is multiplied by a weight and a bias is added to the value. This happens at every connection and at the end you reach an output layer with one or more output nodes.\n",
    "\n",
    "> If you want to have a binary classification you can use one node, but if you have multiple categories you should use multiple nodes for each category:\n",
    "![img](https://files.realpython.com/media/ANN.a2284c5d07a3.png)"
   ]
  },
  {
   "cell_type": "markdown",
   "metadata": {},
   "source": [
    "The most complex part of the neural network is the calculation of the weights, as the feature vectors and values at each connection are subject to these weights, which ultimately determine the outcome of the network.\n",
    "\n",
    "In a neural network the algorithm starts by initialising the weights with random values and they are then trained using backpropagation (backprop). Backprop is done using optimisation methods such as gradient descent to reduce the error between the computed output (in this case whether the message is labeled ham or spam), and the desired output. The error is determined by a loss function, which we'd like to minimise."
   ]
  },
  {
   "cell_type": "markdown",
   "metadata": {},
   "source": [
    "### Keras\n",
    "We will use Keras for applying neural networks to our problem here, which is a library that can be used on top of popular Machine Learning library such as `TensorFlow` by Google.\n",
    "\n",
    "We will go ahead and construct a neural network for this problem."
   ]
  },
  {
   "cell_type": "code",
   "execution_count": 43,
   "metadata": {},
   "outputs": [],
   "source": [
    "# pip install keras # run this if you've not installed keras"
   ]
  },
  {
   "cell_type": "code",
   "execution_count": 46,
   "metadata": {},
   "outputs": [],
   "source": [
    "# pip install tensorflow==2.2.0"
   ]
  },
  {
   "cell_type": "code",
   "execution_count": 47,
   "metadata": {},
   "outputs": [
    {
     "name": "stdout",
     "output_type": "stream",
     "text": [
      "TensorFlow version: 2.2.0\n"
     ]
    }
   ],
   "source": [
    "import tensorflow as tf\n",
    "print(\"TensorFlow version:\", tf. __version__)"
   ]
  },
  {
   "cell_type": "code",
   "execution_count": 48,
   "metadata": {},
   "outputs": [
    {
     "name": "stdout",
     "output_type": "stream",
     "text": [
      "There are 10088 features going into the neural network model\n"
     ]
    }
   ],
   "source": [
    "from keras.models import Sequential\n",
    "from keras import layers\n",
    "\n",
    "input_dim = new_x_train.shape[1] \n",
    "print(f\"There are {input_dim} features going into the neural network model\")"
   ]
  },
  {
   "cell_type": "code",
   "execution_count": 49,
   "metadata": {},
   "outputs": [
    {
     "name": "stderr",
     "output_type": "stream",
     "text": [
      "2022-03-31 14:22:31.535860: I tensorflow/core/platform/cpu_feature_guard.cc:143] Your CPU supports instructions that this TensorFlow binary was not compiled to use: AVX2 FMA\n",
      "2022-03-31 14:22:31.556531: I tensorflow/compiler/xla/service/service.cc:168] XLA service 0x7fa0ff10a220 initialized for platform Host (this does not guarantee that XLA will be used). Devices:\n",
      "2022-03-31 14:22:31.556549: I tensorflow/compiler/xla/service/service.cc:176]   StreamExecutor device (0): Host, Default Version\n"
     ]
    }
   ],
   "source": [
    "nn_model_one = Sequential()\n",
    "nn_model_one.add(layers.Dense(10, input_dim=input_dim, activation='relu'))\n",
    "nn_model_one.add(layers.Dense(1, activation='sigmoid'))"
   ]
  },
  {
   "cell_type": "markdown",
   "metadata": {},
   "source": [
    "As shown above, for the input_dim parameter, we have specified the number of parameters, in this case there are over 10 000 rows of data going into the model. We specify that the first hidden layer has 10 nodes, and uses the **relu** activation function.\n",
    "The output layer then has one node and uses the **sigmoid** activation function.\n",
    "\n",
    "Before the model is trained, we need to configure the learning process using the compile method. Since we are trying to estimate if a message is ham or spam, we will use the **'binary_crossentropy'** for the loss function and the `Adam` optimiser (a stochastic gradient descent algorithm).\n",
    "We can then see what the model looks like"
   ]
  },
  {
   "cell_type": "code",
   "execution_count": 50,
   "metadata": {},
   "outputs": [
    {
     "name": "stdout",
     "output_type": "stream",
     "text": [
      "Model: \"sequential\"\n",
      "_________________________________________________________________\n",
      "Layer (type)                 Output Shape              Param #   \n",
      "=================================================================\n",
      "dense (Dense)                (None, 10)                100890    \n",
      "_________________________________________________________________\n",
      "dense_1 (Dense)              (None, 1)                 11        \n",
      "=================================================================\n",
      "Total params: 100,901\n",
      "Trainable params: 100,901\n",
      "Non-trainable params: 0\n",
      "_________________________________________________________________\n"
     ]
    }
   ],
   "source": [
    "nn_model_one.compile(loss='binary_crossentropy',\n",
    "                     optimizer='adam',\n",
    "                     metrics=['accuracy'])\n",
    "nn_model_one.summary()"
   ]
  },
  {
   "cell_type": "markdown",
   "metadata": {},
   "source": [
    "The intuitions of the above, are that there are 10,088 dimensions for each feature vector, and we've specified 10 nodes in the model. So, we need weights for each feature dimension, and each node accounts for 10,088 x 10 = 100 880 parameters, and we have another 10 times an added bias for each node.\n",
    "In the final node, there are 10 weights, and one bias, giving 11 parameters."
   ]
  },
  {
   "cell_type": "markdown",
   "metadata": {},
   "source": [
    "#### Parameters for the neural network: epochs and batch size"
   ]
  },
  {
   "cell_type": "markdown",
   "metadata": {},
   "source": [
    "Training in neural networks is iterative, so we specify the number of iterations for the model, called **epochs**.\n",
    "We will run the model for 10 epochs to start, and then can evaluate how the training loss and accuracy changes after each epoch."
   ]
  },
  {
   "cell_type": "markdown",
   "metadata": {},
   "source": [
    "`Batch size` is responsible for the number of samples to use in one epoch, that is how many sample are used in one forward/backward pass. It increases the speed of the computation as it needs fewer epochs to run, but also uses more memory. The training set is relatively small, so we can use a low batch size."
   ]
  },
  {
   "cell_type": "code",
   "execution_count": 51,
   "metadata": {},
   "outputs": [
    {
     "name": "stdout",
     "output_type": "stream",
     "text": [
      "Epoch 1/10\n",
      "WARNING:tensorflow:AutoGraph could not transform <function Model.make_train_function.<locals>.train_function at 0x7fa0e8b76560> and will run it as-is.\n",
      "Please report this to the TensorFlow team. When filing the bug, set the verbosity to 10 (on Linux, `export AUTOGRAPH_VERBOSITY=10`) and attach the full output.\n",
      "Cause: Bad argument number for Name: 4, expecting 3\n",
      "To silence this warning, decorate the function with @tf.autograph.experimental.do_not_convert\n",
      "WARNING: AutoGraph could not transform <function Model.make_train_function.<locals>.train_function at 0x7fa0e8b76560> and will run it as-is.\n",
      "Please report this to the TensorFlow team. When filing the bug, set the verbosity to 10 (on Linux, `export AUTOGRAPH_VERBOSITY=10`) and attach the full output.\n",
      "Cause: Bad argument number for Name: 4, expecting 3\n",
      "To silence this warning, decorate the function with @tf.autograph.experimental.do_not_convert\n",
      "390/446 [=========================>....] - ETA: 0s - loss: 0.3793 - accuracy: 0.9241WARNING:tensorflow:AutoGraph could not transform <function Model.make_test_function.<locals>.test_function at 0x7fa0e9c3d200> and will run it as-is.\n",
      "Please report this to the TensorFlow team. When filing the bug, set the verbosity to 10 (on Linux, `export AUTOGRAPH_VERBOSITY=10`) and attach the full output.\n",
      "Cause: Bad argument number for Name: 4, expecting 3\n",
      "To silence this warning, decorate the function with @tf.autograph.experimental.do_not_convert\n",
      "WARNING: AutoGraph could not transform <function Model.make_test_function.<locals>.test_function at 0x7fa0e9c3d200> and will run it as-is.\n",
      "Please report this to the TensorFlow team. When filing the bug, set the verbosity to 10 (on Linux, `export AUTOGRAPH_VERBOSITY=10`) and attach the full output.\n",
      "Cause: Bad argument number for Name: 4, expecting 3\n",
      "To silence this warning, decorate the function with @tf.autograph.experimental.do_not_convert\n",
      "446/446 [==============================] - 0s 1ms/step - loss: 0.3519 - accuracy: 0.9298 - val_loss: 0.1300 - val_accuracy: 0.9785\n",
      "Epoch 2/10\n",
      "446/446 [==============================] - 0s 931us/step - loss: 0.0764 - accuracy: 0.9870 - val_loss: 0.0643 - val_accuracy: 0.9848\n",
      "Epoch 3/10\n",
      "446/446 [==============================] - 0s 878us/step - loss: 0.0332 - accuracy: 0.9944 - val_loss: 0.0492 - val_accuracy: 0.9857\n",
      "Epoch 4/10\n",
      "446/446 [==============================] - 0s 933us/step - loss: 0.0186 - accuracy: 0.9971 - val_loss: 0.0461 - val_accuracy: 0.9857\n",
      "Epoch 5/10\n",
      "446/446 [==============================] - 0s 1ms/step - loss: 0.0114 - accuracy: 0.9975 - val_loss: 0.0443 - val_accuracy: 0.9865\n",
      "Epoch 6/10\n",
      "446/446 [==============================] - 0s 899us/step - loss: 0.0070 - accuracy: 0.9987 - val_loss: 0.0454 - val_accuracy: 0.9865\n",
      "Epoch 7/10\n",
      "446/446 [==============================] - 0s 983us/step - loss: 0.0047 - accuracy: 0.9991 - val_loss: 0.0455 - val_accuracy: 0.9865\n",
      "Epoch 8/10\n",
      "446/446 [==============================] - 0s 982us/step - loss: 0.0033 - accuracy: 0.9993 - val_loss: 0.0479 - val_accuracy: 0.9865\n",
      "Epoch 9/10\n",
      "446/446 [==============================] - 0s 879us/step - loss: 0.0025 - accuracy: 0.9993 - val_loss: 0.0471 - val_accuracy: 0.9865\n",
      "Epoch 10/10\n",
      "446/446 [==============================] - 0s 976us/step - loss: 0.0019 - accuracy: 0.9993 - val_loss: 0.0497 - val_accuracy: 0.9865\n"
     ]
    }
   ],
   "source": [
    "hist = nn_model_one.fit(new_x_train, new_y_train.values,\n",
    "                       epochs=10,\n",
    "                       verbose=True,\n",
    "                       validation_data=(new_x_test, new_y_test.values),\n",
    "                       batch_size=10)"
   ]
  },
  {
   "cell_type": "code",
   "execution_count": null,
   "metadata": {},
   "outputs": [],
   "source": [
    "# don't forget to run this if you want to train the model again!\n",
    "# from keras.backend import clear_session\n",
    "# clear_session()"
   ]
  },
  {
   "cell_type": "code",
   "execution_count": 52,
   "metadata": {},
   "outputs": [
    {
     "name": "stdout",
     "output_type": "stream",
     "text": [
      "140/140 [==============================] - 0s 713us/step - loss: 0.0016 - accuracy: 0.9996\n",
      "Training accuracy of: 99.96 %\n"
     ]
    }
   ],
   "source": [
    "loss, accuracy = nn_model_one.evaluate(new_x_train, new_y_train.values, verbose=True)\n",
    "print(f\"Training accuracy of: {100*accuracy:.2f} %\")"
   ]
  },
  {
   "cell_type": "markdown",
   "metadata": {},
   "source": [
    "The training accuracy is almost 100%! It looks like the model has overfitted the input data."
   ]
  },
  {
   "cell_type": "code",
   "execution_count": 53,
   "metadata": {},
   "outputs": [
    {
     "name": "stdout",
     "output_type": "stream",
     "text": [
      "35/35 [==============================] - 0s 881us/step - loss: 0.0497 - accuracy: 0.9865\n",
      "Testing accuracy of: 98.65 %\n"
     ]
    }
   ],
   "source": [
    "loss, accuracy = nn_model_one.evaluate(new_x_test, new_y_test.values, verbose=True)\n",
    "print(f\"Testing accuracy of: {100*accuracy:.2f} %\")"
   ]
  },
  {
   "cell_type": "markdown",
   "metadata": {},
   "source": [
    "The accuracy of the testing set at around 98% is definitely the best model to use, beating the two linear regression models previously used, and the decision tree model."
   ]
  },
  {
   "cell_type": "markdown",
   "metadata": {},
   "source": [
    "We use the helper method defined on [realpython.com](https://realpython.com/python-keras-text-classification/) to plot the accruacy and loss of the model.\n"
   ]
  },
  {
   "cell_type": "code",
   "execution_count": 54,
   "metadata": {},
   "outputs": [],
   "source": [
    "plt.style.use('ggplot')\n",
    "\n",
    "def plot_history(history):\n",
    "    acc = history.history['accuracy']\n",
    "    val_acc = history.history['val_accuracy']\n",
    "    loss = history.history['loss']\n",
    "    val_loss = history.history['val_loss']\n",
    "    x = range(1, len(acc) + 1)\n",
    "\n",
    "    plt.figure(figsize=(12, 5))\n",
    "    plt.subplot(1, 2, 1)\n",
    "    plt.plot(x, acc, 'b', label='Training acc')\n",
    "    plt.plot(x, val_acc, 'r', label='Validation acc')\n",
    "    plt.title('Training and validation accuracy')\n",
    "    plt.legend()\n",
    "    plt.subplot(1, 2, 2)\n",
    "    plt.plot(x, loss, 'b', label='Training loss')\n",
    "    plt.plot(x, val_loss, 'r', label='Validation loss')\n",
    "    plt.title('Training and validation loss')\n",
    "    plt.legend()"
   ]
  },
  {
   "cell_type": "code",
   "execution_count": 55,
   "metadata": {},
   "outputs": [
    {
     "data": {
      "image/png": "[encoded data removed]",
      "text/plain": [
       "<Figure size 864x360 with 2 Axes>"
      ]
     },
     "metadata": {},
     "output_type": "display_data"
    }
   ],
   "source": [
    "plot_history(history=hist)"
   ]
  },
  {
   "cell_type": "markdown",
   "metadata": {},
   "source": [
    "We can see from the above that the training accuracy reached almost 100% after just 6 epochs. We can see that the model was overfitting after 4 epochs as the validation loss starts rising again. This is usually a good indicator to stop the model."
   ]
  }
 ],
 "metadata": {
  "colab": {
   "collapsed_sections": [],
   "include_colab_link": true,
   "name": "Natural_Language_Processing.ipynb",
   "provenance": []
  },
  "kernelspec": {
   "display_name": "Python 3 (ipykernel)",
   "language": "python",
   "name": "python3"
  },
  "language_info": {
   "codemirror_mode": {
    "name": "ipython",
    "version": 3
   },
   "file_extension": ".py",
   "mimetype": "text/x-python",
   "name": "python",
   "nbconvert_exporter": "python",
   "pygments_lexer": "ipython3",
   "version": "3.7.9"
  },
  "toc": {
   "base_numbering": 1,
   "nav_menu": {},
   "number_sections": false,
   "sideBar": true,
   "skip_h1_title": false,
   "title_cell": "Table of Contents",
   "title_sidebar": "Contents",
   "toc_cell": true,
   "toc_position": {},
   "toc_section_display": true,
   "toc_window_display": true
  },
  "varInspector": {
   "cols": {
    "lenName": 16,
    "lenType": 16,
    "lenVar": 40
   },
   "kernels_config": {
    "python": {
     "delete_cmd_postfix": "",
     "delete_cmd_prefix": "del ",
     "library": "var_list.py",
     "varRefreshCmd": "print(var_dic_list())"
    },
    "r": {
     "delete_cmd_postfix": ") ",
     "delete_cmd_prefix": "rm(",
     "library": "var_list.r",
     "varRefreshCmd": "cat(var_dic_list()) "
    }
   },
   "types_to_exclude": [
    "module",
    "function",
    "builtin_function_or_method",
    "instance",
    "_Feature"
   ],
   "window_display": false
  }
 },
 "nbformat": 4,
 "nbformat_minor": 4
}
