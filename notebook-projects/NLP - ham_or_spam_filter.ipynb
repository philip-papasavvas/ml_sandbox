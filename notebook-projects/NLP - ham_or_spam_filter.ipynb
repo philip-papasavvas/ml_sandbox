{
  "nbformat": 4,
  "nbformat_minor": 0,
  "metadata": {
    "colab": {
      "name": "Natural_Language_Processing.ipynb",
      "provenance": [],
      "collapsed_sections": [],
      "include_colab_link": true
    },
    "kernelspec": {
      "name": "python3",
      "display_name": "Python 3"
    }
  },
  "cells": [
    {
      "cell_type": "markdown",
      "metadata": {
        "id": "view-in-github",
        "colab_type": "text"
      },
      "source": [
        "<a href=\"https://colab.research.google.com/github/philip-papasavvas/ml_sandbox/blob/main/Natural_Language_Processing.ipynb\" target=\"_parent\"><img src=\"https://colab.research.google.com/assets/colab-badge.svg\" alt=\"Open In Colab\"/></a>"
      ]
    },
    {
      "cell_type": "markdown",
      "metadata": {
        "id": "wJszQsbAYT2-"
      },
      "source": [
        "# **Natural Language Processing (NLP) with Python**"
      ]
    },
    {
      "cell_type": "markdown",
      "metadata": {
        "id": "ypEcI5tFYQru"
      },
      "source": [
        "Look at the basics of natural language processing with **nltk** package in python."
      ]
    },
    {
      "cell_type": "markdown",
      "metadata": {
        "id": "8VtngXTTB8Mw"
      },
      "source": [
        "## **Imports & installs**\n",
        "\n",
        "Install the packages needed..."
      ]
    },
    {
      "cell_type": "code",
      "metadata": {
        "id": "yqRhchmRfVtk",
        "colab": {
          "base_uri": "https://localhost:8080/"
        },
        "outputId": "4d4c78c7-6dab-4e44-d632-093741e052dd"
      },
      "source": [
        "pip install nltk"
      ],
      "execution_count": 1,
      "outputs": [
        {
          "output_type": "stream",
          "text": [
            "Requirement already satisfied: nltk in /usr/local/lib/python3.6/dist-packages (3.2.5)\n",
            "Requirement already satisfied: six in /usr/local/lib/python3.6/dist-packages (from nltk) (1.15.0)\n"
          ],
          "name": "stdout"
        }
      ]
    },
    {
      "cell_type": "markdown",
      "metadata": {
        "id": "cZr5U2DiB-rg"
      },
      "source": [
        "Import the modules needed..."
      ]
    },
    {
      "cell_type": "code",
      "metadata": {
        "id": "fb1UNEYAhCvY"
      },
      "source": [
        "import pandas as pd\n",
        "import numpy as np\n",
        "import string\n",
        "\n",
        "import matplotlib.pyplot as plt\n",
        "import seaborn as sns\n",
        "\n",
        "# text preprocessing\n",
        "import nltk\n",
        "from nltk.corpus import stopwords # common words\n",
        "\n",
        "%matplotlib inline"
      ],
      "execution_count": 73,
      "outputs": []
    },
    {
      "cell_type": "markdown",
      "metadata": {
        "id": "vgznqaN-CBOu"
      },
      "source": [
        "Download the nltk datasets."
      ]
    },
    {
      "cell_type": "code",
      "metadata": {
        "colab": {
          "base_uri": "https://localhost:8080/"
        },
        "id": "SnjhGMTbaPC9",
        "outputId": "f432283e-7794-4a08-bb21-df6f92bc9aab"
      },
      "source": [
        "nltk.download('all', quiet=True)"
      ],
      "execution_count": 53,
      "outputs": [
        {
          "output_type": "execute_result",
          "data": {
            "text/plain": [
              "True"
            ]
          },
          "metadata": {
            "tags": []
          },
          "execution_count": 53
        }
      ]
    },
    {
      "cell_type": "code",
      "metadata": {
        "id": "fAuyvw2mauQ5"
      },
      "source": [
        "# import the SMS text file\n",
        "sms_messages = pd.read_csv('https://raw.githubusercontent.com/philip-papasavvas/ml_sandbox/main/data/SMSSpamCollection.txt',\n",
        "                           sep='\\t',\n",
        "                           names=['label', 'message'])"
      ],
      "execution_count": 44,
      "outputs": []
    },
    {
      "cell_type": "code",
      "metadata": {
        "colab": {
          "base_uri": "https://localhost:8080/"
        },
        "id": "kPiTwm4tjv4f",
        "outputId": "bb7249f8-9e7d-4e1b-8fd3-82fb1bd813cb"
      },
      "source": [
        "# look at how many spam and non-spam (labelled 'ham' messages) there are\n",
        "print(f\"There are {len(sms_messages[sms_messages['label'] == 'ham'])} non-spam messages\")\n",
        "print(f\"There are {len(sms_messages[sms_messages['label'] != 'ham'])} spam messages\")"
      ],
      "execution_count": 47,
      "outputs": [
        {
          "output_type": "stream",
          "text": [
            "There are 4825 non-spam messages\n",
            "There are 747 spam messages\n"
          ],
          "name": "stdout"
        }
      ]
    },
    {
      "cell_type": "markdown",
      "metadata": {
        "id": "is0armGI_7Mp"
      },
      "source": [
        "# **Exploratory Data Analysis**"
      ]
    },
    {
      "cell_type": "markdown",
      "metadata": {
        "id": "b_rImZgPAG8j"
      },
      "source": [
        "Checkout the structure of the data"
      ]
    },
    {
      "cell_type": "code",
      "metadata": {
        "colab": {
          "base_uri": "https://localhost:8080/",
          "height": 175
        },
        "id": "YlMsazYf__fc",
        "outputId": "6849ee7a-3660-4716-db6e-7fc9eb1808de"
      },
      "source": [
        "sms_messages.describe()"
      ],
      "execution_count": 48,
      "outputs": [
        {
          "output_type": "execute_result",
          "data": {
            "text/html": [
              "<div>\n",
              "<style scoped>\n",
              "    .dataframe tbody tr th:only-of-type {\n",
              "        vertical-align: middle;\n",
              "    }\n",
              "\n",
              "    .dataframe tbody tr th {\n",
              "        vertical-align: top;\n",
              "    }\n",
              "\n",
              "    .dataframe thead th {\n",
              "        text-align: right;\n",
              "    }\n",
              "</style>\n",
              "<table border=\"1\" class=\"dataframe\">\n",
              "  <thead>\n",
              "    <tr style=\"text-align: right;\">\n",
              "      <th></th>\n",
              "      <th>label</th>\n",
              "      <th>message</th>\n",
              "    </tr>\n",
              "  </thead>\n",
              "  <tbody>\n",
              "    <tr>\n",
              "      <th>count</th>\n",
              "      <td>5572</td>\n",
              "      <td>5572</td>\n",
              "    </tr>\n",
              "    <tr>\n",
              "      <th>unique</th>\n",
              "      <td>2</td>\n",
              "      <td>5169</td>\n",
              "    </tr>\n",
              "    <tr>\n",
              "      <th>top</th>\n",
              "      <td>ham</td>\n",
              "      <td>Sorry, I'll call later</td>\n",
              "    </tr>\n",
              "    <tr>\n",
              "      <th>freq</th>\n",
              "      <td>4825</td>\n",
              "      <td>30</td>\n",
              "    </tr>\n",
              "  </tbody>\n",
              "</table>\n",
              "</div>"
            ],
            "text/plain": [
              "       label                 message\n",
              "count   5572                    5572\n",
              "unique     2                    5169\n",
              "top      ham  Sorry, I'll call later\n",
              "freq    4825                      30"
            ]
          },
          "metadata": {
            "tags": []
          },
          "execution_count": 48
        }
      ]
    },
    {
      "cell_type": "markdown",
      "metadata": {
        "id": "_6bnFdq6AJub"
      },
      "source": [
        "Group the data by the spam ('ham') and non-spam ('spam') labelled data, to unlock some insights about this data."
      ]
    },
    {
      "cell_type": "code",
      "metadata": {
        "colab": {
          "base_uri": "https://localhost:8080/",
          "height": 175
        },
        "id": "IcNsgRpwAB3X",
        "outputId": "fda2d8a4-131a-452c-f764-b7dc1514256b"
      },
      "source": [
        "sms_messages.groupby('label').describe()"
      ],
      "execution_count": 49,
      "outputs": [
        {
          "output_type": "execute_result",
          "data": {
            "text/html": [
              "<div>\n",
              "<style scoped>\n",
              "    .dataframe tbody tr th:only-of-type {\n",
              "        vertical-align: middle;\n",
              "    }\n",
              "\n",
              "    .dataframe tbody tr th {\n",
              "        vertical-align: top;\n",
              "    }\n",
              "\n",
              "    .dataframe thead tr th {\n",
              "        text-align: left;\n",
              "    }\n",
              "\n",
              "    .dataframe thead tr:last-of-type th {\n",
              "        text-align: right;\n",
              "    }\n",
              "</style>\n",
              "<table border=\"1\" class=\"dataframe\">\n",
              "  <thead>\n",
              "    <tr>\n",
              "      <th></th>\n",
              "      <th colspan=\"4\" halign=\"left\">message</th>\n",
              "    </tr>\n",
              "    <tr>\n",
              "      <th></th>\n",
              "      <th>count</th>\n",
              "      <th>unique</th>\n",
              "      <th>top</th>\n",
              "      <th>freq</th>\n",
              "    </tr>\n",
              "    <tr>\n",
              "      <th>label</th>\n",
              "      <th></th>\n",
              "      <th></th>\n",
              "      <th></th>\n",
              "      <th></th>\n",
              "    </tr>\n",
              "  </thead>\n",
              "  <tbody>\n",
              "    <tr>\n",
              "      <th>ham</th>\n",
              "      <td>4825</td>\n",
              "      <td>4516</td>\n",
              "      <td>Sorry, I'll call later</td>\n",
              "      <td>30</td>\n",
              "    </tr>\n",
              "    <tr>\n",
              "      <th>spam</th>\n",
              "      <td>747</td>\n",
              "      <td>653</td>\n",
              "      <td>Please call our customer service representativ...</td>\n",
              "      <td>4</td>\n",
              "    </tr>\n",
              "  </tbody>\n",
              "</table>\n",
              "</div>"
            ],
            "text/plain": [
              "      message                                                               \n",
              "        count unique                                                top freq\n",
              "label                                                                       \n",
              "ham      4825   4516                             Sorry, I'll call later   30\n",
              "spam      747    653  Please call our customer service representativ...    4"
            ]
          },
          "metadata": {
            "tags": []
          },
          "execution_count": 49
        }
      ]
    },
    {
      "cell_type": "markdown",
      "metadata": {
        "id": "GK5bz3GkAd_z"
      },
      "source": [
        "Think about which features we will use ahead of feature engineering. The more we know about the dataset we are looking at, the greater the ability to engineer more features from it.\n",
        "*Feature engineering is a large part of spam detection in general.*\n",
        "\n",
        "Make a new column to assess the length of the spam/non-spam messages."
      ]
    },
    {
      "cell_type": "code",
      "metadata": {
        "colab": {
          "base_uri": "https://localhost:8080/",
          "height": 206
        },
        "id": "QgsFSCfAAWRg",
        "outputId": "112a2463-5293-48f7-cfbd-c798f9ba43a3"
      },
      "source": [
        "sms_messages['length'] = sms_messages['message'].apply(len)\n",
        "\n",
        "sms_messages.head()"
      ],
      "execution_count": 52,
      "outputs": [
        {
          "output_type": "execute_result",
          "data": {
            "text/html": [
              "<div>\n",
              "<style scoped>\n",
              "    .dataframe tbody tr th:only-of-type {\n",
              "        vertical-align: middle;\n",
              "    }\n",
              "\n",
              "    .dataframe tbody tr th {\n",
              "        vertical-align: top;\n",
              "    }\n",
              "\n",
              "    .dataframe thead th {\n",
              "        text-align: right;\n",
              "    }\n",
              "</style>\n",
              "<table border=\"1\" class=\"dataframe\">\n",
              "  <thead>\n",
              "    <tr style=\"text-align: right;\">\n",
              "      <th></th>\n",
              "      <th>label</th>\n",
              "      <th>message</th>\n",
              "      <th>length</th>\n",
              "    </tr>\n",
              "  </thead>\n",
              "  <tbody>\n",
              "    <tr>\n",
              "      <th>0</th>\n",
              "      <td>ham</td>\n",
              "      <td>Go until jurong point, crazy.. Available only ...</td>\n",
              "      <td>111</td>\n",
              "    </tr>\n",
              "    <tr>\n",
              "      <th>1</th>\n",
              "      <td>ham</td>\n",
              "      <td>Ok lar... Joking wif u oni...</td>\n",
              "      <td>29</td>\n",
              "    </tr>\n",
              "    <tr>\n",
              "      <th>2</th>\n",
              "      <td>spam</td>\n",
              "      <td>Free entry in 2 a wkly comp to win FA Cup fina...</td>\n",
              "      <td>155</td>\n",
              "    </tr>\n",
              "    <tr>\n",
              "      <th>3</th>\n",
              "      <td>ham</td>\n",
              "      <td>U dun say so early hor... U c already then say...</td>\n",
              "      <td>49</td>\n",
              "    </tr>\n",
              "    <tr>\n",
              "      <th>4</th>\n",
              "      <td>ham</td>\n",
              "      <td>Nah I don't think he goes to usf, he lives aro...</td>\n",
              "      <td>61</td>\n",
              "    </tr>\n",
              "  </tbody>\n",
              "</table>\n",
              "</div>"
            ],
            "text/plain": [
              "  label                                            message  length\n",
              "0   ham  Go until jurong point, crazy.. Available only ...     111\n",
              "1   ham                      Ok lar... Joking wif u oni...      29\n",
              "2  spam  Free entry in 2 a wkly comp to win FA Cup fina...     155\n",
              "3   ham  U dun say so early hor... U c already then say...      49\n",
              "4   ham  Nah I don't think he goes to usf, he lives aro...      61"
            ]
          },
          "metadata": {
            "tags": []
          },
          "execution_count": 52
        }
      ]
    },
    {
      "cell_type": "markdown",
      "metadata": {
        "id": "lMuc1lEEBXsI"
      },
      "source": [
        "## **Data Visualisation**\n",
        "Let's look at the difference between the lengths of the spam/non-spam messages.\n"
      ]
    },
    {
      "cell_type": "code",
      "metadata": {
        "colab": {
          "base_uri": "https://localhost:8080/",
          "height": 395
        },
        "id": "IRzK0WOTAzS4",
        "outputId": "8b6a855d-c4ea-4f93-9b86-2f4eb664a834"
      },
      "source": [
        "sms_messages.hist(column='length',\n",
        "                  by='label',\n",
        "                  bins=50,\n",
        "                  figsize=(10,5),\n",
        "                  # cannot share the same axis as there are fewer spam messages\n",
        "                  # sharex=True, \n",
        "                  # sharey=True\n",
        "                  )"
      ],
      "execution_count": 63,
      "outputs": [
        {
          "output_type": "execute_result",
          "data": {
            "text/plain": [
              "array([<matplotlib.axes._subplots.AxesSubplot object at 0x7f1478c33b70>,\n",
              "       <matplotlib.axes._subplots.AxesSubplot object at 0x7f1478bfef28>],\n",
              "      dtype=object)"
            ]
          },
          "metadata": {
            "tags": []
          },
          "execution_count": 63
        },
        {
          "output_type": "display_data",
          "data": {
            "image/png": "[encoded data removed]",
            "text/plain": [
              "<Figure size 720x360 with 2 Axes>"
            ]
          },
          "metadata": {
            "tags": [],
            "needs_background": "light"
          }
        }
      ]
    },
    {
      "cell_type": "markdown",
      "metadata": {
        "id": "kNzv5SsvC96L"
      },
      "source": [
        "It looks like the length distribution of the non-spam and spam messages is quite different, with the spam messages generally being longer. However one must note that the scales of the above histogram are not the same between the two labels, so confirm this using the *describe* method"
      ]
    },
    {
      "cell_type": "code",
      "metadata": {
        "colab": {
          "base_uri": "https://localhost:8080/",
          "height": 115
        },
        "id": "SQ8rs6bmCda2",
        "outputId": "12e051ca-54c1-4ca1-b3d5-8e81d7a2363f"
      },
      "source": [
        "print(\"Non-spam messages, length statistics \\n\")\n",
        "sms_messages[sms_messages['label'] == 'ham'].describe().T"
      ],
      "execution_count": 71,
      "outputs": [
        {
          "output_type": "stream",
          "text": [
            "Non-spam messages, length statistics \n",
            "\n"
          ],
          "name": "stdout"
        },
        {
          "output_type": "execute_result",
          "data": {
            "text/html": [
              "<div>\n",
              "<style scoped>\n",
              "    .dataframe tbody tr th:only-of-type {\n",
              "        vertical-align: middle;\n",
              "    }\n",
              "\n",
              "    .dataframe tbody tr th {\n",
              "        vertical-align: top;\n",
              "    }\n",
              "\n",
              "    .dataframe thead th {\n",
              "        text-align: right;\n",
              "    }\n",
              "</style>\n",
              "<table border=\"1\" class=\"dataframe\">\n",
              "  <thead>\n",
              "    <tr style=\"text-align: right;\">\n",
              "      <th></th>\n",
              "      <th>count</th>\n",
              "      <th>mean</th>\n",
              "      <th>std</th>\n",
              "      <th>min</th>\n",
              "      <th>25%</th>\n",
              "      <th>50%</th>\n",
              "      <th>75%</th>\n",
              "      <th>max</th>\n",
              "    </tr>\n",
              "  </thead>\n",
              "  <tbody>\n",
              "    <tr>\n",
              "      <th>length</th>\n",
              "      <td>4825.0</td>\n",
              "      <td>71.482487</td>\n",
              "      <td>58.440652</td>\n",
              "      <td>2.0</td>\n",
              "      <td>33.0</td>\n",
              "      <td>52.0</td>\n",
              "      <td>93.0</td>\n",
              "      <td>910.0</td>\n",
              "    </tr>\n",
              "  </tbody>\n",
              "</table>\n",
              "</div>"
            ],
            "text/plain": [
              "         count       mean        std  min   25%   50%   75%    max\n",
              "length  4825.0  71.482487  58.440652  2.0  33.0  52.0  93.0  910.0"
            ]
          },
          "metadata": {
            "tags": []
          },
          "execution_count": 71
        }
      ]
    },
    {
      "cell_type": "code",
      "metadata": {
        "colab": {
          "base_uri": "https://localhost:8080/",
          "height": 115
        },
        "id": "XuBj0LOND0YV",
        "outputId": "1546d6da-c568-4fbb-aa4d-8283cc89240b"
      },
      "source": [
        "print(\"Spam messages, length statistics \\n\")\n",
        "sms_messages[sms_messages['label'] != 'ham'].describe().T"
      ],
      "execution_count": 70,
      "outputs": [
        {
          "output_type": "stream",
          "text": [
            "Spam messages, length statistics \n",
            "\n"
          ],
          "name": "stdout"
        },
        {
          "output_type": "execute_result",
          "data": {
            "text/html": [
              "<div>\n",
              "<style scoped>\n",
              "    .dataframe tbody tr th:only-of-type {\n",
              "        vertical-align: middle;\n",
              "    }\n",
              "\n",
              "    .dataframe tbody tr th {\n",
              "        vertical-align: top;\n",
              "    }\n",
              "\n",
              "    .dataframe thead th {\n",
              "        text-align: right;\n",
              "    }\n",
              "</style>\n",
              "<table border=\"1\" class=\"dataframe\">\n",
              "  <thead>\n",
              "    <tr style=\"text-align: right;\">\n",
              "      <th></th>\n",
              "      <th>count</th>\n",
              "      <th>mean</th>\n",
              "      <th>std</th>\n",
              "      <th>min</th>\n",
              "      <th>25%</th>\n",
              "      <th>50%</th>\n",
              "      <th>75%</th>\n",
              "      <th>max</th>\n",
              "    </tr>\n",
              "  </thead>\n",
              "  <tbody>\n",
              "    <tr>\n",
              "      <th>length</th>\n",
              "      <td>747.0</td>\n",
              "      <td>138.670683</td>\n",
              "      <td>28.873603</td>\n",
              "      <td>13.0</td>\n",
              "      <td>133.0</td>\n",
              "      <td>149.0</td>\n",
              "      <td>157.0</td>\n",
              "      <td>223.0</td>\n",
              "    </tr>\n",
              "  </tbody>\n",
              "</table>\n",
              "</div>"
            ],
            "text/plain": [
              "        count        mean        std   min    25%    50%    75%    max\n",
              "length  747.0  138.670683  28.873603  13.0  133.0  149.0  157.0  223.0"
            ]
          },
          "metadata": {
            "tags": []
          },
          "execution_count": 70
        }
      ]
    },
    {
      "cell_type": "markdown",
      "metadata": {
        "id": "Lem_3DI5D_Wr"
      },
      "source": [
        "## Data pre-processing\n",
        "With the data in it's current format, as text (a sequence of strings), it is not in the optimal format for a classification algorithm, a numerical feature vector.\n",
        "\n",
        "Therefore, we will clean the data, firstly of any punctuation, and then from any of the stopwords/very common words appearing in the English language (the, a, there, etc.). We will make a function to address the first issue, and then make use of the *corpus* package within ntlk to load the stopwords/common words that do not give a sentence meaning."
      ]
    },
    {
      "cell_type": "code",
      "metadata": {
        "id": "wMwrIH-ND4f0"
      },
      "source": [
        "# function to remove punctuation\n",
        "sample_text = \"This. is some sample! text with !punctuation in it.\"\n",
        "\n",
        "# this list comprehension will remove punctuation characters\n",
        "no_punc = [char for char in sample_text if char not in string.punctuation]\n",
        "no_punc = \"\".join(no_punc)\n",
        "\n",
        "# we can also remove punctuation using Regex too\n",
        "# import re\n",
        "# [re.sub(\"[^\\w\\s]\", \"\", x) for x in sample_text]"
      ],
      "execution_count": 87,
      "outputs": []
    },
    {
      "cell_type": "code",
      "metadata": {
        "colab": {
          "base_uri": "https://localhost:8080/",
          "height": 36
        },
        "id": "jFWgsYllIHcO",
        "outputId": "fe3ba8e6-b078-4053-81f1-83be8cfd165f"
      },
      "source": [
        "no_punc"
      ],
      "execution_count": 88,
      "outputs": [
        {
          "output_type": "execute_result",
          "data": {
            "application/vnd.google.colaboratory.intrinsic+json": {
              "type": "string"
            },
            "text/plain": [
              "'This is some sample text with punctuation in it'"
            ]
          },
          "metadata": {
            "tags": []
          },
          "execution_count": 88
        }
      ]
    },
    {
      "cell_type": "code",
      "metadata": {
        "colab": {
          "base_uri": "https://localhost:8080/"
        },
        "id": "qgrGH3qRIZk2",
        "outputId": "402ed3e8-191c-437d-a38b-82e8969cdf41"
      },
      "source": [
        "no_punc.split()"
      ],
      "execution_count": 89,
      "outputs": [
        {
          "output_type": "execute_result",
          "data": {
            "text/plain": [
              "['This', 'is', 'some', 'sample', 'text', 'with', 'punctuation', 'in', 'it']"
            ]
          },
          "metadata": {
            "tags": []
          },
          "execution_count": 89
        }
      ]
    },
    {
      "cell_type": "code",
      "metadata": {
        "colab": {
          "base_uri": "https://localhost:8080/"
        },
        "id": "B6edXvmjJBXn",
        "outputId": "4f471b6a-6956-449b-c282-2ffb472dd84a"
      },
      "source": [
        "# using re\n",
        "''.join([re.sub(\"[^\\w\\s]\", \"\", x) for x in sample_text]).split()"
      ],
      "execution_count": 93,
      "outputs": [
        {
          "output_type": "execute_result",
          "data": {
            "text/plain": [
              "['This', 'is', 'some', 'sample', 'text', 'with', 'punctuation', 'in', 'it']"
            ]
          },
          "metadata": {
            "tags": []
          },
          "execution_count": 93
        }
      ]
    },
    {
      "cell_type": "code",
      "metadata": {
        "colab": {
          "base_uri": "https://localhost:8080/"
        },
        "id": "vbIIQK79JgIq",
        "outputId": "8a8b65d9-ad4a-4e3e-f7c5-1ebc3c89b08a"
      },
      "source": [
        "# look at the stopwords too, take a sample of the first few\n",
        "stopwords.words('english')[:5]"
      ],
      "execution_count": 96,
      "outputs": [
        {
          "output_type": "execute_result",
          "data": {
            "text/plain": [
              "['i', 'me', 'my', 'myself', 'we']"
            ]
          },
          "metadata": {
            "tags": []
          },
          "execution_count": 96
        }
      ]
    },
    {
      "cell_type": "code",
      "metadata": {
        "colab": {
          "base_uri": "https://localhost:8080/",
          "height": 36
        },
        "id": "VJnqqV_Mbe2Q",
        "outputId": "e71a4851-f9fe-486c-ac3e-813bc4ddc7a5"
      },
      "source": [
        "# remove stopwords from a phrase\n",
        "example_phrase = 'woooh this is me myself and I This has stopwords'\n",
        "\" \".join([x for x in example_phrase.split() if x not in stopwords.words('english')])"
      ],
      "execution_count": 103,
      "outputs": [
        {
          "output_type": "execute_result",
          "data": {
            "application/vnd.google.colaboratory.intrinsic+json": {
              "type": "string"
            },
            "text/plain": [
              "'woooh I This stopwords'"
            ]
          },
          "metadata": {
            "tags": []
          },
          "execution_count": 103
        }
      ]
    },
    {
      "cell_type": "markdown",
      "metadata": {
        "id": "glTUNrEOL-3R"
      },
      "source": [
        "Now we're in a position to clean text in the following way:\n",
        "\n",
        "\n",
        "* Remove punctuation\n",
        "* Remove stopwords\n",
        "* Return a list of cleaned words \n",
        "\n"
      ]
    },
    {
      "cell_type": "code",
      "metadata": {
        "id": "IvOM5qMIL-Qf"
      },
      "source": [
        "def clean_text(txt: str) -> list:\n",
        "  \"\"\"Method to clean input text (list)\"\"\"\n",
        "  # remove punctuation from the list\n",
        "  no_punc = [char for char in txt if char not in string.punctuation]\n",
        "  \n",
        "  # join the chaaracters with no punctuation to get the original words\n",
        "  no_punc = \"\".join(no_punc)\n",
        "\n",
        "  # remove stopwords\n",
        "  return [word for word in no_punc.split() if \n",
        "          word not in stopwords.words('english')]\n",
        "        "
      ],
      "execution_count": 107,
      "outputs": []
    },
    {
      "cell_type": "code",
      "metadata": {
        "colab": {
          "base_uri": "https://localhost:8080/"
        },
        "id": "CheJbqdlcTaj",
        "outputId": "4dc9327b-0340-4672-848b-fb5598f6c763"
      },
      "source": [
        "# example of clean_text method\n",
        "clean_text(txt='This is! a clean. text example. Please remove stopwords')"
      ],
      "execution_count": 111,
      "outputs": [
        {
          "output_type": "execute_result",
          "data": {
            "text/plain": [
              "['This', 'clean', 'text', 'example', 'Please', 'remove', 'stopwords']"
            ]
          },
          "metadata": {
            "tags": []
          },
          "execution_count": 111
        }
      ]
    },
    {
      "cell_type": "code",
      "metadata": {
        "colab": {
          "base_uri": "https://localhost:8080/"
        },
        "id": "aXkigH9lLzQx",
        "outputId": "523d3d37-0d29-4aa0-a061-9d6b5b390e02"
      },
      "source": [
        "sms_messages['message'].head(5).apply(clean_text)"
      ],
      "execution_count": 110,
      "outputs": [
        {
          "output_type": "execute_result",
          "data": {
            "text/plain": [
              "0    [Go, jurong, point, crazy, Available, bugis, n...\n",
              "1                       [Ok, lar, Joking, wif, u, oni]\n",
              "2    [Free, entry, 2, wkly, comp, win, FA, Cup, fin...\n",
              "3        [U, dun, say, early, hor, U, c, already, say]\n",
              "4    [Nah, I, dont, think, goes, usf, lives, around...\n",
              "Name: message, dtype: object"
            ]
          },
          "metadata": {
            "tags": []
          },
          "execution_count": 110
        }
      ]
    },
    {
      "cell_type": "markdown",
      "metadata": {
        "id": "jhQ6eyoxcnp1"
      },
      "source": [
        "Let's compare the cleaned text to the orignal DataFrame:"
      ]
    },
    {
      "cell_type": "code",
      "metadata": {
        "colab": {
          "base_uri": "https://localhost:8080/"
        },
        "id": "rK3eex7rQGTh",
        "outputId": "e162d7a5-a05d-42eb-ec59-ee4b6bf0e28b"
      },
      "source": [
        "sms_messages['message'].head(5)"
      ],
      "execution_count": 112,
      "outputs": [
        {
          "output_type": "execute_result",
          "data": {
            "text/plain": [
              "0    Go until jurong point, crazy.. Available only ...\n",
              "1                        Ok lar... Joking wif u oni...\n",
              "2    Free entry in 2 a wkly comp to win FA Cup fina...\n",
              "3    U dun say so early hor... U c already then say...\n",
              "4    Nah I don't think he goes to usf, he lives aro...\n",
              "Name: message, dtype: object"
            ]
          },
          "metadata": {
            "tags": []
          },
          "execution_count": 112
        }
      ]
    },
    {
      "cell_type": "markdown",
      "metadata": {
        "id": "aeSJnooZcu6E"
      },
      "source": [
        "## Tokenization\n",
        "Now we want to **tokenize** the messages. That is the term given to converting the original text strings into a list of tokens (these are words that are meaningful, having removed the stopwords and punctuation)."
      ]
    },
    {
      "cell_type": "markdown",
      "metadata": {
        "id": "sWVWx459dEOc"
      },
      "source": [
        "## Normalisation\n",
        "There are methods in which the text can be normalised, one example is **stemming**. This is the process of reducing a word to its word stem/root forms. A stem/root form of a word is the part of the word to which you add another part (inflectional affixes, such as -ed, -ize, -s, etc). Stems are created when the suffixes/prefixes are removed from the word.\n",
        "\n",
        "We need to convert our list of words into a vector that can be used by scikit-learn."
      ]
    },
    {
      "cell_type": "code",
      "metadata": {
        "id": "r-z5PFKRdAk0"
      },
      "source": [
        ""
      ],
      "execution_count": null,
      "outputs": []
    }
  ]
}