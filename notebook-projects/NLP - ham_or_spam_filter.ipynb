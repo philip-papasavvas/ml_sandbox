{
 "cells": [
  {
   "cell_type": "markdown",
   "metadata": {
    "colab_type": "text",
    "id": "view-in-github"
   },
   "source": [
    "<a href=\"https://colab.research.google.com/github/philip-papasavvas/ml_sandbox/blob/main/Natural_Language_Processing.ipynb\" target=\"_parent\"><img src=\"https://colab.research.google.com/assets/colab-badge.svg\" alt=\"Open In Colab\"/></a>"
   ]
  },
  {
   "cell_type": "markdown",
   "metadata": {
    "id": "wJszQsbAYT2-"
   },
   "source": [
    "# **Natural Language Processing (NLP) Project using the SMS Spam dataset**"
   ]
  },
  {
   "cell_type": "markdown",
   "metadata": {
    "id": "ypEcI5tFYQru"
   },
   "source": [
    "The following project will look at applying machine learning techniques, specifically for a natural language processing problem. The problem will focus on using SMS message data, curated from the UCI Machine Learning repository. The dataset contains almost 5,600 text messages in English, and are labelled with either ham (the text is not spam), or spam.\n",
    "\n",
    "In this project we will explore concept such as: \n",
    "* **Lemmaisation**: this involves converting each word into its base form, for example by removing its ending. Converting the word running to run is an example of lemmaisation.\n",
    "* **Bag of words**: This approach uses a collection of words to represent a sentence, taking account of the number of occurences of each word.\n",
    "\n",
    "The data used in this project can be found here:\n",
    "* https://archive.ics.uci.edu/ml/datasets/sms+spam+collection\n",
    "\n",
    "This workbook will have the following outline:\n",
    "1. **Exploratory Data Analysis**\n",
    "2. **Data pre-processing & cleaning**\n",
    "3. **Overview of feature selection methods**\n",
    "4. **Lemmaisation**\n",
    "4. **Testing the different models**"
   ]
  },
  {
   "cell_type": "markdown",
   "metadata": {
    "id": "8VtngXTTB8Mw"
   },
   "source": [
    "## 1. Exploratory Data Analysis\n",
    "First, import the modules needed and load the data. Then, explore the statistics of the underlying data, such as the split between spam/non-spam (ham) messages and the length of the messages."
   ]
  },
  {
   "cell_type": "code",
   "execution_count": 134,
   "metadata": {
    "id": "fb1UNEYAhCvY"
   },
   "outputs": [],
   "source": [
    "import pandas as pd\n",
    "import numpy as np\n",
    "import string\n",
    "\n",
    "import matplotlib.pyplot as plt\n",
    "import seaborn as sns\n",
    "sns.set() # set seaborn as default style even if we use matplotlib\n",
    "\n",
    "# text preprocessing\n",
    "import nltk\n",
    "\n",
    "%matplotlib inline"
   ]
  },
  {
   "cell_type": "code",
   "execution_count": 70,
   "metadata": {
    "id": "fAuyvw2mauQ5"
   },
   "outputs": [],
   "source": [
    "# import the SMS text file\n",
    "sms_messages = pd.read_csv(\n",
    "    'https://raw.githubusercontent.com/philip-papasavvas/ml_sandbox/main/data/SMSSpamCollection.txt',\n",
    "    sep='\\t', names=['label', 'message'])"
   ]
  },
  {
   "cell_type": "code",
   "execution_count": 71,
   "metadata": {
    "colab": {
     "base_uri": "https://localhost:8080/"
    },
    "id": "kPiTwm4tjv4f",
    "outputId": "bb7249f8-9e7d-4e1b-8fd3-82fb1bd813cb"
   },
   "outputs": [
    {
     "name": "stdout",
     "output_type": "stream",
     "text": [
      "4825 non-spam messages \n",
      "747 spam messages\n"
     ]
    }
   ],
   "source": [
    "print(f\"{len(sms_messages[sms_messages['label'] == 'ham'])} non-spam messages \\n\"\n",
    "      f\"{len(sms_messages[sms_messages['label'] != 'ham'])} spam messages\")"
   ]
  },
  {
   "cell_type": "markdown",
   "metadata": {
    "id": "is0armGI_7Mp"
   },
   "source": [
    "We can see that there are considerably more non-spam than spam messages. We need to ensure that later on, when training the model we adjust the sample to have a 50% split between spam/non-spam to train the model."
   ]
  },
  {
   "cell_type": "code",
   "execution_count": 72,
   "metadata": {},
   "outputs": [
    {
     "data": {
      "text/html": [
       "<div>\n",
       "<style scoped>\n",
       "    .dataframe tbody tr th:only-of-type {\n",
       "        vertical-align: middle;\n",
       "    }\n",
       "\n",
       "    .dataframe tbody tr th {\n",
       "        vertical-align: top;\n",
       "    }\n",
       "\n",
       "    .dataframe thead th {\n",
       "        text-align: right;\n",
       "    }\n",
       "</style>\n",
       "<table border=\"1\" class=\"dataframe\">\n",
       "  <thead>\n",
       "    <tr style=\"text-align: right;\">\n",
       "      <th></th>\n",
       "      <th>label</th>\n",
       "      <th>message</th>\n",
       "    </tr>\n",
       "  </thead>\n",
       "  <tbody>\n",
       "    <tr>\n",
       "      <th>0</th>\n",
       "      <td>ham</td>\n",
       "      <td>Go until jurong point, crazy.. Available only ...</td>\n",
       "    </tr>\n",
       "    <tr>\n",
       "      <th>1</th>\n",
       "      <td>ham</td>\n",
       "      <td>Ok lar... Joking wif u oni...</td>\n",
       "    </tr>\n",
       "    <tr>\n",
       "      <th>2</th>\n",
       "      <td>spam</td>\n",
       "      <td>Free entry in 2 a wkly comp to win FA Cup fina...</td>\n",
       "    </tr>\n",
       "    <tr>\n",
       "      <th>3</th>\n",
       "      <td>ham</td>\n",
       "      <td>U dun say so early hor... U c already then say...</td>\n",
       "    </tr>\n",
       "    <tr>\n",
       "      <th>4</th>\n",
       "      <td>ham</td>\n",
       "      <td>Nah I don't think he goes to usf, he lives aro...</td>\n",
       "    </tr>\n",
       "  </tbody>\n",
       "</table>\n",
       "</div>"
      ],
      "text/plain": [
       "  label                                            message\n",
       "0   ham  Go until jurong point, crazy.. Available only ...\n",
       "1   ham                      Ok lar... Joking wif u oni...\n",
       "2  spam  Free entry in 2 a wkly comp to win FA Cup fina...\n",
       "3   ham  U dun say so early hor... U c already then say...\n",
       "4   ham  Nah I don't think he goes to usf, he lives aro..."
      ]
     },
     "execution_count": 72,
     "metadata": {},
     "output_type": "execute_result"
    }
   ],
   "source": [
    "sms_messages.head()"
   ]
  },
  {
   "cell_type": "markdown",
   "metadata": {
    "id": "b_rImZgPAG8j"
   },
   "source": [
    "Having inspected the dataset, it would be useful to add some more features to the data, such as the **length** of each message and the **number of words**. It's important that we understand the data well, to have the ability to add more features. This will enable us to carry out feature engineering more effectively. This is extremely important in the field of natural language processing (and spam classification), where feature engineering is one of the most important parts of the process."
   ]
  },
  {
   "cell_type": "code",
   "execution_count": 73,
   "metadata": {},
   "outputs": [],
   "source": [
    "sms_messages['length'] = sms_messages['message'].apply(len)\n",
    "sms_messages['word_count'] = [len(x.split()) for x in sms_messages[\"message\"]]"
   ]
  },
  {
   "cell_type": "code",
   "execution_count": 74,
   "metadata": {
    "colab": {
     "base_uri": "https://localhost:8080/",
     "height": 175
    },
    "id": "IcNsgRpwAB3X",
    "outputId": "fda2d8a4-131a-452c-f764-b7dc1514256b"
   },
   "outputs": [
    {
     "data": {
      "text/html": [
       "<div>\n",
       "<style scoped>\n",
       "    .dataframe tbody tr th:only-of-type {\n",
       "        vertical-align: middle;\n",
       "    }\n",
       "\n",
       "    .dataframe tbody tr th {\n",
       "        vertical-align: top;\n",
       "    }\n",
       "\n",
       "    .dataframe thead tr th {\n",
       "        text-align: left;\n",
       "    }\n",
       "\n",
       "    .dataframe thead tr:last-of-type th {\n",
       "        text-align: right;\n",
       "    }\n",
       "</style>\n",
       "<table border=\"1\" class=\"dataframe\">\n",
       "  <thead>\n",
       "    <tr>\n",
       "      <th></th>\n",
       "      <th colspan=\"8\" halign=\"left\">length</th>\n",
       "      <th colspan=\"8\" halign=\"left\">word_count</th>\n",
       "    </tr>\n",
       "    <tr>\n",
       "      <th></th>\n",
       "      <th>count</th>\n",
       "      <th>mean</th>\n",
       "      <th>std</th>\n",
       "      <th>min</th>\n",
       "      <th>25%</th>\n",
       "      <th>50%</th>\n",
       "      <th>75%</th>\n",
       "      <th>max</th>\n",
       "      <th>count</th>\n",
       "      <th>mean</th>\n",
       "      <th>std</th>\n",
       "      <th>min</th>\n",
       "      <th>25%</th>\n",
       "      <th>50%</th>\n",
       "      <th>75%</th>\n",
       "      <th>max</th>\n",
       "    </tr>\n",
       "    <tr>\n",
       "      <th>label</th>\n",
       "      <th></th>\n",
       "      <th></th>\n",
       "      <th></th>\n",
       "      <th></th>\n",
       "      <th></th>\n",
       "      <th></th>\n",
       "      <th></th>\n",
       "      <th></th>\n",
       "      <th></th>\n",
       "      <th></th>\n",
       "      <th></th>\n",
       "      <th></th>\n",
       "      <th></th>\n",
       "      <th></th>\n",
       "      <th></th>\n",
       "      <th></th>\n",
       "    </tr>\n",
       "  </thead>\n",
       "  <tbody>\n",
       "    <tr>\n",
       "      <th>ham</th>\n",
       "      <td>4825.0</td>\n",
       "      <td>71.482487</td>\n",
       "      <td>58.440652</td>\n",
       "      <td>2.0</td>\n",
       "      <td>33.0</td>\n",
       "      <td>52.0</td>\n",
       "      <td>93.0</td>\n",
       "      <td>910.0</td>\n",
       "      <td>4825.0</td>\n",
       "      <td>14.310259</td>\n",
       "      <td>11.517945</td>\n",
       "      <td>1.0</td>\n",
       "      <td>7.0</td>\n",
       "      <td>11.0</td>\n",
       "      <td>19.0</td>\n",
       "      <td>171.0</td>\n",
       "    </tr>\n",
       "    <tr>\n",
       "      <th>spam</th>\n",
       "      <td>747.0</td>\n",
       "      <td>138.670683</td>\n",
       "      <td>28.873603</td>\n",
       "      <td>13.0</td>\n",
       "      <td>133.0</td>\n",
       "      <td>149.0</td>\n",
       "      <td>157.0</td>\n",
       "      <td>223.0</td>\n",
       "      <td>747.0</td>\n",
       "      <td>23.911647</td>\n",
       "      <td>5.780174</td>\n",
       "      <td>2.0</td>\n",
       "      <td>22.0</td>\n",
       "      <td>25.0</td>\n",
       "      <td>28.0</td>\n",
       "      <td>35.0</td>\n",
       "    </tr>\n",
       "  </tbody>\n",
       "</table>\n",
       "</div>"
      ],
      "text/plain": [
       "       length                                                           \\\n",
       "        count        mean        std   min    25%    50%    75%    max   \n",
       "label                                                                    \n",
       "ham    4825.0   71.482487  58.440652   2.0   33.0   52.0   93.0  910.0   \n",
       "spam    747.0  138.670683  28.873603  13.0  133.0  149.0  157.0  223.0   \n",
       "\n",
       "      word_count                                                      \n",
       "           count       mean        std  min   25%   50%   75%    max  \n",
       "label                                                                 \n",
       "ham       4825.0  14.310259  11.517945  1.0   7.0  11.0  19.0  171.0  \n",
       "spam       747.0  23.911647   5.780174  2.0  22.0  25.0  28.0   35.0  "
      ]
     },
     "execution_count": 74,
     "metadata": {},
     "output_type": "execute_result"
    }
   ],
   "source": [
    "sms_messages.groupby('label').describe()"
   ]
  },
  {
   "cell_type": "markdown",
   "metadata": {},
   "source": [
    "Add in a histogram for the length, and word count, split by spam and non-spam."
   ]
  },
  {
   "cell_type": "code",
   "execution_count": 82,
   "metadata": {},
   "outputs": [
    {
     "data": {
      "image/png": "[encoded data removed]",
      "text/plain": [
       "<Figure size 720x360 with 2 Axes>"
      ]
     },
     "metadata": {
      "needs_background": "light"
     },
     "output_type": "display_data"
    }
   ],
   "source": [
    "hist_plt = sms_messages.hist(column='word_count', by='label', figsize=(10,5), bins=25)\n"
   ]
  },
  {
   "cell_type": "markdown",
   "metadata": {},
   "source": [
    "### Inspecting the word_count and length of the messages"
   ]
  },
  {
   "cell_type": "code",
   "execution_count": 126,
   "metadata": {},
   "outputs": [
    {
     "data": {
      "image/png": "[encoded data removed]",
      "text/plain": [
       "<Figure size 576x432 with 2 Axes>"
      ]
     },
     "metadata": {
      "needs_background": "light"
     },
     "output_type": "display_data"
    }
   ],
   "source": [
    "fig = plt.figure(figsize=(8,6))\n",
    "\n",
    "ax1 = fig.add_subplot(121)\n",
    "ax1.set_title(\"Word count of messages by type\")\n",
    "g = sns.catplot(data=sms_messages, y='word_count', x='label',\n",
    "           kind='violin', split=True, ax=ax1)\n",
    "\n",
    "ax2 = fig.add_subplot(122)\n",
    "ax2.set_title(\"Length of messages by type\")\n",
    "g = sns.catplot(data=sms_messages, x='label', y='length',\n",
    "                kind='violin', split=True, ax=ax2)\n",
    "\n",
    "plt.close(2)\n",
    "plt.close(3)"
   ]
  },
  {
   "cell_type": "markdown",
   "metadata": {},
   "source": [
    "Therefore, from the above, for:\n",
    "- word_count: non-spam messages have many fewer words than the spam messages. On average the non-spam messages contain around 10 words, with the spam messaged containing around 25 words. The dispersion between the non-spam messages is much larger than the spam messages, with an outlier of almost 200 words in a message!\n",
    "- length: spam messages tend to be much longer, whilst the ham messages are much shorter. Again, the dispersion of the data for the non-spam is much greater than the spam messages."
   ]
  },
  {
   "cell_type": "markdown",
   "metadata": {
    "id": "kNzv5SsvC96L"
   },
   "source": [
    "We cna also confirm the above intuitions using the *describe* method. Let's demonstrate this for the non-spam messages"
   ]
  },
  {
   "cell_type": "code",
   "execution_count": 123,
   "metadata": {
    "colab": {
     "base_uri": "https://localhost:8080/",
     "height": 115
    },
    "id": "SQ8rs6bmCda2",
    "outputId": "12e051ca-54c1-4ca1-b3d5-8e81d7a2363f"
   },
   "outputs": [
    {
     "name": "stdout",
     "output_type": "stream",
     "text": [
      "Non-spam messages, length statistics \n",
      "\n"
     ]
    },
    {
     "data": {
      "text/html": [
       "<div>\n",
       "<style scoped>\n",
       "    .dataframe tbody tr th:only-of-type {\n",
       "        vertical-align: middle;\n",
       "    }\n",
       "\n",
       "    .dataframe tbody tr th {\n",
       "        vertical-align: top;\n",
       "    }\n",
       "\n",
       "    .dataframe thead th {\n",
       "        text-align: right;\n",
       "    }\n",
       "</style>\n",
       "<table border=\"1\" class=\"dataframe\">\n",
       "  <thead>\n",
       "    <tr style=\"text-align: right;\">\n",
       "      <th></th>\n",
       "      <th>count</th>\n",
       "      <th>mean</th>\n",
       "      <th>std</th>\n",
       "      <th>min</th>\n",
       "      <th>25%</th>\n",
       "      <th>50%</th>\n",
       "      <th>75%</th>\n",
       "      <th>max</th>\n",
       "    </tr>\n",
       "  </thead>\n",
       "  <tbody>\n",
       "    <tr>\n",
       "      <th>length</th>\n",
       "      <td>4825.0</td>\n",
       "      <td>71.482487</td>\n",
       "      <td>58.440652</td>\n",
       "      <td>2.0</td>\n",
       "      <td>33.0</td>\n",
       "      <td>52.0</td>\n",
       "      <td>93.0</td>\n",
       "      <td>910.0</td>\n",
       "    </tr>\n",
       "    <tr>\n",
       "      <th>word_count</th>\n",
       "      <td>4825.0</td>\n",
       "      <td>14.310259</td>\n",
       "      <td>11.517945</td>\n",
       "      <td>1.0</td>\n",
       "      <td>7.0</td>\n",
       "      <td>11.0</td>\n",
       "      <td>19.0</td>\n",
       "      <td>171.0</td>\n",
       "    </tr>\n",
       "  </tbody>\n",
       "</table>\n",
       "</div>"
      ],
      "text/plain": [
       "             count       mean        std  min   25%   50%   75%    max\n",
       "length      4825.0  71.482487  58.440652  2.0  33.0  52.0  93.0  910.0\n",
       "word_count  4825.0  14.310259  11.517945  1.0   7.0  11.0  19.0  171.0"
      ]
     },
     "execution_count": 123,
     "metadata": {},
     "output_type": "execute_result"
    }
   ],
   "source": [
    "print(\"Non-spam messages, length statistics \\n\")\n",
    "sms_messages[sms_messages['label'] == 'ham'].describe().T"
   ]
  },
  {
   "cell_type": "markdown",
   "metadata": {
    "id": "Lem_3DI5D_Wr"
   },
   "source": [
    "## 2. Data pre-processing\n",
    "The data consists of many different text as a sequence of strings, whilst there might be some words in the overall dataset that share the same meaning, for example 'running' and 'run'. The underlying meaning of these words is the same, and we will use this fact later in a process called **lemmaisation** to reduce the overall number of words in the population of all the SMS messages.\n",
    "\n",
    "Furthermore, machine learning algorithms in general are optimised for use with vectors, so we will extract the features from these messages into a series of numerical feature vectors. To start with, let's inspect a couple of the texts and see what pre-processing we should perform on the data."
   ]
  },
  {
   "cell_type": "code",
   "execution_count": 129,
   "metadata": {},
   "outputs": [
    {
     "data": {
      "text/plain": [
       "\"I'm gonna be home soon and i don't want to talk about this stuff anymore tonight, k? I've cried enough today.\""
      ]
     },
     "execution_count": 129,
     "metadata": {},
     "output_type": "execute_result"
    }
   ],
   "source": [
    "sms_messages['message'][10]"
   ]
  },
  {
   "cell_type": "code",
   "execution_count": 133,
   "metadata": {},
   "outputs": [
    {
     "data": {
      "text/plain": [
       "2     Free entry in 2 a wkly comp to win FA Cup fina...\n",
       "5     FreeMsg Hey there darling it's been 3 week's n...\n",
       "8     WINNER!! As a valued network customer you have...\n",
       "9     Had your mobile 11 months or more? U R entitle...\n",
       "11    SIX chances to win CASH! From 100 to 20,000 po...\n",
       "Name: message, dtype: object"
      ]
     },
     "execution_count": 133,
     "metadata": {},
     "output_type": "execute_result"
    }
   ],
   "source": [
    "sms_messages.loc[sms_messages['label'] == 'spam', 'message'].head()"
   ]
  },
  {
   "cell_type": "markdown",
   "metadata": {},
   "source": [
    "It's quite cleaer that punctuation doesn't give us too much insight into whether a message is spam or not, and common words (the, a, there, etc.) appearing in the English language (stopwords) do not give much away regarding if the messages are spam or not. Furthemore, we will convert all text to lowercase, to further reduce the word population. We will write functions to:\n",
    "* remove punctuation\n",
    "* remove stopwords - we wil make use of the **corupus** package within the **nltk** package to do so."
   ]
  },
  {
   "cell_type": "code",
   "execution_count": 139,
   "metadata": {},
   "outputs": [
    {
     "data": {
      "text/plain": [
       "179"
      ]
     },
     "execution_count": 139,
     "metadata": {},
     "output_type": "execute_result"
    }
   ],
   "source": [
    "from nltk.corpus import stopwords # common words\n",
    "\n",
    "english_stopwords = stopwords.words('english')\n",
    "len(english_stopwords)"
   ]
  },
  {
   "cell_type": "markdown",
   "metadata": {},
   "source": [
    "We can see that overall there are 179 stopwords! These can be removed from the dataset to reduce each message and will ensure smaller feature vectors for use in our machine learning model. Now let's construct a function to remove punctuation from a text, as well as removing the stopwords, and test the function afterwards."
   ]
  },
  {
   "cell_type": "code",
   "execution_count": 143,
   "metadata": {},
   "outputs": [
    {
     "data": {
      "text/plain": [
       "['Im',\n",
       " 'gonna',\n",
       " 'home',\n",
       " 'soon',\n",
       " 'dont',\n",
       " 'want',\n",
       " 'talk',\n",
       " 'stuff',\n",
       " 'anymore',\n",
       " 'tonight',\n",
       " 'k',\n",
       " 'Ive',\n",
       " 'cried',\n",
       " 'enough',\n",
       " 'today']"
      ]
     },
     "execution_count": 143,
     "metadata": {},
     "output_type": "execute_result"
    }
   ],
   "source": [
    "def clean_text(txt: str) -> list:\n",
    "  \"\"\"Method to clean input text (list)\"\"\"\n",
    "  # remove punctuation from the list\n",
    "  no_punc = [char for char in txt if char not in string.punctuation]\n",
    "  \n",
    "  # join the chaaracters with no punctuation to get the original words\n",
    "  no_punc = \"\".join(no_punc)\n",
    "\n",
    "  # remove stopwords\n",
    "  return [word for word in no_punc.split() if word not in english_stopwords]\n",
    "\n",
    "clean_text(sms_messages['message'][10])"
   ]
  },
  {
   "cell_type": "markdown",
   "metadata": {
    "colab": {
     "base_uri": "https://localhost:8080/"
    },
    "id": "CheJbqdlcTaj",
    "outputId": "4dc9327b-0340-4672-848b-fb5598f6c763"
   },
   "source": [
    "We saw earlier the original text has been reduced in size from a string, to a list of strings (words).\n",
    "\n",
    "We will go ahead and apply this **clean_text** function to all of our messages."
   ]
  },
  {
   "cell_type": "code",
   "execution_count": 145,
   "metadata": {},
   "outputs": [],
   "source": [
    "sms_messages['cleaned_message'] = sms_messages['message'].apply(clean_text)"
   ]
  },
  {
   "cell_type": "markdown",
   "metadata": {
    "id": "jhQ6eyoxcnp1"
   },
   "source": [
    "Let's compare the cleaned text to the orignal DataFrame:"
   ]
  },
  {
   "cell_type": "markdown",
   "metadata": {},
   "source": [
    "## 3. Overview of feature selection methods\n",
    "There are many different ways to look at the features of the text message data:\n",
    "* **tokenisation**: we have converted the original text strings into lists of tokens (meaningful words that are free of stopwords and punctuation)\n",
    "* **stemming**: this is the process of reducing a word to its word stem/root form. This is where you would remove affixes to a word, such as  An example of this are ed, -ize, -s, etc. Stems are created when the suffixes/prefixes are removed from the word. Converting our list of words into stems will then give us a vector that we can use with machine learning libraries such as **scikit-learn**."
   ]
  }
 ],
 "metadata": {
  "colab": {
   "collapsed_sections": [],
   "include_colab_link": true,
   "name": "Natural_Language_Processing.ipynb",
   "provenance": []
  },
  "kernelspec": {
   "display_name": "Python 3",
   "language": "python",
   "name": "python3"
  },
  "language_info": {
   "codemirror_mode": {
    "name": "ipython",
    "version": 3
   },
   "file_extension": ".py",
   "mimetype": "text/x-python",
   "name": "python",
   "nbconvert_exporter": "python",
   "pygments_lexer": "ipython3",
   "version": "3.7.3"
  }
 },
 "nbformat": 4,
 "nbformat_minor": 4
}
